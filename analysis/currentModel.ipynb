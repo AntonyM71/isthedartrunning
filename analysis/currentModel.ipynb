{
 "cells": [
  {
   "cell_type": "code",
   "execution_count": 1,
   "metadata": {
    "collapsed": true,
    "deletable": true,
    "editable": true
   },
   "outputs": [],
   "source": [
    "%matplotlib inline\n",
    "\n",
    "import pandas as pd\n",
    "import matplotlib\n",
    "import matplotlib.pyplot as plt\n",
    "import numpy as np\n",
    "import tensorflow as tf\n",
    "import math\n",
    "import random"
   ]
  },
  {
   "cell_type": "code",
   "execution_count": 2,
   "metadata": {
    "collapsed": false,
    "deletable": true,
    "editable": true
   },
   "outputs": [
    {
     "name": "stdout",
     "output_type": "stream",
     "text": [
      "(286272, 2)\n"
     ]
    }
   ],
   "source": [
    "df = pd.read_csv('data.csv')\n",
    "df['timestamp'] = pd.to_datetime(df['timestamp'])\n",
    "df.index = df.timestamp\n",
    "del df['tot_rate']\n",
    "del df['timestamp']\n",
    "df.columns = ['level', 'rain']\n",
    "print df.shape\n",
    "df = df[10000:50000]\n"
   ]
  },
  {
   "cell_type": "code",
   "execution_count": 3,
   "metadata": {
    "collapsed": false,
    "deletable": true,
    "editable": true
   },
   "outputs": [
    {
     "data": {
      "text/html": [
       "<div>\n",
       "<table border=\"1\" class=\"dataframe\">\n",
       "  <thead>\n",
       "    <tr style=\"text-align: right;\">\n",
       "      <th></th>\n",
       "      <th>level</th>\n",
       "      <th>rain</th>\n",
       "    </tr>\n",
       "    <tr>\n",
       "      <th>timestamp</th>\n",
       "      <th></th>\n",
       "      <th></th>\n",
       "    </tr>\n",
       "  </thead>\n",
       "  <tbody>\n",
       "    <tr>\n",
       "      <th>2008-04-14 04:00:00</th>\n",
       "      <td>0.369</td>\n",
       "      <td>0.0</td>\n",
       "    </tr>\n",
       "    <tr>\n",
       "      <th>2008-04-14 04:15:00</th>\n",
       "      <td>0.368</td>\n",
       "      <td>0.0</td>\n",
       "    </tr>\n",
       "    <tr>\n",
       "      <th>2008-04-14 04:30:00</th>\n",
       "      <td>0.368</td>\n",
       "      <td>0.0</td>\n",
       "    </tr>\n",
       "    <tr>\n",
       "      <th>2008-04-14 04:45:00</th>\n",
       "      <td>0.367</td>\n",
       "      <td>0.0</td>\n",
       "    </tr>\n",
       "    <tr>\n",
       "      <th>2008-04-14 05:00:00</th>\n",
       "      <td>0.366</td>\n",
       "      <td>0.0</td>\n",
       "    </tr>\n",
       "  </tbody>\n",
       "</table>\n",
       "</div>"
      ],
      "text/plain": [
       "                     level  rain\n",
       "timestamp                       \n",
       "2008-04-14 04:00:00  0.369   0.0\n",
       "2008-04-14 04:15:00  0.368   0.0\n",
       "2008-04-14 04:30:00  0.368   0.0\n",
       "2008-04-14 04:45:00  0.367   0.0\n",
       "2008-04-14 05:00:00  0.366   0.0"
      ]
     },
     "execution_count": 3,
     "metadata": {},
     "output_type": "execute_result"
    }
   ],
   "source": [
    "df.head()"
   ]
  },
  {
   "cell_type": "code",
   "execution_count": 4,
   "metadata": {
    "collapsed": false,
    "deletable": true,
    "editable": true
   },
   "outputs": [
    {
     "data": {
      "text/plain": [
       "<matplotlib.axes._subplots.AxesSubplot at 0x109ad0810>"
      ]
     },
     "execution_count": 4,
     "metadata": {},
     "output_type": "execute_result"
    },
    {
     "data": {
      "image/png": "[encoded data removed]",
      "text/plain": [
       "<matplotlib.figure.Figure at 0x10b74b410>"
      ]
     },
     "metadata": {},
     "output_type": "display_data"
    }
   ],
   "source": [
    "df.rain.plot()"
   ]
  },
  {
   "cell_type": "markdown",
   "metadata": {
    "deletable": true,
    "editable": true
   },
   "source": [
    "# Define functions and constants for current model"
   ]
  },
  {
   "cell_type": "code",
   "execution_count": 5,
   "metadata": {
    "collapsed": true,
    "deletable": true,
    "editable": true
   },
   "outputs": [],
   "source": [
    "def f(x):\n",
    "    return math.exp(k * x)\n",
    "\n",
    "def g(x):\n",
    "    return (scale_m * x) + scale_a\n",
    "\n",
    "def f_inv(x):\n",
    "    return math.log(x) / k\n",
    "\n",
    "def g_inv(x):\n",
    "    return (x - scale_a) / scale_m"
   ]
  },
  {
   "cell_type": "code",
   "execution_count": 6,
   "metadata": {
    "collapsed": false,
    "deletable": true,
    "editable": true
   },
   "outputs": [],
   "source": [
    "k = 0.07\n",
    "scale_m = 1.943\n",
    "scale_a = 0.263\n",
    "delay = np.timedelta64(60, 'm') # 60 minutes\n"
   ]
  },
  {
   "cell_type": "code",
   "execution_count": 31,
   "metadata": {
    "collapsed": false,
    "deletable": true,
    "editable": true
   },
   "outputs": [
    {
     "name": "stdout",
     "output_type": "stream",
     "text": [
      "2008-04-14 05:15:00\n",
      "2008-04-14 15:15:00\n",
      "2008-04-15 00:00:00\n",
      "2008-04-15 09:15:00\n",
      "2008-04-16 05:00:00\n",
      "2008-04-16 15:30:00\n",
      "2008-04-17 00:15:00\n",
      "2008-04-17 23:15:00\n",
      "2008-04-18 18:45:00\n",
      "2008-04-19 17:45:00\n",
      "2008-04-20 05:45:00\n",
      "2008-04-20 19:30:00\n",
      "2008-04-21 00:30:00\n",
      "2008-04-21 20:15:00\n",
      "2008-04-22 05:45:00\n",
      "2008-04-22 18:45:00\n",
      "2008-04-23 04:00:00\n",
      "2008-04-23 17:45:00\n",
      "2008-04-24 16:45:00\n",
      "2008-04-25 00:15:00\n",
      "2008-04-25 23:15:00\n",
      "2008-04-26 23:45:00\n",
      "2008-04-27 04:15:00\n",
      "2008-04-27 12:45:00\n",
      "2008-04-27 17:15:00\n",
      "2008-04-28 07:15:00\n",
      "2008-04-28 10:30:00\n",
      "2008-04-29 08:45:00\n",
      "2008-04-29 23:15:00\n",
      "2008-04-30 21:30:00\n",
      "2008-05-01 01:45:00\n",
      "2008-05-01 09:45:00\n",
      "2008-05-01 19:15:00\n",
      "2008-05-02 01:15:00\n",
      "2008-05-02 06:45:00\n",
      "2008-05-02 21:45:00\n",
      "2008-05-03 11:45:00\n",
      "2008-05-03 18:45:00\n",
      "2008-05-04 00:30:00\n",
      "2008-05-04 16:00:00\n",
      "2008-05-05 02:30:00\n",
      "2008-05-06 02:15:00\n",
      "2008-05-06 21:30:00\n",
      "2008-05-07 01:30:00\n",
      "2008-05-07 09:00:00\n",
      "2008-05-08 04:00:00\n",
      "2008-05-08 17:30:00\n",
      "2008-05-09 12:00:00\n",
      "2008-05-09 15:00:00\n",
      "2008-05-10 14:00:00\n",
      "2008-05-10 23:15:00\n",
      "2008-05-11 05:30:00\n",
      "2008-05-12 02:45:00\n",
      "2008-05-12 22:15:00\n",
      "2008-05-13 23:15:00\n",
      "2008-05-14 18:45:00\n",
      "2008-05-15 12:45:00\n",
      "2008-05-16 04:45:00\n",
      "2008-05-17 06:00:00\n",
      "2008-05-17 20:30:00\n",
      "2008-05-18 14:15:00\n",
      "2008-05-19 10:15:00\n",
      "2008-05-20 02:15:00\n",
      "2008-05-20 07:00:00\n",
      "2008-05-20 14:30:00\n",
      "2008-05-21 02:15:00\n",
      "2008-05-21 06:15:00\n",
      "2008-05-22 03:00:00\n",
      "2008-05-22 16:15:00\n",
      "2008-05-22 20:15:00\n",
      "2008-05-23 19:45:00\n",
      "2008-05-24 16:30:00\n",
      "2008-05-25 12:15:00\n",
      "2008-05-25 21:45:00\n",
      "2008-05-26 12:00:00\n",
      "2008-05-27 00:00:00\n",
      "2008-05-27 10:00:00\n",
      "2008-05-27 19:30:00\n",
      "2008-05-28 02:45:00\n",
      "2008-05-29 01:45:00\n",
      "2008-05-30 01:30:00\n",
      "2008-05-30 21:15:00\n",
      "2008-05-31 14:30:00\n",
      "2008-06-01 10:15:00\n",
      "2008-06-02 10:45:00\n",
      "2008-06-02 22:45:00\n",
      "2008-06-03 17:45:00\n",
      "2008-06-04 16:45:00\n",
      "2008-06-05 14:45:00\n",
      "2008-06-06 13:45:00\n",
      "2008-06-06 18:15:00\n",
      "2008-06-07 14:45:00\n",
      "2008-06-08 08:30:00\n",
      "2008-06-08 12:30:00\n",
      "2008-06-08 23:15:00\n",
      "2008-06-09 07:15:00\n",
      "2008-06-10 08:30:00\n",
      "2008-06-10 16:15:00\n",
      "2008-06-11 17:15:00\n",
      "2008-06-12 09:15:00\n",
      "2008-06-12 18:30:00\n",
      "2008-06-13 18:15:00\n",
      "2008-06-14 14:30:00\n",
      "2008-06-14 21:45:00\n",
      "2008-06-15 19:30:00\n",
      "2008-06-16 13:00:00\n",
      "2008-06-16 15:45:00\n",
      "2008-06-17 02:15:00\n",
      "2008-06-17 18:30:00\n",
      "2008-06-18 06:30:00\n",
      "2008-06-19 07:45:00\n",
      "2008-06-20 03:30:00\n",
      "2008-06-21 01:30:00\n",
      "2008-06-21 15:30:00\n",
      "2008-06-21 20:30:00\n",
      "2008-06-22 21:30:00\n",
      "2008-06-23 20:00:00\n",
      "2008-06-24 07:45:00\n",
      "2008-06-25 02:45:00\n",
      "2008-06-25 06:00:00\n",
      "2008-06-25 23:00:00\n",
      "2008-06-26 07:30:00\n",
      "2008-06-27 04:30:00\n",
      "2008-06-27 23:45:00\n",
      "2008-06-28 14:00:00\n",
      "2008-06-29 08:15:00\n",
      "2008-06-30 06:30:00\n",
      "2008-06-30 11:30:00\n",
      "2008-07-01 12:45:00\n",
      "2008-07-02 08:15:00\n",
      "2008-07-03 02:00:00\n",
      "2008-07-03 04:45:00\n",
      "2008-07-04 03:30:00\n",
      "2008-07-04 17:00:00\n",
      "2008-07-05 13:15:00\n",
      "2008-07-06 14:15:00\n",
      "2008-07-07 03:00:00\n",
      "2008-07-07 15:15:00\n",
      "2008-07-08 03:15:00\n",
      "2008-07-08 22:00:00\n",
      "2008-07-09 22:00:00\n",
      "2008-07-10 20:15:00\n",
      "2008-07-11 01:45:00\n",
      "2008-07-11 17:30:00\n",
      "2008-07-12 16:45:00\n",
      "2008-07-13 13:00:00\n",
      "2008-07-14 07:30:00\n",
      "2008-07-15 01:00:00\n",
      "2008-07-15 12:00:00\n",
      "2008-07-15 20:00:00\n",
      "2008-07-16 02:45:00\n",
      "2008-07-16 13:00:00\n",
      "2008-07-16 22:30:00\n",
      "2008-07-17 23:15:00\n",
      "2008-07-18 03:15:00\n",
      "2008-07-18 12:15:00\n",
      "2008-07-18 16:00:00\n",
      "2008-07-19 07:30:00\n",
      "2008-07-20 00:00:00\n",
      "2008-07-20 06:00:00\n",
      "2008-07-20 11:00:00\n",
      "2008-07-20 13:45:00\n",
      "2008-07-21 08:15:00\n",
      "2008-07-21 18:00:00\n",
      "2008-07-22 11:45:00\n",
      "2008-07-22 18:00:00\n",
      "2008-07-23 14:45:00\n",
      "2008-07-23 20:15:00\n",
      "2008-07-24 07:15:00\n",
      "2008-07-24 23:15:00\n",
      "2008-07-25 18:15:00\n",
      "2008-07-26 14:15:00\n",
      "2008-07-27 05:15:00\n",
      "2008-07-27 14:00:00\n",
      "2008-07-28 11:00:00\n",
      "2008-07-28 18:15:00\n",
      "2008-07-29 04:00:00\n",
      "2008-07-29 19:30:00\n",
      "2008-07-30 02:00:00\n",
      "2008-07-30 15:30:00\n",
      "2008-07-31 13:30:00\n",
      "2008-08-01 10:45:00\n",
      "2008-08-02 07:00:00\n",
      "2008-08-03 02:15:00\n",
      "2008-08-03 18:00:00\n",
      "2008-08-04 15:30:00\n",
      "2008-08-05 09:15:00\n",
      "2008-08-06 07:30:00\n",
      "2008-08-06 20:15:00\n",
      "2008-08-07 03:30:00\n",
      "2008-08-07 14:30:00\n",
      "2008-08-08 13:15:00\n",
      "2008-08-09 00:00:00\n",
      "2008-08-09 19:15:00\n",
      "2008-08-10 20:00:00\n",
      "2008-08-11 09:30:00\n",
      "2008-08-12 05:30:00\n",
      "2008-08-13 02:45:00\n",
      "2008-08-13 22:00:00\n",
      "2008-08-14 05:45:00\n",
      "2008-08-15 05:00:00\n",
      "2008-08-15 22:30:00\n",
      "2008-08-16 21:00:00\n",
      "2008-08-17 13:30:00\n",
      "2008-08-17 19:45:00\n",
      "2008-08-18 08:00:00\n",
      "2008-08-18 16:15:00\n",
      "2008-08-18 23:15:00\n",
      "2008-08-19 02:30:00\n",
      "2008-08-19 10:30:00\n",
      "2008-08-19 22:30:00\n",
      "2008-08-20 13:45:00\n",
      "2008-08-21 11:30:00\n",
      "2008-08-21 20:00:00\n",
      "2008-08-22 08:30:00\n",
      "2008-08-22 14:30:00\n",
      "2008-08-23 07:15:00\n",
      "2008-08-24 00:15:00\n",
      "2008-08-25 00:00:00\n",
      "2008-08-25 03:15:00\n",
      "2008-08-25 12:45:00\n",
      "2008-08-26 10:00:00\n",
      "2008-08-27 01:45:00\n",
      "2008-08-27 17:00:00\n",
      "2008-08-27 22:45:00\n",
      "2008-08-28 13:30:00\n",
      "2008-08-28 23:15:00\n",
      "2008-08-29 07:15:00\n",
      "2008-08-29 10:00:00\n",
      "2008-08-29 14:15:00\n",
      "2008-08-30 11:30:00\n",
      "2008-08-30 14:15:00\n",
      "2008-08-31 04:00:00\n",
      "2008-08-31 11:00:00\n",
      "2008-09-01 08:45:00\n",
      "2008-09-02 07:30:00\n",
      "2008-09-02 20:15:00\n",
      "2008-09-03 12:30:00\n",
      "2008-09-04 07:15:00\n",
      "2008-09-04 13:15:00\n",
      "2008-09-05 11:00:00\n",
      "2008-09-05 16:15:00\n",
      "2008-09-06 13:45:00\n",
      "2008-09-06 23:15:00\n",
      "2008-09-07 12:45:00\n",
      "2008-09-07 16:00:00\n",
      "2008-09-07 20:00:00\n",
      "2008-09-08 19:15:00\n",
      "2008-09-09 16:45:00\n",
      "2008-09-10 15:00:00\n",
      "2008-09-11 05:30:00\n",
      "2008-09-12 06:30:00\n",
      "2008-09-12 17:30:00\n",
      "2008-09-13 07:45:00\n",
      "2008-09-13 16:00:00\n",
      "2008-09-14 04:30:00\n",
      "2008-09-14 20:15:00\n",
      "2008-09-15 01:00:00\n",
      "2008-09-15 22:30:00\n",
      "2008-09-16 13:00:00\n",
      "2008-09-16 17:45:00\n",
      "2008-09-17 10:00:00\n",
      "2008-09-17 20:15:00\n",
      "2008-09-18 19:00:00\n",
      "2008-09-19 12:00:00\n",
      "2008-09-20 06:00:00\n",
      "2008-09-21 04:15:00\n",
      "2008-09-22 01:00:00\n",
      "2008-09-22 14:15:00\n",
      "2008-09-23 05:15:00\n",
      "2008-09-24 00:00:00\n",
      "2008-09-24 19:15:00\n",
      "2008-09-25 20:15:00\n",
      "2008-09-26 02:45:00\n",
      "2008-09-27 00:45:00\n",
      "2008-09-27 23:45:00\n",
      "2008-09-28 18:15:00\n",
      "2008-09-29 04:00:00\n",
      "2008-09-29 14:15:00\n",
      "2008-09-30 12:30:00\n",
      "2008-10-01 08:30:00\n",
      "2008-10-02 08:15:00\n",
      "2008-10-02 18:30:00\n",
      "2008-10-03 11:30:00\n",
      "2008-10-04 03:15:00\n",
      "2008-10-04 14:30:00\n",
      "2008-10-05 13:15:00\n",
      "2008-10-05 16:15:00\n",
      "2008-10-06 17:30:00\n",
      "2008-10-07 03:45:00\n",
      "2008-10-07 22:15:00\n",
      "2008-10-08 02:30:00\n",
      "2008-10-08 12:45:00\n",
      "2008-10-09 13:45:00\n",
      "2008-10-09 20:00:00\n",
      "2008-10-10 03:15:00\n",
      "2008-10-10 18:30:00\n",
      "2008-10-10 21:15:00\n",
      "2008-10-11 10:15:00\n",
      "2008-10-12 06:30:00\n",
      "2008-10-13 06:00:00\n",
      "2008-10-13 22:30:00\n",
      "2008-10-14 19:45:00\n",
      "2008-10-15 09:30:00\n",
      "2008-10-15 22:00:00\n",
      "2008-10-16 18:15:00\n",
      "2008-10-17 04:15:00\n",
      "2008-10-18 04:30:00\n",
      "2008-10-18 09:30:00\n",
      "2008-10-19 04:00:00\n",
      "2008-10-19 17:45:00\n",
      "2008-10-20 04:00:00\n",
      "2008-10-20 18:00:00\n",
      "2008-10-21 14:30:00\n",
      "2008-10-22 06:45:00\n",
      "2008-10-22 20:45:00\n",
      "2008-10-23 09:30:00\n",
      "2008-10-24 10:15:00\n",
      "2008-10-25 01:45:00\n",
      "2008-10-25 04:30:00\n",
      "2008-10-25 23:45:00\n",
      "2008-10-26 16:15:00\n",
      "2008-10-27 11:30:00\n",
      "2008-10-27 18:45:00\n",
      "2008-10-28 06:15:00\n",
      "2008-10-28 22:00:00\n",
      "2008-10-29 23:15:00\n",
      "2008-10-30 06:45:00\n",
      "2008-10-30 14:00:00\n",
      "2008-10-31 05:45:00\n",
      "2008-10-31 17:45:00\n",
      "2008-11-01 19:00:00\n",
      "2008-11-02 13:00:00\n",
      "2008-11-03 05:00:00\n",
      "2008-11-03 09:30:00\n",
      "2008-11-03 22:30:00\n",
      "2008-11-04 03:15:00\n",
      "2008-11-05 04:00:00\n",
      "2008-11-05 16:00:00\n",
      "2008-11-06 01:30:00\n",
      "2008-11-07 02:00:00\n",
      "2008-11-08 00:15:00\n",
      "2008-11-08 10:45:00\n",
      "2008-11-09 11:00:00\n",
      "2008-11-09 22:00:00\n",
      "2008-11-10 20:45:00\n",
      "2008-11-11 09:00:00\n",
      "2008-11-12 09:15:00\n",
      "2008-11-12 19:30:00\n",
      "2008-11-13 09:45:00\n",
      "2008-11-14 06:00:00\n",
      "2008-11-15 06:15:00\n",
      "2008-11-16 06:15:00\n",
      "2008-11-16 18:15:00\n",
      "2008-11-17 11:00:00\n",
      "2008-11-17 15:00:00\n",
      "2008-11-18 04:15:00\n",
      "2008-11-18 19:00:00\n",
      "2008-11-19 19:30:00\n",
      "2008-11-19 22:15:00\n",
      "2008-11-20 23:00:00\n",
      "2008-11-21 04:45:00\n",
      "2008-11-22 05:45:00\n",
      "2008-11-22 14:45:00\n",
      "2008-11-23 01:45:00\n",
      "2008-11-23 18:15:00\n",
      "2008-11-23 21:15:00\n",
      "2008-11-24 03:00:00\n",
      "2008-11-24 19:15:00\n",
      "2008-11-25 11:45:00\n",
      "2008-11-26 04:30:00\n",
      "2008-11-26 20:45:00\n",
      "2008-11-27 14:30:00\n",
      "2008-11-28 02:30:00\n",
      "2008-11-28 07:00:00\n",
      "2008-11-29 03:45:00\n",
      "2008-11-29 23:45:00\n",
      "2008-12-01 00:00:00\n",
      "2008-12-01 09:15:00\n",
      "2008-12-01 16:00:00\n",
      "2008-12-02 11:00:00\n",
      "2008-12-03 09:15:00\n",
      "2008-12-03 12:00:00\n",
      "2008-12-04 01:30:00\n",
      "2008-12-04 20:15:00\n",
      "2008-12-05 19:30:00\n",
      "2008-12-06 14:45:00\n",
      "2008-12-07 00:15:00\n",
      "2008-12-07 12:15:00\n",
      "2008-12-08 09:00:00\n",
      "2008-12-09 06:45:00\n",
      "2008-12-09 21:15:00\n",
      "2008-12-10 14:30:00\n",
      "2008-12-11 00:15:00\n",
      "2008-12-11 13:30:00\n",
      "2008-12-12 09:30:00\n",
      "2008-12-13 00:45:00\n",
      "2008-12-13 08:30:00\n",
      "2008-12-14 01:15:00\n",
      "2008-12-14 07:00:00\n",
      "2008-12-14 15:45:00\n",
      "2008-12-15 01:45:00\n",
      "2008-12-15 15:45:00\n",
      "2008-12-15 19:30:00\n",
      "2008-12-16 13:30:00\n",
      "2008-12-16 20:00:00\n",
      "2008-12-17 13:30:00\n",
      "2008-12-18 00:30:00\n",
      "2008-12-18 15:00:00\n",
      "2008-12-18 22:45:00\n",
      "2008-12-19 09:30:00\n",
      "2008-12-20 01:00:00\n",
      "2008-12-21 01:45:00\n",
      "2008-12-21 20:45:00\n",
      "2008-12-22 18:00:00\n",
      "2008-12-22 22:15:00\n",
      "2008-12-23 02:30:00\n",
      "2008-12-23 15:00:00\n",
      "2008-12-24 11:45:00\n",
      "2008-12-25 03:15:00\n",
      "2008-12-26 04:15:00\n",
      "2008-12-26 09:15:00\n",
      "2008-12-27 02:15:00\n",
      "2008-12-27 13:15:00\n",
      "2008-12-27 16:00:00\n",
      "2008-12-28 11:30:00\n",
      "2008-12-29 07:15:00\n",
      "2008-12-29 14:15:00\n",
      "2008-12-30 01:45:00\n",
      "2008-12-30 04:45:00\n",
      "2008-12-30 17:45:00\n",
      "2008-12-31 11:45:00\n",
      "2008-12-31 22:30:00\n",
      "2009-01-01 06:30:00\n",
      "2009-01-01 21:45:00\n",
      "2009-01-02 02:00:00\n",
      "2009-01-02 16:00:00\n",
      "2009-01-03 11:30:00\n",
      "2009-01-03 18:45:00\n",
      "2009-01-04 09:45:00\n",
      "2009-01-05 07:15:00\n",
      "2009-01-05 23:30:00\n",
      "2009-01-06 02:30:00\n",
      "2009-01-06 06:45:00\n",
      "2009-01-06 21:30:00\n",
      "2009-01-07 02:00:00\n",
      "2009-01-07 16:45:00\n",
      "2009-01-07 23:45:00\n",
      "2009-01-08 10:45:00\n",
      "2009-01-09 03:15:00\n",
      "2009-01-09 13:30:00\n",
      "2009-01-10 10:45:00\n",
      "2009-01-10 23:00:00\n",
      "2009-01-11 08:00:00\n",
      "2009-01-11 22:45:00\n",
      "2009-01-12 10:15:00\n",
      "2009-01-12 15:30:00\n",
      "2009-01-13 09:00:00\n",
      "2009-01-13 17:15:00\n",
      "2009-01-13 22:15:00\n",
      "2009-01-14 22:30:00\n",
      "2009-01-15 09:45:00\n",
      "2009-01-15 13:30:00\n",
      "2009-01-15 16:15:00\n",
      "2009-01-16 13:00:00\n",
      "2009-01-17 10:45:00\n",
      "2009-01-17 19:15:00\n",
      "2009-01-18 04:30:00\n",
      "2009-01-19 01:45:00\n",
      "2009-01-19 09:30:00\n",
      "2009-01-20 07:30:00\n",
      "2009-01-20 17:30:00\n",
      "2009-01-21 03:15:00\n",
      "2009-01-21 11:00:00\n",
      "2009-01-22 05:45:00\n",
      "2009-01-23 00:00:00\n",
      "2009-01-23 10:15:00\n",
      "2009-01-23 23:45:00\n",
      "2009-01-24 05:45:00\n",
      "2009-01-25 02:30:00\n",
      "2009-01-25 21:00:00\n",
      "2009-01-26 16:15:00\n",
      "2009-01-27 13:45:00\n",
      "2009-01-28 07:45:00\n",
      "2009-01-29 04:30:00\n",
      "2009-01-29 16:00:00\n",
      "2009-01-30 08:45:00\n",
      "2009-01-31 09:00:00\n",
      "2009-01-31 12:00:00\n",
      "2009-02-01 05:00:00\n",
      "2009-02-02 01:00:00\n",
      "2009-02-02 22:30:00\n",
      "2009-02-03 03:45:00\n",
      "2009-02-03 15:30:00\n",
      "2009-02-04 02:15:00\n",
      "2009-02-04 06:45:00\n",
      "2009-02-04 19:15:00\n",
      "2009-02-05 03:15:00\n",
      "2009-02-05 13:30:00\n",
      "2009-02-06 14:30:00\n",
      "2009-02-06 22:15:00\n",
      "2009-02-07 05:00:00\n",
      "2009-02-07 16:45:00\n",
      "2009-02-08 04:45:00\n",
      "2009-02-08 15:30:00\n",
      "2009-02-08 19:30:00\n",
      "2009-02-09 16:15:00\n",
      "2009-02-10 17:00:00\n",
      "2009-02-11 13:30:00\n",
      "2009-02-11 19:00:00\n",
      "2009-02-12 06:45:00\n",
      "2009-02-12 10:30:00\n",
      "2009-02-13 02:30:00\n",
      "2009-02-13 09:00:00\n",
      "2009-02-13 17:30:00\n",
      "2009-02-14 04:15:00\n",
      "2009-02-15 03:45:00\n",
      "2009-02-15 14:15:00\n",
      "2009-02-15 17:30:00\n",
      "2009-02-16 14:45:00\n",
      "2009-02-16 21:00:00\n",
      "2009-02-17 09:00:00\n",
      "2009-02-17 14:00:00\n",
      "2009-02-18 08:15:00\n",
      "2009-02-19 05:00:00\n",
      "2009-02-19 16:45:00\n",
      "2009-02-20 12:30:00\n",
      "2009-02-21 04:30:00\n",
      "2009-02-21 10:15:00\n",
      "2009-02-21 19:30:00\n",
      "2009-02-22 05:45:00\n",
      "2009-02-22 20:15:00\n",
      "2009-02-23 14:45:00\n",
      "2009-02-24 07:00:00\n",
      "2009-02-25 00:45:00\n",
      "2009-02-25 07:45:00\n",
      "2009-02-26 07:45:00\n",
      "2009-02-26 13:45:00\n",
      "2009-02-27 03:15:00\n",
      "2009-02-27 20:30:00\n",
      "2009-02-28 04:15:00\n",
      "2009-02-28 07:00:00\n",
      "2009-03-01 05:30:00\n",
      "2009-03-02 01:00:00\n",
      "2009-03-02 22:15:00\n",
      "2009-03-03 23:30:00\n",
      "2009-03-04 10:45:00\n",
      "2009-03-05 07:15:00\n",
      "2009-03-06 01:30:00\n",
      "2009-03-06 21:45:00\n",
      "2009-03-07 22:30:00\n",
      "2009-03-08 18:45:00\n",
      "2009-03-09 03:00:00\n",
      "2009-03-09 16:30:00\n",
      "2009-03-09 21:15:00\n",
      "2009-03-10 03:45:00\n",
      "2009-03-10 12:15:00\n",
      "2009-03-10 16:30:00\n",
      "2009-03-11 04:30:00\n",
      "2009-03-11 14:30:00\n",
      "2009-03-11 19:15:00\n",
      "2009-03-12 12:45:00\n",
      "2009-03-12 18:00:00\n",
      "2009-03-13 05:45:00\n",
      "2009-03-13 11:00:00\n",
      "2009-03-14 00:15:00\n",
      "2009-03-14 21:15:00\n",
      "2009-03-15 18:30:00\n",
      "2009-03-16 16:45:00\n",
      "2009-03-17 07:15:00\n",
      "2009-03-17 11:45:00\n",
      "2009-03-18 12:15:00\n",
      "2009-03-19 10:45:00\n",
      "2009-03-19 15:00:00\n",
      "2009-03-20 02:00:00\n",
      "2009-03-20 22:15:00\n",
      "2009-03-21 17:30:00\n",
      "2009-03-22 16:15:00\n",
      "2009-03-23 00:45:00\n",
      "2009-03-23 19:15:00\n",
      "2009-03-24 11:15:00\n",
      "2009-03-24 23:30:00\n",
      "2009-03-25 08:00:00\n",
      "2009-03-26 06:45:00\n",
      "2009-03-26 10:30:00\n",
      "2009-03-26 20:00:00\n",
      "2009-03-27 18:45:00\n",
      "2009-03-28 16:30:00\n",
      "2009-03-29 04:15:00\n",
      "2009-03-29 17:30:00\n",
      "2009-03-30 11:45:00\n",
      "2009-03-31 06:15:00\n",
      "2009-03-31 19:15:00\n",
      "2009-04-01 05:45:00\n",
      "2009-04-01 13:15:00\n",
      "2009-04-01 16:00:00\n",
      "2009-04-02 02:00:00\n",
      "2009-04-02 18:00:00\n",
      "2009-04-03 00:30:00\n",
      "2009-04-03 12:00:00\n",
      "2009-04-04 07:45:00\n",
      "2009-04-04 23:15:00\n",
      "2009-04-05 21:30:00\n",
      "2009-04-06 13:30:00\n",
      "2009-04-07 10:30:00\n",
      "2009-04-08 11:30:00\n",
      "2009-04-09 08:30:00\n",
      "2009-04-09 18:00:00\n",
      "2009-04-10 07:30:00\n",
      "2009-04-10 19:45:00\n",
      "2009-04-11 20:45:00\n",
      "2009-04-12 13:00:00\n",
      "2009-04-12 16:15:00\n",
      "2009-04-13 09:30:00\n",
      "2009-04-13 15:15:00\n",
      "2009-04-14 12:15:00\n",
      "2009-04-14 19:45:00\n",
      "2009-04-15 10:45:00\n",
      "2009-04-16 06:45:00\n",
      "2009-04-17 02:30:00\n",
      "2009-04-18 01:45:00\n",
      "2009-04-18 08:45:00\n",
      "2009-04-18 13:00:00\n",
      "2009-04-19 11:15:00\n",
      "2009-04-19 16:45:00\n",
      "2009-04-20 09:15:00\n",
      "2009-04-21 09:00:00\n",
      "2009-04-21 23:45:00\n",
      "2009-04-22 03:30:00\n",
      "2009-04-22 09:15:00\n",
      "2009-04-23 07:45:00\n",
      "2009-04-24 03:00:00\n",
      "2009-04-24 09:45:00\n",
      "2009-04-25 02:00:00\n",
      "2009-04-25 08:00:00\n",
      "2009-04-26 08:00:00\n",
      "2009-04-26 20:45:00\n",
      "2009-04-27 04:30:00\n",
      "2009-04-27 14:15:00\n",
      "2009-04-27 23:00:00\n",
      "2009-04-28 18:45:00\n",
      "2009-04-29 16:45:00\n",
      "2009-04-29 20:00:00\n",
      "2009-04-30 12:30:00\n",
      "2009-04-30 15:45:00\n",
      "2009-05-01 04:30:00\n",
      "2009-05-01 20:00:00\n",
      "2009-05-02 02:45:00\n",
      "2009-05-02 11:30:00\n",
      "2009-05-02 14:15:00\n",
      "2009-05-03 03:15:00\n",
      "2009-05-03 15:30:00\n",
      "2009-05-04 01:15:00\n",
      "2009-05-04 18:30:00\n",
      "2009-05-05 18:00:00\n",
      "2009-05-06 05:15:00\n",
      "2009-05-06 09:15:00\n",
      "2009-05-06 21:30:00\n",
      "2009-05-07 06:00:00\n",
      "2009-05-08 06:45:00\n",
      "2009-05-08 15:15:00\n",
      "2009-05-09 09:45:00\n",
      "2009-05-09 17:00:00\n",
      "2009-05-09 21:15:00\n",
      "2009-05-10 08:45:00\n",
      "2009-05-10 21:45:00\n",
      "2009-05-11 13:15:00\n",
      "2009-05-12 06:45:00\n",
      "2009-05-12 21:30:00\n",
      "2009-05-13 11:30:00\n",
      "2009-05-13 16:00:00\n",
      "2009-05-14 00:15:00\n",
      "2009-05-14 19:00:00\n",
      "2009-05-15 17:30:00\n",
      "2009-05-15 21:15:00\n",
      "2009-05-16 03:30:00\n",
      "2009-05-16 18:30:00\n",
      "2009-05-17 03:15:00\n",
      "2009-05-17 14:00:00\n",
      "2009-05-18 08:30:00\n",
      "2009-05-19 09:15:00\n",
      "2009-05-20 01:30:00\n",
      "2009-05-20 18:45:00\n",
      "2009-05-20 23:45:00\n",
      "2009-05-21 18:30:00\n",
      "2009-05-21 22:30:00\n",
      "2009-05-22 11:00:00\n",
      "2009-05-23 11:15:00\n",
      "2009-05-24 02:15:00\n",
      "2009-05-24 23:30:00\n",
      "2009-05-25 15:30:00\n",
      "2009-05-25 19:45:00\n",
      "2009-05-26 01:00:00\n",
      "2009-05-26 19:00:00\n",
      "2009-05-27 15:15:00\n",
      "2009-05-28 02:00:00\n",
      "2009-05-28 12:00:00\n",
      "2009-05-29 04:45:00\n",
      "2009-05-29 12:15:00\n",
      "2009-05-30 01:45:00\n",
      "2009-05-30 23:45:00\n",
      "2009-05-31 18:15:00\n",
      "2009-06-01 03:15:00\n",
      "2009-06-02 04:00:00\n",
      "2009-06-02 22:15:00\n",
      "2009-06-03 03:15:00\n",
      "2009-06-03 16:00:00\n",
      "2009-06-04 17:15:00\n"
     ]
    }
   ],
   "source": [
    "\n",
    "def model_H():\n",
    "    df['storage'] = None\n",
    "    df['time_since_update'] = None\n",
    "    df['last_update'] = None\n",
    "    storage = -30\n",
    "\n",
    "    update = 0\n",
    "    time_since_update = 0\n",
    "    for i, r in df[5:].iterrows():\n",
    "        if time_since_update >= update:\n",
    "            recorded_level = df.loc[i, 'level']\n",
    "            storage = f_inv(g_inv(recorded_level))\n",
    "            predict = recorded_level\n",
    "            update = random.randint(10,100)\n",
    "            print i\n",
    "            time_since_update = 0\n",
    "        else:\n",
    "            predict = g(f(storage))\n",
    "            time_since_update = time_since_update + 1\n",
    "\n",
    "        rain = df.loc[i - delay, 'rain']\n",
    "        storage = storage + rain - f(storage)\n",
    "\n",
    "        df.loc[i, 'storage'] = storage\n",
    "        df.loc[i, 'predict'] = predict\n",
    "        df.loc[i, 'time_since_update'] = time_since_update\n",
    "        df.loc[i, 'last_update'] = recorded_level\n",
    "\n",
    "        \n",
    "model_H()"
   ]
  },
  {
   "cell_type": "code",
   "execution_count": 17,
   "metadata": {
    "collapsed": false,
    "deletable": true,
    "editable": true
   },
   "outputs": [],
   "source": [
    "cost = ((df[6:].predict - df[6:].level) ** 2).sum() / df[6:].shape[0]"
   ]
  },
  {
   "cell_type": "code",
   "execution_count": 18,
   "metadata": {
    "collapsed": false,
    "deletable": true,
    "editable": true
   },
   "outputs": [
    {
     "data": {
      "text/plain": [
       "<matplotlib.axes._subplots.AxesSubplot at 0x10c0c6bd0>"
      ]
     },
     "execution_count": 18,
     "metadata": {},
     "output_type": "execute_result"
    },
    {
     "data": {
      "image/png": "[encoded data removed]",
      "text/plain": [
       "<matplotlib.figure.Figure at 0x10c2e2e10>"
      ]
     },
     "metadata": {},
     "output_type": "display_data"
    }
   ],
   "source": [
    "df[['level', 'predict']].plot()"
   ]
  },
  {
   "cell_type": "code",
   "execution_count": 19,
   "metadata": {
    "collapsed": false,
    "deletable": true,
    "editable": true
   },
   "outputs": [
    {
     "name": "stdout",
     "output_type": "stream",
     "text": [
      "0.939693754889\n",
      "0.00355330299698\n"
     ]
    }
   ],
   "source": [
    "tot = ((df[6:].level - df[6:].level.mean())**2).sum()\n",
    "res = ((df[6:].predict - df[6:].level)**2).sum()\n",
    "cost = ((df[6:].predict - df[6:].level) ** 2).sum() / df[6:].shape[0]\n",
    "print 1 - (res/tot)\n",
    "print cost"
   ]
  },
  {
   "cell_type": "code",
   "execution_count": 20,
   "metadata": {
    "collapsed": false,
    "deletable": true,
    "editable": true
   },
   "outputs": [],
   "source": [
    "# Backcalculate actual 'storage' values\n",
    "df['storage_actual'] = df['level'].apply(lambda x: f_inv(g_inv(x)))"
   ]
  },
  {
   "cell_type": "code",
   "execution_count": 10,
   "metadata": {
    "collapsed": false,
    "deletable": true,
    "editable": true
   },
   "outputs": [
    {
     "data": {
      "text/html": [
       "<div>\n",
       "<table border=\"1\" class=\"dataframe\">\n",
       "  <thead>\n",
       "    <tr style=\"text-align: right;\">\n",
       "      <th></th>\n",
       "      <th>level</th>\n",
       "      <th>rain</th>\n",
       "      <th>storage</th>\n",
       "      <th>time_since_update</th>\n",
       "      <th>predict</th>\n",
       "    </tr>\n",
       "    <tr>\n",
       "      <th>timestamp</th>\n",
       "      <th></th>\n",
       "      <th></th>\n",
       "      <th></th>\n",
       "      <th></th>\n",
       "      <th></th>\n",
       "    </tr>\n",
       "  </thead>\n",
       "  <tbody>\n",
       "    <tr>\n",
       "      <th>2008-04-14 04:00:00</th>\n",
       "      <td>0.369</td>\n",
       "      <td>0.0</td>\n",
       "      <td>None</td>\n",
       "      <td>None</td>\n",
       "      <td>NaN</td>\n",
       "    </tr>\n",
       "    <tr>\n",
       "      <th>2008-04-14 04:15:00</th>\n",
       "      <td>0.368</td>\n",
       "      <td>0.0</td>\n",
       "      <td>None</td>\n",
       "      <td>None</td>\n",
       "      <td>NaN</td>\n",
       "    </tr>\n",
       "    <tr>\n",
       "      <th>2008-04-14 04:30:00</th>\n",
       "      <td>0.368</td>\n",
       "      <td>0.0</td>\n",
       "      <td>None</td>\n",
       "      <td>None</td>\n",
       "      <td>NaN</td>\n",
       "    </tr>\n",
       "    <tr>\n",
       "      <th>2008-04-14 04:45:00</th>\n",
       "      <td>0.367</td>\n",
       "      <td>0.0</td>\n",
       "      <td>None</td>\n",
       "      <td>None</td>\n",
       "      <td>NaN</td>\n",
       "    </tr>\n",
       "    <tr>\n",
       "      <th>2008-04-14 05:00:00</th>\n",
       "      <td>0.366</td>\n",
       "      <td>0.0</td>\n",
       "      <td>None</td>\n",
       "      <td>None</td>\n",
       "      <td>NaN</td>\n",
       "    </tr>\n",
       "    <tr>\n",
       "      <th>2008-04-14 05:15:00</th>\n",
       "      <td>0.366</td>\n",
       "      <td>0.0</td>\n",
       "      <td>-42.0139</td>\n",
       "      <td>0</td>\n",
       "      <td>0.366000</td>\n",
       "    </tr>\n",
       "    <tr>\n",
       "      <th>2008-04-14 05:30:00</th>\n",
       "      <td>0.365</td>\n",
       "      <td>0.0</td>\n",
       "      <td>-42.0667</td>\n",
       "      <td>1</td>\n",
       "      <td>0.365619</td>\n",
       "    </tr>\n",
       "    <tr>\n",
       "      <th>2008-04-14 05:45:00</th>\n",
       "      <td>0.364</td>\n",
       "      <td>0.0</td>\n",
       "      <td>-42.1193</td>\n",
       "      <td>2</td>\n",
       "      <td>0.365240</td>\n",
       "    </tr>\n",
       "    <tr>\n",
       "      <th>2008-04-14 06:00:00</th>\n",
       "      <td>0.364</td>\n",
       "      <td>0.0</td>\n",
       "      <td>-42.1717</td>\n",
       "      <td>3</td>\n",
       "      <td>0.364864</td>\n",
       "    </tr>\n",
       "    <tr>\n",
       "      <th>2008-04-14 06:15:00</th>\n",
       "      <td>0.363</td>\n",
       "      <td>0.0</td>\n",
       "      <td>-42.224</td>\n",
       "      <td>4</td>\n",
       "      <td>0.364491</td>\n",
       "    </tr>\n",
       "    <tr>\n",
       "      <th>2008-04-14 06:30:00</th>\n",
       "      <td>0.362</td>\n",
       "      <td>0.0</td>\n",
       "      <td>-42.276</td>\n",
       "      <td>5</td>\n",
       "      <td>0.364120</td>\n",
       "    </tr>\n",
       "    <tr>\n",
       "      <th>2008-04-14 06:45:00</th>\n",
       "      <td>0.362</td>\n",
       "      <td>0.0</td>\n",
       "      <td>-42.3279</td>\n",
       "      <td>6</td>\n",
       "      <td>0.363753</td>\n",
       "    </tr>\n",
       "    <tr>\n",
       "      <th>2008-04-14 07:00:00</th>\n",
       "      <td>0.361</td>\n",
       "      <td>0.0</td>\n",
       "      <td>-42.3795</td>\n",
       "      <td>7</td>\n",
       "      <td>0.363388</td>\n",
       "    </tr>\n",
       "    <tr>\n",
       "      <th>2008-04-14 07:15:00</th>\n",
       "      <td>0.361</td>\n",
       "      <td>0.0</td>\n",
       "      <td>-42.431</td>\n",
       "      <td>8</td>\n",
       "      <td>0.363025</td>\n",
       "    </tr>\n",
       "    <tr>\n",
       "      <th>2008-04-14 07:30:00</th>\n",
       "      <td>0.360</td>\n",
       "      <td>0.0</td>\n",
       "      <td>-42.4823</td>\n",
       "      <td>9</td>\n",
       "      <td>0.362665</td>\n",
       "    </tr>\n",
       "    <tr>\n",
       "      <th>2008-04-14 07:45:00</th>\n",
       "      <td>0.360</td>\n",
       "      <td>0.0</td>\n",
       "      <td>-42.5334</td>\n",
       "      <td>10</td>\n",
       "      <td>0.362308</td>\n",
       "    </tr>\n",
       "    <tr>\n",
       "      <th>2008-04-14 08:00:00</th>\n",
       "      <td>0.359</td>\n",
       "      <td>0.0</td>\n",
       "      <td>-42.5843</td>\n",
       "      <td>11</td>\n",
       "      <td>0.361954</td>\n",
       "    </tr>\n",
       "    <tr>\n",
       "      <th>2008-04-14 08:15:00</th>\n",
       "      <td>0.359</td>\n",
       "      <td>0.0</td>\n",
       "      <td>-42.6351</td>\n",
       "      <td>12</td>\n",
       "      <td>0.361601</td>\n",
       "    </tr>\n",
       "    <tr>\n",
       "      <th>2008-04-14 08:30:00</th>\n",
       "      <td>0.358</td>\n",
       "      <td>0.0</td>\n",
       "      <td>-42.6856</td>\n",
       "      <td>13</td>\n",
       "      <td>0.361252</td>\n",
       "    </tr>\n",
       "    <tr>\n",
       "      <th>2008-04-14 08:45:00</th>\n",
       "      <td>0.358</td>\n",
       "      <td>0.0</td>\n",
       "      <td>-42.736</td>\n",
       "      <td>14</td>\n",
       "      <td>0.360905</td>\n",
       "    </tr>\n",
       "    <tr>\n",
       "      <th>2008-04-14 09:00:00</th>\n",
       "      <td>0.357</td>\n",
       "      <td>0.0</td>\n",
       "      <td>-42.7862</td>\n",
       "      <td>15</td>\n",
       "      <td>0.360560</td>\n",
       "    </tr>\n",
       "    <tr>\n",
       "      <th>2008-04-14 09:15:00</th>\n",
       "      <td>0.356</td>\n",
       "      <td>0.0</td>\n",
       "      <td>-42.8363</td>\n",
       "      <td>16</td>\n",
       "      <td>0.360218</td>\n",
       "    </tr>\n",
       "    <tr>\n",
       "      <th>2008-04-14 09:30:00</th>\n",
       "      <td>0.356</td>\n",
       "      <td>0.0</td>\n",
       "      <td>-42.8861</td>\n",
       "      <td>17</td>\n",
       "      <td>0.359878</td>\n",
       "    </tr>\n",
       "    <tr>\n",
       "      <th>2008-04-14 09:45:00</th>\n",
       "      <td>0.355</td>\n",
       "      <td>0.0</td>\n",
       "      <td>-42.9358</td>\n",
       "      <td>18</td>\n",
       "      <td>0.359540</td>\n",
       "    </tr>\n",
       "    <tr>\n",
       "      <th>2008-04-14 10:00:00</th>\n",
       "      <td>0.355</td>\n",
       "      <td>0.0</td>\n",
       "      <td>-42.9853</td>\n",
       "      <td>19</td>\n",
       "      <td>0.359205</td>\n",
       "    </tr>\n",
       "    <tr>\n",
       "      <th>2008-04-14 10:15:00</th>\n",
       "      <td>0.354</td>\n",
       "      <td>0.0</td>\n",
       "      <td>-43.0347</td>\n",
       "      <td>20</td>\n",
       "      <td>0.358872</td>\n",
       "    </tr>\n",
       "    <tr>\n",
       "      <th>2008-04-14 10:30:00</th>\n",
       "      <td>0.354</td>\n",
       "      <td>0.0</td>\n",
       "      <td>-43.0839</td>\n",
       "      <td>21</td>\n",
       "      <td>0.358542</td>\n",
       "    </tr>\n",
       "    <tr>\n",
       "      <th>2008-04-14 10:45:00</th>\n",
       "      <td>0.354</td>\n",
       "      <td>0.0</td>\n",
       "      <td>-43.1329</td>\n",
       "      <td>22</td>\n",
       "      <td>0.358213</td>\n",
       "    </tr>\n",
       "    <tr>\n",
       "      <th>2008-04-14 11:00:00</th>\n",
       "      <td>0.354</td>\n",
       "      <td>0.0</td>\n",
       "      <td>-43.1817</td>\n",
       "      <td>23</td>\n",
       "      <td>0.357887</td>\n",
       "    </tr>\n",
       "    <tr>\n",
       "      <th>2008-04-14 11:15:00</th>\n",
       "      <td>0.353</td>\n",
       "      <td>0.0</td>\n",
       "      <td>-43.2304</td>\n",
       "      <td>24</td>\n",
       "      <td>0.357563</td>\n",
       "    </tr>\n",
       "    <tr>\n",
       "      <th>2008-04-14 11:30:00</th>\n",
       "      <td>0.353</td>\n",
       "      <td>0.0</td>\n",
       "      <td>-43.2789</td>\n",
       "      <td>25</td>\n",
       "      <td>0.357242</td>\n",
       "    </tr>\n",
       "    <tr>\n",
       "      <th>2008-04-14 11:45:00</th>\n",
       "      <td>0.352</td>\n",
       "      <td>0.0</td>\n",
       "      <td>-43.3272</td>\n",
       "      <td>26</td>\n",
       "      <td>0.356922</td>\n",
       "    </tr>\n",
       "    <tr>\n",
       "      <th>2008-04-14 12:00:00</th>\n",
       "      <td>0.352</td>\n",
       "      <td>0.0</td>\n",
       "      <td>-43.3754</td>\n",
       "      <td>27</td>\n",
       "      <td>0.356605</td>\n",
       "    </tr>\n",
       "    <tr>\n",
       "      <th>2008-04-14 12:15:00</th>\n",
       "      <td>0.352</td>\n",
       "      <td>0.0</td>\n",
       "      <td>-43.4234</td>\n",
       "      <td>28</td>\n",
       "      <td>0.356290</td>\n",
       "    </tr>\n",
       "    <tr>\n",
       "      <th>2008-04-14 12:30:00</th>\n",
       "      <td>0.351</td>\n",
       "      <td>0.0</td>\n",
       "      <td>-43.4712</td>\n",
       "      <td>29</td>\n",
       "      <td>0.355977</td>\n",
       "    </tr>\n",
       "    <tr>\n",
       "      <th>2008-04-14 12:45:00</th>\n",
       "      <td>0.350</td>\n",
       "      <td>0.0</td>\n",
       "      <td>-43.5189</td>\n",
       "      <td>30</td>\n",
       "      <td>0.355666</td>\n",
       "    </tr>\n",
       "    <tr>\n",
       "      <th>2008-04-14 13:00:00</th>\n",
       "      <td>0.351</td>\n",
       "      <td>0.0</td>\n",
       "      <td>-43.5665</td>\n",
       "      <td>31</td>\n",
       "      <td>0.355357</td>\n",
       "    </tr>\n",
       "    <tr>\n",
       "      <th>2008-04-14 13:15:00</th>\n",
       "      <td>0.350</td>\n",
       "      <td>0.0</td>\n",
       "      <td>-43.6138</td>\n",
       "      <td>32</td>\n",
       "      <td>0.355050</td>\n",
       "    </tr>\n",
       "    <tr>\n",
       "      <th>2008-04-14 13:30:00</th>\n",
       "      <td>0.350</td>\n",
       "      <td>0.0</td>\n",
       "      <td>-43.6611</td>\n",
       "      <td>33</td>\n",
       "      <td>0.354746</td>\n",
       "    </tr>\n",
       "    <tr>\n",
       "      <th>2008-04-14 13:45:00</th>\n",
       "      <td>0.348</td>\n",
       "      <td>0.0</td>\n",
       "      <td>-43.7081</td>\n",
       "      <td>34</td>\n",
       "      <td>0.354443</td>\n",
       "    </tr>\n",
       "    <tr>\n",
       "      <th>2008-04-14 14:00:00</th>\n",
       "      <td>0.348</td>\n",
       "      <td>0.0</td>\n",
       "      <td>-43.755</td>\n",
       "      <td>35</td>\n",
       "      <td>0.354142</td>\n",
       "    </tr>\n",
       "    <tr>\n",
       "      <th>2008-04-14 14:15:00</th>\n",
       "      <td>0.348</td>\n",
       "      <td>0.0</td>\n",
       "      <td>-43.8018</td>\n",
       "      <td>36</td>\n",
       "      <td>0.353843</td>\n",
       "    </tr>\n",
       "    <tr>\n",
       "      <th>2008-04-14 14:30:00</th>\n",
       "      <td>0.348</td>\n",
       "      <td>0.0</td>\n",
       "      <td>-43.8484</td>\n",
       "      <td>37</td>\n",
       "      <td>0.353546</td>\n",
       "    </tr>\n",
       "    <tr>\n",
       "      <th>2008-04-14 14:45:00</th>\n",
       "      <td>0.348</td>\n",
       "      <td>0.0</td>\n",
       "      <td>-43.8948</td>\n",
       "      <td>38</td>\n",
       "      <td>0.353252</td>\n",
       "    </tr>\n",
       "    <tr>\n",
       "      <th>2008-04-14 15:00:00</th>\n",
       "      <td>0.347</td>\n",
       "      <td>0.0</td>\n",
       "      <td>-43.9411</td>\n",
       "      <td>39</td>\n",
       "      <td>0.352959</td>\n",
       "    </tr>\n",
       "    <tr>\n",
       "      <th>2008-04-14 15:15:00</th>\n",
       "      <td>0.347</td>\n",
       "      <td>0.0</td>\n",
       "      <td>-43.9873</td>\n",
       "      <td>40</td>\n",
       "      <td>0.352668</td>\n",
       "    </tr>\n",
       "    <tr>\n",
       "      <th>2008-04-14 15:30:00</th>\n",
       "      <td>0.347</td>\n",
       "      <td>0.0</td>\n",
       "      <td>-44.0333</td>\n",
       "      <td>41</td>\n",
       "      <td>0.352378</td>\n",
       "    </tr>\n",
       "    <tr>\n",
       "      <th>2008-04-14 15:45:00</th>\n",
       "      <td>0.346</td>\n",
       "      <td>0.0</td>\n",
       "      <td>-44.0791</td>\n",
       "      <td>42</td>\n",
       "      <td>0.352091</td>\n",
       "    </tr>\n",
       "    <tr>\n",
       "      <th>2008-04-14 16:00:00</th>\n",
       "      <td>0.345</td>\n",
       "      <td>0.0</td>\n",
       "      <td>-44.1248</td>\n",
       "      <td>43</td>\n",
       "      <td>0.351806</td>\n",
       "    </tr>\n",
       "    <tr>\n",
       "      <th>2008-04-14 16:15:00</th>\n",
       "      <td>0.345</td>\n",
       "      <td>0.0</td>\n",
       "      <td>-44.1704</td>\n",
       "      <td>44</td>\n",
       "      <td>0.351522</td>\n",
       "    </tr>\n",
       "  </tbody>\n",
       "</table>\n",
       "</div>"
      ],
      "text/plain": [
       "                     level  rain  storage time_since_update   predict\n",
       "timestamp                                                            \n",
       "2008-04-14 04:00:00  0.369   0.0     None              None       NaN\n",
       "2008-04-14 04:15:00  0.368   0.0     None              None       NaN\n",
       "2008-04-14 04:30:00  0.368   0.0     None              None       NaN\n",
       "2008-04-14 04:45:00  0.367   0.0     None              None       NaN\n",
       "2008-04-14 05:00:00  0.366   0.0     None              None       NaN\n",
       "2008-04-14 05:15:00  0.366   0.0 -42.0139                 0  0.366000\n",
       "2008-04-14 05:30:00  0.365   0.0 -42.0667                 1  0.365619\n",
       "2008-04-14 05:45:00  0.364   0.0 -42.1193                 2  0.365240\n",
       "2008-04-14 06:00:00  0.364   0.0 -42.1717                 3  0.364864\n",
       "2008-04-14 06:15:00  0.363   0.0  -42.224                 4  0.364491\n",
       "2008-04-14 06:30:00  0.362   0.0  -42.276                 5  0.364120\n",
       "2008-04-14 06:45:00  0.362   0.0 -42.3279                 6  0.363753\n",
       "2008-04-14 07:00:00  0.361   0.0 -42.3795                 7  0.363388\n",
       "2008-04-14 07:15:00  0.361   0.0  -42.431                 8  0.363025\n",
       "2008-04-14 07:30:00  0.360   0.0 -42.4823                 9  0.362665\n",
       "2008-04-14 07:45:00  0.360   0.0 -42.5334                10  0.362308\n",
       "2008-04-14 08:00:00  0.359   0.0 -42.5843                11  0.361954\n",
       "2008-04-14 08:15:00  0.359   0.0 -42.6351                12  0.361601\n",
       "2008-04-14 08:30:00  0.358   0.0 -42.6856                13  0.361252\n",
       "2008-04-14 08:45:00  0.358   0.0  -42.736                14  0.360905\n",
       "2008-04-14 09:00:00  0.357   0.0 -42.7862                15  0.360560\n",
       "2008-04-14 09:15:00  0.356   0.0 -42.8363                16  0.360218\n",
       "2008-04-14 09:30:00  0.356   0.0 -42.8861                17  0.359878\n",
       "2008-04-14 09:45:00  0.355   0.0 -42.9358                18  0.359540\n",
       "2008-04-14 10:00:00  0.355   0.0 -42.9853                19  0.359205\n",
       "2008-04-14 10:15:00  0.354   0.0 -43.0347                20  0.358872\n",
       "2008-04-14 10:30:00  0.354   0.0 -43.0839                21  0.358542\n",
       "2008-04-14 10:45:00  0.354   0.0 -43.1329                22  0.358213\n",
       "2008-04-14 11:00:00  0.354   0.0 -43.1817                23  0.357887\n",
       "2008-04-14 11:15:00  0.353   0.0 -43.2304                24  0.357563\n",
       "2008-04-14 11:30:00  0.353   0.0 -43.2789                25  0.357242\n",
       "2008-04-14 11:45:00  0.352   0.0 -43.3272                26  0.356922\n",
       "2008-04-14 12:00:00  0.352   0.0 -43.3754                27  0.356605\n",
       "2008-04-14 12:15:00  0.352   0.0 -43.4234                28  0.356290\n",
       "2008-04-14 12:30:00  0.351   0.0 -43.4712                29  0.355977\n",
       "2008-04-14 12:45:00  0.350   0.0 -43.5189                30  0.355666\n",
       "2008-04-14 13:00:00  0.351   0.0 -43.5665                31  0.355357\n",
       "2008-04-14 13:15:00  0.350   0.0 -43.6138                32  0.355050\n",
       "2008-04-14 13:30:00  0.350   0.0 -43.6611                33  0.354746\n",
       "2008-04-14 13:45:00  0.348   0.0 -43.7081                34  0.354443\n",
       "2008-04-14 14:00:00  0.348   0.0  -43.755                35  0.354142\n",
       "2008-04-14 14:15:00  0.348   0.0 -43.8018                36  0.353843\n",
       "2008-04-14 14:30:00  0.348   0.0 -43.8484                37  0.353546\n",
       "2008-04-14 14:45:00  0.348   0.0 -43.8948                38  0.353252\n",
       "2008-04-14 15:00:00  0.347   0.0 -43.9411                39  0.352959\n",
       "2008-04-14 15:15:00  0.347   0.0 -43.9873                40  0.352668\n",
       "2008-04-14 15:30:00  0.347   0.0 -44.0333                41  0.352378\n",
       "2008-04-14 15:45:00  0.346   0.0 -44.0791                42  0.352091\n",
       "2008-04-14 16:00:00  0.345   0.0 -44.1248                43  0.351806\n",
       "2008-04-14 16:15:00  0.345   0.0 -44.1704                44  0.351522"
      ]
     },
     "execution_count": 10,
     "metadata": {},
     "output_type": "execute_result"
    }
   ],
   "source": [
    "df.head(50)"
   ]
  },
  {
   "cell_type": "code",
   "execution_count": 17,
   "metadata": {
    "collapsed": false,
    "deletable": true,
    "editable": true
   },
   "outputs": [
    {
     "data": {
      "text/plain": [
       "[<matplotlib.lines.Line2D at 0x1149b1910>]"
      ]
     },
     "execution_count": 17,
     "metadata": {},
     "output_type": "execute_result"
    },
    {
     "data": {
      "image/png": "[encoded data removed]",
      "text/plain": [
       "<matplotlib.figure.Figure at 0x1145e0090>"
      ]
     },
     "metadata": {},
     "output_type": "display_data"
    }
   ],
   "source": [
    "plt.plot((df[5:]['predict'] - df[5:]['level']).abs().groupby(df['time_since_update']).mean())"
   ]
  },
  {
   "cell_type": "code",
   "execution_count": null,
   "metadata": {
    "collapsed": true
   },
   "outputs": [],
   "source": []
  },
  {
   "cell_type": "code",
   "execution_count": null,
   "metadata": {
    "collapsed": true
   },
   "outputs": [],
   "source": []
  },
  {
   "cell_type": "code",
   "execution_count": null,
   "metadata": {
    "collapsed": true
   },
   "outputs": [],
   "source": []
  },
  {
   "cell_type": "code",
   "execution_count": null,
   "metadata": {
    "collapsed": true
   },
   "outputs": [],
   "source": []
  },
  {
   "cell_type": "code",
   "execution_count": null,
   "metadata": {
    "collapsed": true
   },
   "outputs": [],
   "source": []
  },
  {
   "cell_type": "code",
   "execution_count": null,
   "metadata": {
    "collapsed": true
   },
   "outputs": [],
   "source": []
  },
  {
   "cell_type": "code",
   "execution_count": null,
   "metadata": {
    "collapsed": true
   },
   "outputs": [],
   "source": []
  },
  {
   "cell_type": "code",
   "execution_count": null,
   "metadata": {
    "collapsed": true
   },
   "outputs": [],
   "source": []
  },
  {
   "cell_type": "code",
   "execution_count": null,
   "metadata": {
    "collapsed": true
   },
   "outputs": [],
   "source": []
  },
  {
   "cell_type": "code",
   "execution_count": null,
   "metadata": {
    "collapsed": true
   },
   "outputs": [],
   "source": []
  },
  {
   "cell_type": "code",
   "execution_count": null,
   "metadata": {
    "collapsed": true
   },
   "outputs": [],
   "source": []
  },
  {
   "cell_type": "code",
   "execution_count": 22,
   "metadata": {
    "collapsed": false,
    "deletable": true,
    "editable": true
   },
   "outputs": [],
   "source": [
    "test['diff'] = test.storage_actual.diff().shift(-10)"
   ]
  },
  {
   "cell_type": "code",
   "execution_count": 23,
   "metadata": {
    "collapsed": false,
    "deletable": true,
    "editable": true
   },
   "outputs": [
    {
     "data": {
      "text/plain": [
       "<matplotlib.axes._subplots.AxesSubplot at 0x10f17fd10>"
      ]
     },
     "execution_count": 23,
     "metadata": {},
     "output_type": "execute_result"
    },
    {
     "data": {
      "image/png": "[encoded data removed]",
      "text/plain": [
       "<matplotlib.figure.Figure at 0x10efce690>"
      ]
     },
     "metadata": {},
     "output_type": "display_data"
    }
   ],
   "source": [
    "test[['diff', 'rain']][350:].plot()"
   ]
  },
  {
   "cell_type": "code",
   "execution_count": 24,
   "metadata": {
    "collapsed": false,
    "deletable": true,
    "editable": true
   },
   "outputs": [],
   "source": [
    "test['est_diff'] = test['rain'] - test['storage_actual'].apply(lambda x: f(x))"
   ]
  },
  {
   "cell_type": "code",
   "execution_count": 25,
   "metadata": {
    "collapsed": false,
    "deletable": true,
    "editable": true
   },
   "outputs": [
    {
     "data": {
      "text/plain": [
       "<matplotlib.axes._subplots.AxesSubplot at 0x1118683d0>"
      ]
     },
     "execution_count": 25,
     "metadata": {},
     "output_type": "execute_result"
    },
    {
     "data": {
      "image/png": "[encoded data removed]",
      "text/plain": [
       "<matplotlib.figure.Figure at 0x11186b250>"
      ]
     },
     "metadata": {},
     "output_type": "display_data"
    }
   ],
   "source": [
    "test[['diff', 'est_diff']][350:].plot()"
   ]
  },
  {
   "cell_type": "code",
   "execution_count": 26,
   "metadata": {
    "collapsed": false,
    "deletable": true,
    "editable": true
   },
   "outputs": [
    {
     "data": {
      "text/plain": [
       "<matplotlib.collections.PathCollection at 0x113487150>"
      ]
     },
     "execution_count": 26,
     "metadata": {},
     "output_type": "execute_result"
    },
    {
     "data": {
      "image/png": "[encoded data removed]",
      "text/plain": [
       "<matplotlib.figure.Figure at 0x113365210>"
      ]
     },
     "metadata": {},
     "output_type": "display_data"
    }
   ],
   "source": [
    "plt.scatter(test['diff'], test['est_diff'])"
   ]
  },
  {
   "cell_type": "markdown",
   "metadata": {
    "deletable": true,
    "editable": true
   },
   "source": [
    "# Now a non-linear attempt -> not working better than linear regression"
   ]
  },
  {
   "cell_type": "code",
   "execution_count": 32,
   "metadata": {
    "collapsed": true
   },
   "outputs": [],
   "source": [
    "# 100 equates to roughly 24 hours\n",
    "n_features = 2000\n",
    "y_train = df.level[n_features:].values\n",
    "y_train = np.reshape(y_train, (y_train.shape[0], 1)).astype('float32')"
   ]
  },
  {
   "cell_type": "code",
   "execution_count": 36,
   "metadata": {
    "collapsed": false
   },
   "outputs": [],
   "source": [
    "x_train = df[['rain', 'last_update', 'time_since_update']].copy()\n",
    "for i in range(1, n_features):\n",
    "    x_train['rain' + str(i)] = x_train['rain'].shift(i)\n",
    "x_train = x_train[n_features:].values.astype('float32')"
   ]
  },
  {
   "cell_type": "code",
   "execution_count": 37,
   "metadata": {
    "collapsed": false
   },
   "outputs": [
    {
     "data": {
      "text/plain": [
       "(38000, 2002)"
      ]
     },
     "execution_count": 37,
     "metadata": {},
     "output_type": "execute_result"
    }
   ],
   "source": [
    "x_train.shape"
   ]
  },
  {
   "cell_type": "code",
   "execution_count": 38,
   "metadata": {
    "collapsed": false
   },
   "outputs": [],
   "source": [
    "# Add bias terms...\n",
    "n_training_samples = x_train.shape[0]\n",
    "x_train = np.reshape(np.c_[np.ones(n_training_samples),x_train],[n_training_samples,n_features + 3])"
   ]
  },
  {
   "cell_type": "code",
   "execution_count": null,
   "metadata": {
    "collapsed": true
   },
   "outputs": [],
   "source": []
  },
  {
   "cell_type": "code",
   "execution_count": 39,
   "metadata": {
    "collapsed": true,
    "deletable": true,
    "editable": true
   },
   "outputs": [],
   "source": [
    "def weight_variable(shape):\n",
    "    initial = tf.truncated_normal(shape, stddev=0.1)\n",
    "    return tf.Variable(initial)"
   ]
  },
  {
   "cell_type": "code",
   "execution_count": 40,
   "metadata": {
    "collapsed": true,
    "deletable": true,
    "editable": true
   },
   "outputs": [],
   "source": [
    "def bias_variable(shape):\n",
    "    initial = tf.constant(0.1, shape=shape)\n",
    "    return tf.Variable(initial)"
   ]
  },
  {
   "cell_type": "code",
   "execution_count": null,
   "metadata": {
    "collapsed": true,
    "deletable": true,
    "editable": true
   },
   "outputs": [],
   "source": [
    "\n"
   ]
  },
  {
   "cell_type": "code",
   "execution_count": 41,
   "metadata": {
    "collapsed": false,
    "deletable": true,
    "editable": true
   },
   "outputs": [],
   "source": [
    "def get_train_inputs():\n",
    "    x = tf.constant(x_train)\n",
    "    y = tf.constant(y_train)\n",
    "    return x, y"
   ]
  },
  {
   "cell_type": "code",
   "execution_count": 42,
   "metadata": {
    "collapsed": false,
    "deletable": true,
    "editable": true,
    "scrolled": true
   },
   "outputs": [
    {
     "name": "stdout",
     "output_type": "stream",
     "text": [
      "INFO:tensorflow:Using default config.\n",
      "INFO:tensorflow:Using config: {'_model_dir': None, '_save_checkpoints_secs': 600, '_num_ps_replicas': 0, '_keep_checkpoint_max': 5, '_tf_random_seed': None, '_task_type': None, '_environment': 'local', '_is_chief': True, '_cluster_spec': <tensorflow.python.training.server_lib.ClusterSpec object at 0x119a969d0>, '_tf_config': gpu_options {\n",
      "  per_process_gpu_memory_fraction: 1\n",
      "}\n",
      ", '_num_worker_replicas': 0, '_task_id': 0, '_save_summary_steps': 100, '_save_checkpoints_steps': None, '_evaluation_master': '', '_keep_checkpoint_every_n_hours': 10000, '_master': ''}\n",
      "WARNING:tensorflow:Using temporary folder as model directory: /var/folders/7q/pngfcq3d32x6b9w1_0k_3rv40000gq/T/tmpWUyGnx\n"
     ]
    }
   ],
   "source": [
    "feature_columns = [tf.contrib.layers.real_valued_column(\"\", dimension=n_features)]\n",
    "\n",
    "estimator = tf.contrib.learn.DNNRegressor(\n",
    "    feature_columns=feature_columns,\n",
    "    hidden_units=[5, 5, 5, 5],\n",
    "    optimizer=tf.train.ProximalAdagradOptimizer(\n",
    "      learning_rate=0.01,\n",
    "      l1_regularization_strength=0.001\n",
    "    ))"
   ]
  },
  {
   "cell_type": "code",
   "execution_count": 43,
   "metadata": {
    "collapsed": false,
    "deletable": true,
    "editable": true
   },
   "outputs": [
    {
     "name": "stdout",
     "output_type": "stream",
     "text": [
      "WARNING:tensorflow:From /Users/Conn/.pyenv/versions/democracy/lib/python2.7/site-packages/tensorflow/contrib/learn/python/learn/estimators/head.py:615: scalar_summary (from tensorflow.python.ops.logging_ops) is deprecated and will be removed after 2016-11-30.\n",
      "Instructions for updating:\n",
      "Please switch to tf.summary.scalar. Note that tf.summary.scalar uses the node name instead of the tag. This means that TensorFlow will automatically de-duplicate summary names based on the scope they are created in. Also, passing a tensor or list of tags to a scalar summary op is no longer supported.\n",
      "INFO:tensorflow:Create CheckpointSaverHook.\n",
      "INFO:tensorflow:Saving checkpoints for 1 into /var/folders/7q/pngfcq3d32x6b9w1_0k_3rv40000gq/T/tmpWUyGnx/model.ckpt.\n",
      "INFO:tensorflow:loss = 0.804674, step = 1\n"
     ]
    },
    {
     "ename": "KeyboardInterrupt",
     "evalue": "",
     "output_type": "error",
     "traceback": [
      "\u001b[0;31m---------------------------------------------------------------------------\u001b[0m",
      "\u001b[0;31mKeyboardInterrupt\u001b[0m                         Traceback (most recent call last)",
      "\u001b[0;32m<ipython-input-43-f10d5680ed09>\u001b[0m in \u001b[0;36m<module>\u001b[0;34m()\u001b[0m\n\u001b[1;32m      1\u001b[0m \u001b[0;34m\u001b[0m\u001b[0m\n\u001b[0;32m----> 2\u001b[0;31m \u001b[0mestimator\u001b[0m\u001b[0;34m.\u001b[0m\u001b[0mfit\u001b[0m\u001b[0;34m(\u001b[0m\u001b[0minput_fn\u001b[0m \u001b[0;34m=\u001b[0m \u001b[0mget_train_inputs\u001b[0m\u001b[0;34m,\u001b[0m \u001b[0msteps\u001b[0m\u001b[0;34m=\u001b[0m\u001b[0;36m2000\u001b[0m\u001b[0;34m)\u001b[0m\u001b[0;34m\u001b[0m\u001b[0m\n\u001b[0m",
      "\u001b[0;32m/Users/Conn/.pyenv/versions/democracy/lib/python2.7/site-packages/tensorflow/python/util/deprecation.pyc\u001b[0m in \u001b[0;36mnew_func\u001b[0;34m(*args, **kwargs)\u001b[0m\n\u001b[1;32m    279\u001b[0m             \u001b[0m_call_location\u001b[0m\u001b[0;34m(\u001b[0m\u001b[0;34m)\u001b[0m\u001b[0;34m,\u001b[0m \u001b[0mdecorator_utils\u001b[0m\u001b[0;34m.\u001b[0m\u001b[0mget_qualified_name\u001b[0m\u001b[0;34m(\u001b[0m\u001b[0mfunc\u001b[0m\u001b[0;34m)\u001b[0m\u001b[0;34m,\u001b[0m\u001b[0;34m\u001b[0m\u001b[0m\n\u001b[1;32m    280\u001b[0m             func.__module__, arg_name, date, instructions)\n\u001b[0;32m--> 281\u001b[0;31m       \u001b[0;32mreturn\u001b[0m \u001b[0mfunc\u001b[0m\u001b[0;34m(\u001b[0m\u001b[0;34m*\u001b[0m\u001b[0margs\u001b[0m\u001b[0;34m,\u001b[0m \u001b[0;34m**\u001b[0m\u001b[0mkwargs\u001b[0m\u001b[0;34m)\u001b[0m\u001b[0;34m\u001b[0m\u001b[0m\n\u001b[0m\u001b[1;32m    282\u001b[0m     new_func.__doc__ = _add_deprecated_arg_notice_to_docstring(\n\u001b[1;32m    283\u001b[0m         func.__doc__, date, instructions)\n",
      "\u001b[0;32m/Users/Conn/.pyenv/versions/democracy/lib/python2.7/site-packages/tensorflow/contrib/learn/python/learn/estimators/estimator.pyc\u001b[0m in \u001b[0;36mfit\u001b[0;34m(self, x, y, input_fn, steps, batch_size, monitors, max_steps)\u001b[0m\n\u001b[1;32m    428\u001b[0m       \u001b[0mhooks\u001b[0m\u001b[0;34m.\u001b[0m\u001b[0mappend\u001b[0m\u001b[0;34m(\u001b[0m\u001b[0mbasic_session_run_hooks\u001b[0m\u001b[0;34m.\u001b[0m\u001b[0mStopAtStepHook\u001b[0m\u001b[0;34m(\u001b[0m\u001b[0msteps\u001b[0m\u001b[0;34m,\u001b[0m \u001b[0mmax_steps\u001b[0m\u001b[0;34m)\u001b[0m\u001b[0;34m)\u001b[0m\u001b[0;34m\u001b[0m\u001b[0m\n\u001b[1;32m    429\u001b[0m \u001b[0;34m\u001b[0m\u001b[0m\n\u001b[0;32m--> 430\u001b[0;31m     \u001b[0mloss\u001b[0m \u001b[0;34m=\u001b[0m \u001b[0mself\u001b[0m\u001b[0;34m.\u001b[0m\u001b[0m_train_model\u001b[0m\u001b[0;34m(\u001b[0m\u001b[0minput_fn\u001b[0m\u001b[0;34m=\u001b[0m\u001b[0minput_fn\u001b[0m\u001b[0;34m,\u001b[0m \u001b[0mhooks\u001b[0m\u001b[0;34m=\u001b[0m\u001b[0mhooks\u001b[0m\u001b[0;34m)\u001b[0m\u001b[0;34m\u001b[0m\u001b[0m\n\u001b[0m\u001b[1;32m    431\u001b[0m     \u001b[0mlogging\u001b[0m\u001b[0;34m.\u001b[0m\u001b[0minfo\u001b[0m\u001b[0;34m(\u001b[0m\u001b[0;34m'Loss for final step: %s.'\u001b[0m\u001b[0;34m,\u001b[0m \u001b[0mloss\u001b[0m\u001b[0;34m)\u001b[0m\u001b[0;34m\u001b[0m\u001b[0m\n\u001b[1;32m    432\u001b[0m     \u001b[0;32mreturn\u001b[0m \u001b[0mself\u001b[0m\u001b[0;34m\u001b[0m\u001b[0m\n",
      "\u001b[0;32m/Users/Conn/.pyenv/versions/democracy/lib/python2.7/site-packages/tensorflow/contrib/learn/python/learn/estimators/estimator.pyc\u001b[0m in \u001b[0;36m_train_model\u001b[0;34m(self, input_fn, hooks)\u001b[0m\n\u001b[1;32m    976\u001b[0m         \u001b[0mloss\u001b[0m \u001b[0;34m=\u001b[0m \u001b[0mNone\u001b[0m\u001b[0;34m\u001b[0m\u001b[0m\n\u001b[1;32m    977\u001b[0m         \u001b[0;32mwhile\u001b[0m \u001b[0;32mnot\u001b[0m \u001b[0mmon_sess\u001b[0m\u001b[0;34m.\u001b[0m\u001b[0mshould_stop\u001b[0m\u001b[0;34m(\u001b[0m\u001b[0;34m)\u001b[0m\u001b[0;34m:\u001b[0m\u001b[0;34m\u001b[0m\u001b[0m\n\u001b[0;32m--> 978\u001b[0;31m           \u001b[0m_\u001b[0m\u001b[0;34m,\u001b[0m \u001b[0mloss\u001b[0m \u001b[0;34m=\u001b[0m \u001b[0mmon_sess\u001b[0m\u001b[0;34m.\u001b[0m\u001b[0mrun\u001b[0m\u001b[0;34m(\u001b[0m\u001b[0;34m[\u001b[0m\u001b[0mmodel_fn_ops\u001b[0m\u001b[0;34m.\u001b[0m\u001b[0mtrain_op\u001b[0m\u001b[0;34m,\u001b[0m \u001b[0mmodel_fn_ops\u001b[0m\u001b[0;34m.\u001b[0m\u001b[0mloss\u001b[0m\u001b[0;34m]\u001b[0m\u001b[0;34m)\u001b[0m\u001b[0;34m\u001b[0m\u001b[0m\n\u001b[0m\u001b[1;32m    979\u001b[0m       \u001b[0msummary_io\u001b[0m\u001b[0;34m.\u001b[0m\u001b[0mSummaryWriterCache\u001b[0m\u001b[0;34m.\u001b[0m\u001b[0mclear\u001b[0m\u001b[0;34m(\u001b[0m\u001b[0;34m)\u001b[0m\u001b[0;34m\u001b[0m\u001b[0m\n\u001b[1;32m    980\u001b[0m       \u001b[0;32mreturn\u001b[0m \u001b[0mloss\u001b[0m\u001b[0;34m\u001b[0m\u001b[0m\n",
      "\u001b[0;32m/Users/Conn/.pyenv/versions/democracy/lib/python2.7/site-packages/tensorflow/python/training/monitored_session.pyc\u001b[0m in \u001b[0;36mrun\u001b[0;34m(self, fetches, feed_dict, options, run_metadata)\u001b[0m\n\u001b[1;32m    482\u001b[0m                           \u001b[0mfeed_dict\u001b[0m\u001b[0;34m=\u001b[0m\u001b[0mfeed_dict\u001b[0m\u001b[0;34m,\u001b[0m\u001b[0;34m\u001b[0m\u001b[0m\n\u001b[1;32m    483\u001b[0m                           \u001b[0moptions\u001b[0m\u001b[0;34m=\u001b[0m\u001b[0moptions\u001b[0m\u001b[0;34m,\u001b[0m\u001b[0;34m\u001b[0m\u001b[0m\n\u001b[0;32m--> 484\u001b[0;31m                           run_metadata=run_metadata)\n\u001b[0m\u001b[1;32m    485\u001b[0m \u001b[0;34m\u001b[0m\u001b[0m\n\u001b[1;32m    486\u001b[0m   \u001b[0;32mdef\u001b[0m \u001b[0mshould_stop\u001b[0m\u001b[0;34m(\u001b[0m\u001b[0mself\u001b[0m\u001b[0;34m)\u001b[0m\u001b[0;34m:\u001b[0m\u001b[0;34m\u001b[0m\u001b[0m\n",
      "\u001b[0;32m/Users/Conn/.pyenv/versions/democracy/lib/python2.7/site-packages/tensorflow/python/training/monitored_session.pyc\u001b[0m in \u001b[0;36mrun\u001b[0;34m(self, fetches, feed_dict, options, run_metadata)\u001b[0m\n\u001b[1;32m    818\u001b[0m                               \u001b[0mfeed_dict\u001b[0m\u001b[0;34m=\u001b[0m\u001b[0mfeed_dict\u001b[0m\u001b[0;34m,\u001b[0m\u001b[0;34m\u001b[0m\u001b[0m\n\u001b[1;32m    819\u001b[0m                               \u001b[0moptions\u001b[0m\u001b[0;34m=\u001b[0m\u001b[0moptions\u001b[0m\u001b[0;34m,\u001b[0m\u001b[0;34m\u001b[0m\u001b[0m\n\u001b[0;32m--> 820\u001b[0;31m                               run_metadata=run_metadata)\n\u001b[0m\u001b[1;32m    821\u001b[0m       \u001b[0;32mexcept\u001b[0m \u001b[0m_PREEMPTION_ERRORS\u001b[0m \u001b[0;32mas\u001b[0m \u001b[0me\u001b[0m\u001b[0;34m:\u001b[0m\u001b[0;34m\u001b[0m\u001b[0m\n\u001b[1;32m    822\u001b[0m         logging.info('An error was raised. This may be due to a preemption in '\n",
      "\u001b[0;32m/Users/Conn/.pyenv/versions/democracy/lib/python2.7/site-packages/tensorflow/python/training/monitored_session.pyc\u001b[0m in \u001b[0;36mrun\u001b[0;34m(self, *args, **kwargs)\u001b[0m\n\u001b[1;32m    774\u001b[0m \u001b[0;34m\u001b[0m\u001b[0m\n\u001b[1;32m    775\u001b[0m   \u001b[0;32mdef\u001b[0m \u001b[0mrun\u001b[0m\u001b[0;34m(\u001b[0m\u001b[0mself\u001b[0m\u001b[0;34m,\u001b[0m \u001b[0;34m*\u001b[0m\u001b[0margs\u001b[0m\u001b[0;34m,\u001b[0m \u001b[0;34m**\u001b[0m\u001b[0mkwargs\u001b[0m\u001b[0;34m)\u001b[0m\u001b[0;34m:\u001b[0m\u001b[0;34m\u001b[0m\u001b[0m\n\u001b[0;32m--> 776\u001b[0;31m     \u001b[0;32mreturn\u001b[0m \u001b[0mself\u001b[0m\u001b[0;34m.\u001b[0m\u001b[0m_sess\u001b[0m\u001b[0;34m.\u001b[0m\u001b[0mrun\u001b[0m\u001b[0;34m(\u001b[0m\u001b[0;34m*\u001b[0m\u001b[0margs\u001b[0m\u001b[0;34m,\u001b[0m \u001b[0;34m**\u001b[0m\u001b[0mkwargs\u001b[0m\u001b[0;34m)\u001b[0m\u001b[0;34m\u001b[0m\u001b[0m\n\u001b[0m\u001b[1;32m    777\u001b[0m \u001b[0;34m\u001b[0m\u001b[0m\n\u001b[1;32m    778\u001b[0m \u001b[0;34m\u001b[0m\u001b[0m\n",
      "\u001b[0;32m/Users/Conn/.pyenv/versions/democracy/lib/python2.7/site-packages/tensorflow/python/training/monitored_session.pyc\u001b[0m in \u001b[0;36mrun\u001b[0;34m(self, fetches, feed_dict, options, run_metadata)\u001b[0m\n\u001b[1;32m    928\u001b[0m                                   \u001b[0mfeed_dict\u001b[0m\u001b[0;34m=\u001b[0m\u001b[0mfeed_dict\u001b[0m\u001b[0;34m,\u001b[0m\u001b[0;34m\u001b[0m\u001b[0m\n\u001b[1;32m    929\u001b[0m                                   \u001b[0moptions\u001b[0m\u001b[0;34m=\u001b[0m\u001b[0moptions\u001b[0m\u001b[0;34m,\u001b[0m\u001b[0;34m\u001b[0m\u001b[0m\n\u001b[0;32m--> 930\u001b[0;31m                                   run_metadata=run_metadata)\n\u001b[0m\u001b[1;32m    931\u001b[0m \u001b[0;34m\u001b[0m\u001b[0m\n\u001b[1;32m    932\u001b[0m     \u001b[0;32mfor\u001b[0m \u001b[0mhook\u001b[0m \u001b[0;32min\u001b[0m \u001b[0mself\u001b[0m\u001b[0;34m.\u001b[0m\u001b[0m_hooks\u001b[0m\u001b[0;34m:\u001b[0m\u001b[0;34m\u001b[0m\u001b[0m\n",
      "\u001b[0;32m/Users/Conn/.pyenv/versions/democracy/lib/python2.7/site-packages/tensorflow/python/training/monitored_session.pyc\u001b[0m in \u001b[0;36mrun\u001b[0;34m(self, *args, **kwargs)\u001b[0m\n\u001b[1;32m    774\u001b[0m \u001b[0;34m\u001b[0m\u001b[0m\n\u001b[1;32m    775\u001b[0m   \u001b[0;32mdef\u001b[0m \u001b[0mrun\u001b[0m\u001b[0;34m(\u001b[0m\u001b[0mself\u001b[0m\u001b[0;34m,\u001b[0m \u001b[0;34m*\u001b[0m\u001b[0margs\u001b[0m\u001b[0;34m,\u001b[0m \u001b[0;34m**\u001b[0m\u001b[0mkwargs\u001b[0m\u001b[0;34m)\u001b[0m\u001b[0;34m:\u001b[0m\u001b[0;34m\u001b[0m\u001b[0m\n\u001b[0;32m--> 776\u001b[0;31m     \u001b[0;32mreturn\u001b[0m \u001b[0mself\u001b[0m\u001b[0;34m.\u001b[0m\u001b[0m_sess\u001b[0m\u001b[0;34m.\u001b[0m\u001b[0mrun\u001b[0m\u001b[0;34m(\u001b[0m\u001b[0;34m*\u001b[0m\u001b[0margs\u001b[0m\u001b[0;34m,\u001b[0m \u001b[0;34m**\u001b[0m\u001b[0mkwargs\u001b[0m\u001b[0;34m)\u001b[0m\u001b[0;34m\u001b[0m\u001b[0m\n\u001b[0m\u001b[1;32m    777\u001b[0m \u001b[0;34m\u001b[0m\u001b[0m\n\u001b[1;32m    778\u001b[0m \u001b[0;34m\u001b[0m\u001b[0m\n",
      "\u001b[0;32m/Users/Conn/.pyenv/versions/democracy/lib/python2.7/site-packages/tensorflow/python/client/session.pyc\u001b[0m in \u001b[0;36mrun\u001b[0;34m(self, fetches, feed_dict, options, run_metadata)\u001b[0m\n\u001b[1;32m    776\u001b[0m     \u001b[0;32mtry\u001b[0m\u001b[0;34m:\u001b[0m\u001b[0;34m\u001b[0m\u001b[0m\n\u001b[1;32m    777\u001b[0m       result = self._run(None, fetches, feed_dict, options_ptr,\n\u001b[0;32m--> 778\u001b[0;31m                          run_metadata_ptr)\n\u001b[0m\u001b[1;32m    779\u001b[0m       \u001b[0;32mif\u001b[0m \u001b[0mrun_metadata\u001b[0m\u001b[0;34m:\u001b[0m\u001b[0;34m\u001b[0m\u001b[0m\n\u001b[1;32m    780\u001b[0m         \u001b[0mproto_data\u001b[0m \u001b[0;34m=\u001b[0m \u001b[0mtf_session\u001b[0m\u001b[0;34m.\u001b[0m\u001b[0mTF_GetBuffer\u001b[0m\u001b[0;34m(\u001b[0m\u001b[0mrun_metadata_ptr\u001b[0m\u001b[0;34m)\u001b[0m\u001b[0;34m\u001b[0m\u001b[0m\n",
      "\u001b[0;32m/Users/Conn/.pyenv/versions/democracy/lib/python2.7/site-packages/tensorflow/python/client/session.pyc\u001b[0m in \u001b[0;36m_run\u001b[0;34m(self, handle, fetches, feed_dict, options, run_metadata)\u001b[0m\n\u001b[1;32m    980\u001b[0m     \u001b[0;32mif\u001b[0m \u001b[0mfinal_fetches\u001b[0m \u001b[0;32mor\u001b[0m \u001b[0mfinal_targets\u001b[0m\u001b[0;34m:\u001b[0m\u001b[0;34m\u001b[0m\u001b[0m\n\u001b[1;32m    981\u001b[0m       results = self._do_run(handle, final_targets, final_fetches,\n\u001b[0;32m--> 982\u001b[0;31m                              feed_dict_string, options, run_metadata)\n\u001b[0m\u001b[1;32m    983\u001b[0m     \u001b[0;32melse\u001b[0m\u001b[0;34m:\u001b[0m\u001b[0;34m\u001b[0m\u001b[0m\n\u001b[1;32m    984\u001b[0m       \u001b[0mresults\u001b[0m \u001b[0;34m=\u001b[0m \u001b[0;34m[\u001b[0m\u001b[0;34m]\u001b[0m\u001b[0;34m\u001b[0m\u001b[0m\n",
      "\u001b[0;32m/Users/Conn/.pyenv/versions/democracy/lib/python2.7/site-packages/tensorflow/python/client/session.pyc\u001b[0m in \u001b[0;36m_do_run\u001b[0;34m(self, handle, target_list, fetch_list, feed_dict, options, run_metadata)\u001b[0m\n\u001b[1;32m   1030\u001b[0m     \u001b[0;32mif\u001b[0m \u001b[0mhandle\u001b[0m \u001b[0;32mis\u001b[0m \u001b[0mNone\u001b[0m\u001b[0;34m:\u001b[0m\u001b[0;34m\u001b[0m\u001b[0m\n\u001b[1;32m   1031\u001b[0m       return self._do_call(_run_fn, self._session, feed_dict, fetch_list,\n\u001b[0;32m-> 1032\u001b[0;31m                            target_list, options, run_metadata)\n\u001b[0m\u001b[1;32m   1033\u001b[0m     \u001b[0;32melse\u001b[0m\u001b[0;34m:\u001b[0m\u001b[0;34m\u001b[0m\u001b[0m\n\u001b[1;32m   1034\u001b[0m       return self._do_call(_prun_fn, self._session, handle, feed_dict,\n",
      "\u001b[0;32m/Users/Conn/.pyenv/versions/democracy/lib/python2.7/site-packages/tensorflow/python/client/session.pyc\u001b[0m in \u001b[0;36m_do_call\u001b[0;34m(self, fn, *args)\u001b[0m\n\u001b[1;32m   1037\u001b[0m   \u001b[0;32mdef\u001b[0m \u001b[0m_do_call\u001b[0m\u001b[0;34m(\u001b[0m\u001b[0mself\u001b[0m\u001b[0;34m,\u001b[0m \u001b[0mfn\u001b[0m\u001b[0;34m,\u001b[0m \u001b[0;34m*\u001b[0m\u001b[0margs\u001b[0m\u001b[0;34m)\u001b[0m\u001b[0;34m:\u001b[0m\u001b[0;34m\u001b[0m\u001b[0m\n\u001b[1;32m   1038\u001b[0m     \u001b[0;32mtry\u001b[0m\u001b[0;34m:\u001b[0m\u001b[0;34m\u001b[0m\u001b[0m\n\u001b[0;32m-> 1039\u001b[0;31m       \u001b[0;32mreturn\u001b[0m \u001b[0mfn\u001b[0m\u001b[0;34m(\u001b[0m\u001b[0;34m*\u001b[0m\u001b[0margs\u001b[0m\u001b[0;34m)\u001b[0m\u001b[0;34m\u001b[0m\u001b[0m\n\u001b[0m\u001b[1;32m   1040\u001b[0m     \u001b[0;32mexcept\u001b[0m \u001b[0merrors\u001b[0m\u001b[0;34m.\u001b[0m\u001b[0mOpError\u001b[0m \u001b[0;32mas\u001b[0m \u001b[0me\u001b[0m\u001b[0;34m:\u001b[0m\u001b[0;34m\u001b[0m\u001b[0m\n\u001b[1;32m   1041\u001b[0m       \u001b[0mmessage\u001b[0m \u001b[0;34m=\u001b[0m \u001b[0mcompat\u001b[0m\u001b[0;34m.\u001b[0m\u001b[0mas_text\u001b[0m\u001b[0;34m(\u001b[0m\u001b[0me\u001b[0m\u001b[0;34m.\u001b[0m\u001b[0mmessage\u001b[0m\u001b[0;34m)\u001b[0m\u001b[0;34m\u001b[0m\u001b[0m\n",
      "\u001b[0;32m/Users/Conn/.pyenv/versions/democracy/lib/python2.7/site-packages/tensorflow/python/client/session.pyc\u001b[0m in \u001b[0;36m_run_fn\u001b[0;34m(session, feed_dict, fetch_list, target_list, options, run_metadata)\u001b[0m\n\u001b[1;32m   1019\u001b[0m         return tf_session.TF_Run(session, options,\n\u001b[1;32m   1020\u001b[0m                                  \u001b[0mfeed_dict\u001b[0m\u001b[0;34m,\u001b[0m \u001b[0mfetch_list\u001b[0m\u001b[0;34m,\u001b[0m \u001b[0mtarget_list\u001b[0m\u001b[0;34m,\u001b[0m\u001b[0;34m\u001b[0m\u001b[0m\n\u001b[0;32m-> 1021\u001b[0;31m                                  status, run_metadata)\n\u001b[0m\u001b[1;32m   1022\u001b[0m \u001b[0;34m\u001b[0m\u001b[0m\n\u001b[1;32m   1023\u001b[0m     \u001b[0;32mdef\u001b[0m \u001b[0m_prun_fn\u001b[0m\u001b[0;34m(\u001b[0m\u001b[0msession\u001b[0m\u001b[0;34m,\u001b[0m \u001b[0mhandle\u001b[0m\u001b[0;34m,\u001b[0m \u001b[0mfeed_dict\u001b[0m\u001b[0;34m,\u001b[0m \u001b[0mfetch_list\u001b[0m\u001b[0;34m)\u001b[0m\u001b[0;34m:\u001b[0m\u001b[0;34m\u001b[0m\u001b[0m\n",
      "\u001b[0;31mKeyboardInterrupt\u001b[0m: "
     ]
    }
   ],
   "source": [
    "\n",
    "estimator.fit(input_fn = get_train_inputs, steps=2000)\n"
   ]
  },
  {
   "cell_type": "code",
   "execution_count": null,
   "metadata": {
    "collapsed": false,
    "deletable": true,
    "editable": true
   },
   "outputs": [],
   "source": []
  },
  {
   "cell_type": "code",
   "execution_count": 878,
   "metadata": {
    "collapsed": false,
    "deletable": true,
    "editable": true
   },
   "outputs": [
    {
     "name": "stdout",
     "output_type": "stream",
     "text": [
      "WARNING:tensorflow:From /Users/Conn/.pyenv/versions/democracy/lib/python2.7/site-packages/tensorflow/python/util/deprecation.py:335: calling predict (from tensorflow.contrib.learn.python.learn.estimators.dnn) with outputs=None is deprecated and will be removed after 2017-03-01.\n",
      "Instructions for updating:\n",
      "Please switch to predict_scores, or set `outputs` argument.\n",
      "INFO:tensorflow:Restoring parameters from /var/folders/7q/pngfcq3d32x6b9w1_0k_3rv40000gq/T/tmpQ6OncX/model.ckpt-2000\n"
     ]
    }
   ],
   "source": [
    "predictions = np.array(list(estimator.predict(input_fn=input_fn_predict)))\n"
   ]
  },
  {
   "cell_type": "code",
   "execution_count": 879,
   "metadata": {
    "collapsed": false,
    "deletable": true,
    "editable": true,
    "scrolled": true
   },
   "outputs": [
    {
     "data": {
      "text/plain": [
       "<matplotlib.legend.Legend at 0x149c97dd0>"
      ]
     },
     "execution_count": 879,
     "metadata": {},
     "output_type": "execute_result"
    },
    {
     "data": {
      "image/png": "[encoded data removed]",
      "text/plain": [
       "<matplotlib.figure.Figure at 0x126387ed0>"
      ]
     },
     "metadata": {},
     "output_type": "display_data"
    }
   ],
   "source": [
    "fig, ax = plt.subplots( nrows=1, ncols=1)  # create figure & 1 axis\n",
    "\n",
    "#ax.plot(0.4 + df.rain.values[:1500]/10, linewidth=.5)\n",
    "\n",
    "ax.plot(predictions[:1500],  label='prediction', linewidth=1)\n",
    "ax.plot(y_train[:1500],  label='truth', linewidth=1)\n",
    "plt.legend()\n",
    "plt.savefig('foo.png')\n",
    "plt.legend(loc='upper left')\n"
   ]
  },
  {
   "cell_type": "code",
   "execution_count": 880,
   "metadata": {
    "collapsed": false,
    "deletable": true,
    "editable": true
   },
   "outputs": [
    {
     "data": {
      "text/plain": [
       "0.89003127813339233"
      ]
     },
     "execution_count": 880,
     "metadata": {},
     "output_type": "execute_result"
    }
   ],
   "source": [
    "explained_variance_score(y_train, predictions)"
   ]
  },
  {
   "cell_type": "code",
   "execution_count": null,
   "metadata": {
    "collapsed": false,
    "deletable": true,
    "editable": true
   },
   "outputs": [],
   "source": []
  },
  {
   "cell_type": "code",
   "execution_count": null,
   "metadata": {
    "collapsed": false,
    "deletable": true,
    "editable": true
   },
   "outputs": [],
   "source": []
  },
  {
   "cell_type": "code",
   "execution_count": null,
   "metadata": {
    "collapsed": true,
    "deletable": true,
    "editable": true
   },
   "outputs": [],
   "source": []
  },
  {
   "cell_type": "code",
   "execution_count": null,
   "metadata": {
    "collapsed": false,
    "deletable": true,
    "editable": true
   },
   "outputs": [],
   "source": []
  },
  {
   "cell_type": "code",
   "execution_count": null,
   "metadata": {
    "collapsed": true,
    "deletable": true,
    "editable": true
   },
   "outputs": [],
   "source": [
    "fig, ax = plt.subplots( nrows=1, ncols=1)  # create figure & 1 axis\n",
    "\n",
    "#ax.plot(0.4 + df.rain.values[:1500]/10, linewidth=.5)\n",
    "\n",
    "ax.plot(reg.predict(x_train)[:1500],  label='prediction', linewidth=1)\n",
    "ax.plot(y_train[:1500],  label='truth', linewidth=1)\n",
    "plt.legend()\n",
    "plt.savefig('foo.png')\n",
    "plt.legend(loc='upper left')"
   ]
  },
  {
   "cell_type": "code",
   "execution_count": null,
   "metadata": {
    "collapsed": true,
    "deletable": true,
    "editable": true
   },
   "outputs": [],
   "source": []
  },
  {
   "cell_type": "code",
   "execution_count": null,
   "metadata": {
    "collapsed": true,
    "deletable": true,
    "editable": true
   },
   "outputs": [],
   "source": []
  }
 ],
 "metadata": {
  "kernelspec": {
   "display_name": "democracy",
   "language": "python",
   "name": "democracy"
  },
  "language_info": {
   "codemirror_mode": {
    "name": "ipython",
    "version": 2
   },
   "file_extension": ".py",
   "mimetype": "text/x-python",
   "name": "python",
   "nbconvert_exporter": "python",
   "pygments_lexer": "ipython2",
   "version": "2.7.3"
  }
 },
 "nbformat": 4,
 "nbformat_minor": 2
}
