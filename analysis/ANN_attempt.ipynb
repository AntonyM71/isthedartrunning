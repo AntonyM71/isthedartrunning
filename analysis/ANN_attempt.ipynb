{
 "cells": [
  {
   "cell_type": "code",
   "execution_count": 2,
   "metadata": {
    "collapsed": true
   },
   "outputs": [],
   "source": [
    "import pandas as pd\n",
    "import numpy as np\n",
    "import random\n",
    "import tensorflow as tf\n",
    "%matplotlib inline\n",
    "import matplotlib\n",
    "import matplotlib.pyplot as plt"
   ]
  },
  {
   "cell_type": "code",
   "execution_count": 40,
   "metadata": {},
   "outputs": [],
   "source": [
    "df = pd.read_csv('data.csv')\n",
    "df['timestamp'] = pd.to_datetime(df['timestamp'])\n",
    "df.index = df.timestamp\n",
    "del df['tot_rate']\n",
    "del df['timestamp']\n",
    "df.columns = ['level', 'rain']\n",
    "df = df[10000:30000]\n",
    "\n"
   ]
  },
  {
   "cell_type": "code",
   "execution_count": 41,
   "metadata": {},
   "outputs": [
    {
     "name": "stdout",
     "output_type": "stream",
     "text": [
      "2008-04-14 04:00:00\n",
      "2008-04-14 14:00:00\n",
      "2008-04-15 02:15:00\n",
      "2008-04-15 23:00:00\n",
      "2008-04-16 01:45:00\n",
      "2008-04-17 00:15:00\n",
      "2008-04-17 06:45:00\n",
      "2008-04-18 03:45:00\n",
      "2008-04-18 09:30:00\n",
      "2008-04-19 05:15:00\n",
      "2008-04-19 23:15:00\n",
      "2008-04-20 20:45:00\n",
      "2008-04-21 09:45:00\n",
      "2008-04-22 08:30:00\n",
      "2008-04-22 16:15:00\n",
      "2008-04-22 21:30:00\n",
      "2008-04-23 17:15:00\n",
      "2008-04-24 01:15:00\n",
      "2008-04-25 01:45:00\n",
      "2008-04-25 09:45:00\n",
      "2008-04-25 17:45:00\n",
      "2008-04-26 11:15:00\n",
      "2008-04-26 17:30:00\n",
      "2008-04-26 22:45:00\n",
      "2008-04-27 08:15:00\n",
      "2008-04-27 13:30:00\n",
      "2008-04-28 04:30:00\n",
      "2008-04-28 12:15:00\n",
      "2008-04-29 13:00:00\n",
      "2008-04-30 11:15:00\n",
      "2008-05-01 01:15:00\n",
      "2008-05-01 05:15:00\n",
      "2008-05-01 18:00:00\n",
      "2008-05-02 00:15:00\n",
      "2008-05-02 14:30:00\n",
      "2008-05-03 02:30:00\n",
      "2008-05-04 03:00:00\n",
      "2008-05-04 12:00:00\n",
      "2008-05-05 09:45:00\n",
      "2008-05-06 01:15:00\n",
      "2008-05-06 10:30:00\n",
      "2008-05-06 20:00:00\n",
      "2008-05-07 08:45:00\n",
      "2008-05-07 11:45:00\n",
      "2008-05-08 01:30:00\n",
      "2008-05-08 16:45:00\n",
      "2008-05-09 06:15:00\n",
      "2008-05-09 14:45:00\n",
      "2008-05-09 19:15:00\n",
      "2008-05-10 12:00:00\n",
      "2008-05-11 07:00:00\n",
      "2008-05-11 21:00:00\n",
      "2008-05-12 20:15:00\n",
      "2008-05-13 03:30:00\n",
      "2008-05-13 17:45:00\n",
      "2008-05-14 08:45:00\n",
      "2008-05-14 22:00:00\n",
      "2008-05-15 02:00:00\n",
      "2008-05-15 06:00:00\n",
      "2008-05-15 14:15:00\n",
      "2008-05-16 00:00:00\n",
      "2008-05-16 22:45:00\n",
      "2008-05-17 10:30:00\n",
      "2008-05-17 17:30:00\n",
      "2008-05-17 23:15:00\n",
      "2008-05-18 23:30:00\n",
      "2008-05-19 07:00:00\n",
      "2008-05-19 21:30:00\n",
      "2008-05-20 00:30:00\n",
      "2008-05-20 04:15:00\n",
      "2008-05-21 05:15:00\n",
      "2008-05-21 15:15:00\n",
      "2008-05-21 22:00:00\n",
      "2008-05-22 13:15:00\n",
      "2008-05-22 16:45:00\n",
      "2008-05-23 02:45:00\n",
      "2008-05-23 17:15:00\n",
      "2008-05-24 00:15:00\n",
      "2008-05-24 05:45:00\n",
      "2008-05-25 00:15:00\n",
      "2008-05-25 14:15:00\n",
      "2008-05-26 10:30:00\n",
      "2008-05-26 23:00:00\n",
      "2008-05-27 06:30:00\n",
      "2008-05-27 13:45:00\n",
      "2008-05-27 23:00:00\n",
      "2008-05-28 21:45:00\n",
      "2008-05-29 06:30:00\n",
      "2008-05-29 09:30:00\n",
      "2008-05-29 17:15:00\n",
      "2008-05-30 10:45:00\n",
      "2008-05-30 16:30:00\n",
      "2008-05-31 10:45:00\n",
      "2008-05-31 14:45:00\n",
      "2008-06-01 11:00:00\n",
      "2008-06-01 19:15:00\n",
      "2008-06-02 16:00:00\n",
      "2008-06-02 21:45:00\n",
      "2008-06-03 05:30:00\n",
      "2008-06-04 02:45:00\n",
      "2008-06-04 13:15:00\n",
      "2008-06-05 07:30:00\n",
      "2008-06-05 17:00:00\n",
      "2008-06-06 02:15:00\n",
      "2008-06-06 07:30:00\n",
      "2008-06-07 01:30:00\n",
      "2008-06-07 23:30:00\n",
      "2008-06-08 19:30:00\n",
      "2008-06-09 18:00:00\n",
      "2008-06-10 09:00:00\n",
      "2008-06-10 19:15:00\n",
      "2008-06-11 13:15:00\n",
      "2008-06-11 20:30:00\n",
      "2008-06-12 04:00:00\n",
      "2008-06-12 21:30:00\n",
      "2008-06-13 06:30:00\n",
      "2008-06-13 16:00:00\n",
      "2008-06-14 10:00:00\n",
      "2008-06-15 10:30:00\n",
      "2008-06-15 13:30:00\n",
      "2008-06-16 07:45:00\n",
      "2008-06-16 14:00:00\n",
      "2008-06-17 10:15:00\n",
      "2008-06-18 04:30:00\n",
      "2008-06-18 18:00:00\n",
      "2008-06-19 07:15:00\n",
      "2008-06-20 02:15:00\n",
      "2008-06-20 10:15:00\n",
      "2008-06-21 00:45:00\n",
      "2008-06-21 19:00:00\n",
      "2008-06-22 00:30:00\n",
      "2008-06-22 17:45:00\n",
      "2008-06-22 20:30:00\n",
      "2008-06-23 15:00:00\n",
      "2008-06-24 07:30:00\n",
      "2008-06-24 17:45:00\n",
      "2008-06-25 02:30:00\n",
      "2008-06-25 06:45:00\n",
      "2008-06-25 16:15:00\n",
      "2008-06-26 10:45:00\n",
      "2008-06-27 12:00:00\n",
      "2008-06-28 06:15:00\n",
      "2008-06-28 17:45:00\n",
      "2008-06-29 03:45:00\n",
      "2008-06-30 05:00:00\n",
      "2008-07-01 00:30:00\n",
      "2008-07-01 23:15:00\n",
      "2008-07-02 18:00:00\n",
      "2008-07-03 03:30:00\n",
      "2008-07-03 16:30:00\n",
      "2008-07-03 22:30:00\n",
      "2008-07-04 08:00:00\n",
      "2008-07-04 13:15:00\n",
      "2008-07-04 17:45:00\n",
      "2008-07-05 13:00:00\n",
      "2008-07-06 03:45:00\n",
      "2008-07-07 00:45:00\n",
      "2008-07-07 16:45:00\n",
      "2008-07-08 11:45:00\n",
      "2008-07-09 00:45:00\n",
      "2008-07-09 19:15:00\n",
      "2008-07-10 00:45:00\n",
      "2008-07-10 18:30:00\n",
      "2008-07-11 08:15:00\n",
      "2008-07-12 08:45:00\n",
      "2008-07-12 13:15:00\n",
      "2008-07-13 00:30:00\n",
      "2008-07-14 00:15:00\n",
      "2008-07-14 08:15:00\n",
      "2008-07-14 15:30:00\n",
      "2008-07-14 21:00:00\n",
      "2008-07-15 14:15:00\n",
      "2008-07-16 03:15:00\n",
      "2008-07-16 21:00:00\n",
      "2008-07-17 16:45:00\n",
      "2008-07-18 09:15:00\n",
      "2008-07-18 20:15:00\n",
      "2008-07-19 18:00:00\n",
      "2008-07-20 11:45:00\n",
      "2008-07-21 00:30:00\n",
      "2008-07-21 03:30:00\n",
      "2008-07-21 11:15:00\n",
      "2008-07-21 21:30:00\n",
      "2008-07-22 04:30:00\n",
      "2008-07-22 22:00:00\n",
      "2008-07-23 13:15:00\n",
      "2008-07-23 16:00:00\n",
      "2008-07-24 12:45:00\n",
      "2008-07-25 07:00:00\n",
      "2008-07-25 19:30:00\n",
      "2008-07-25 23:30:00\n",
      "2008-07-26 19:00:00\n",
      "2008-07-27 15:15:00\n",
      "2008-07-28 15:00:00\n",
      "2008-07-28 23:30:00\n",
      "2008-07-29 19:45:00\n",
      "2008-07-30 13:45:00\n",
      "2008-07-30 23:45:00\n",
      "2008-07-31 11:30:00\n",
      "2008-08-01 04:45:00\n",
      "2008-08-01 14:00:00\n",
      "2008-08-02 15:00:00\n",
      "2008-08-03 03:15:00\n",
      "2008-08-03 19:45:00\n",
      "2008-08-04 19:30:00\n",
      "2008-08-05 08:15:00\n",
      "2008-08-05 11:00:00\n",
      "2008-08-05 13:45:00\n",
      "2008-08-06 07:00:00\n",
      "2008-08-06 16:30:00\n",
      "2008-08-06 20:00:00\n",
      "2008-08-07 12:15:00\n",
      "2008-08-08 02:15:00\n",
      "2008-08-08 22:45:00\n",
      "2008-08-09 14:15:00\n",
      "2008-08-10 05:30:00\n",
      "2008-08-10 15:00:00\n",
      "2008-08-11 10:30:00\n",
      "2008-08-11 23:45:00\n",
      "2008-08-12 05:45:00\n",
      "2008-08-13 02:00:00\n",
      "2008-08-13 18:15:00\n",
      "2008-08-13 23:00:00\n",
      "2008-08-14 09:00:00\n",
      "2008-08-14 19:45:00\n",
      "2008-08-15 09:30:00\n",
      "2008-08-15 14:15:00\n",
      "2008-08-16 15:15:00\n",
      "2008-08-17 10:00:00\n",
      "2008-08-17 15:15:00\n",
      "2008-08-18 01:15:00\n",
      "2008-08-18 08:00:00\n",
      "2008-08-19 08:15:00\n",
      "2008-08-20 06:30:00\n",
      "2008-08-20 23:15:00\n",
      "2008-08-21 23:15:00\n",
      "2008-08-22 11:45:00\n",
      "2008-08-22 22:45:00\n",
      "2008-08-23 16:15:00\n",
      "2008-08-23 22:30:00\n",
      "2008-08-24 19:00:00\n",
      "2008-08-25 16:45:00\n",
      "2008-08-26 13:00:00\n",
      "2008-08-26 18:30:00\n",
      "2008-08-27 17:30:00\n",
      "2008-08-28 13:00:00\n",
      "2008-08-29 13:15:00\n",
      "2008-08-30 04:30:00\n",
      "2008-08-30 20:15:00\n",
      "2008-08-31 20:00:00\n",
      "2008-09-01 07:45:00\n",
      "2008-09-01 11:15:00\n",
      "2008-09-02 11:00:00\n",
      "2008-09-02 16:00:00\n",
      "2008-09-02 19:15:00\n",
      "2008-09-03 04:00:00\n",
      "2008-09-03 09:00:00\n",
      "2008-09-04 07:30:00\n",
      "2008-09-04 16:30:00\n",
      "2008-09-05 04:15:00\n",
      "2008-09-05 22:45:00\n",
      "2008-09-06 19:15:00\n",
      "2008-09-07 13:00:00\n",
      "2008-09-07 23:45:00\n",
      "2008-09-08 22:00:00\n",
      "2008-09-09 15:00:00\n",
      "2008-09-10 04:30:00\n",
      "2008-09-11 04:00:00\n",
      "2008-09-12 02:15:00\n",
      "2008-09-12 14:30:00\n",
      "2008-09-13 07:45:00\n",
      "2008-09-13 18:45:00\n",
      "2008-09-14 13:30:00\n",
      "2008-09-15 08:15:00\n",
      "2008-09-15 20:15:00\n",
      "2008-09-16 20:00:00\n",
      "2008-09-17 18:00:00\n",
      "2008-09-18 04:45:00\n",
      "2008-09-18 17:00:00\n",
      "2008-09-19 09:15:00\n",
      "2008-09-20 05:30:00\n",
      "2008-09-20 22:45:00\n",
      "2008-09-21 03:45:00\n",
      "2008-09-21 19:30:00\n",
      "2008-09-22 13:30:00\n",
      "2008-09-23 08:15:00\n",
      "2008-09-23 22:45:00\n",
      "2008-09-24 06:15:00\n",
      "2008-09-25 05:45:00\n",
      "2008-09-25 21:15:00\n",
      "2008-09-26 03:15:00\n",
      "2008-09-26 09:45:00\n",
      "2008-09-27 07:30:00\n",
      "2008-09-27 11:15:00\n",
      "2008-09-27 17:15:00\n",
      "2008-09-28 00:45:00\n",
      "2008-09-28 11:45:00\n",
      "2008-09-29 08:30:00\n",
      "2008-09-29 17:30:00\n",
      "2008-09-30 04:00:00\n",
      "2008-09-30 20:30:00\n",
      "2008-10-01 10:30:00\n",
      "2008-10-01 19:15:00\n",
      "2008-10-02 14:30:00\n",
      "2008-10-02 20:30:00\n",
      "2008-10-03 14:15:00\n",
      "2008-10-04 04:15:00\n",
      "2008-10-05 01:15:00\n",
      "2008-10-05 22:30:00\n",
      "2008-10-06 05:15:00\n",
      "2008-10-06 11:15:00\n",
      "2008-10-07 12:30:00\n",
      "2008-10-08 02:45:00\n",
      "2008-10-08 15:45:00\n",
      "2008-10-09 10:00:00\n",
      "2008-10-09 21:30:00\n",
      "2008-10-10 04:15:00\n",
      "2008-10-10 19:00:00\n",
      "2008-10-11 12:15:00\n",
      "2008-10-11 16:00:00\n",
      "2008-10-11 23:15:00\n",
      "2008-10-12 19:15:00\n",
      "2008-10-13 06:15:00\n",
      "2008-10-13 17:45:00\n",
      "2008-10-14 16:15:00\n",
      "2008-10-15 03:15:00\n",
      "2008-10-16 03:30:00\n",
      "2008-10-17 00:00:00\n",
      "2008-10-17 08:45:00\n",
      "2008-10-18 01:15:00\n",
      "2008-10-18 19:15:00\n",
      "2008-10-19 06:00:00\n",
      "2008-10-20 07:15:00\n",
      "2008-10-21 04:30:00\n",
      "2008-10-22 02:00:00\n",
      "2008-10-22 15:45:00\n",
      "2008-10-23 06:30:00\n",
      "2008-10-23 14:45:00\n",
      "2008-10-24 10:15:00\n",
      "2008-10-24 16:30:00\n",
      "2008-10-25 09:45:00\n",
      "2008-10-25 13:45:00\n",
      "2008-10-26 10:00:00\n",
      "2008-10-26 14:30:00\n",
      "2008-10-27 11:45:00\n",
      "2008-10-28 08:45:00\n",
      "2008-10-28 20:15:00\n",
      "2008-10-29 19:30:00\n",
      "2008-10-30 15:15:00\n",
      "2008-10-30 19:15:00\n",
      "2008-10-31 17:30:00\n",
      "2008-11-01 11:15:00\n",
      "2008-11-01 17:15:00\n",
      "2008-11-02 00:00:00\n",
      "2008-11-02 10:30:00\n",
      "2008-11-03 05:45:00\n",
      "2008-11-03 16:45:00\n",
      "2008-11-04 14:45:00\n",
      "2008-11-04 23:45:00\n",
      "2008-11-06 00:00:00\n",
      "2008-11-06 02:45:00\n",
      "2008-11-06 07:15:00\n",
      "2008-11-06 16:15:00\n",
      "2008-11-07 03:00:00\n",
      "2008-11-07 22:45:00\n"
     ]
    }
   ],
   "source": [
    "df['time_since_update'] = None\n",
    "df['last_update'] = None\n",
    "\n",
    "update = 0\n",
    "time_since_update = 0\n",
    "for i, r in df.iterrows():\n",
    "    if time_since_update >= update:\n",
    "        recorded_level = df.loc[i, 'level']\n",
    "        update = random.randint(10,100)\n",
    "        time_since_update = 0\n",
    "        print i\n",
    "    else:\n",
    "        time_since_update = time_since_update + 1\n",
    "\n",
    "    df.loc[i, 'time_since_update'] = time_since_update\n",
    "    df.loc[i, 'last_update'] = recorded_level\n",
    "\n",
    "\n"
   ]
  },
  {
   "cell_type": "code",
   "execution_count": null,
   "metadata": {
    "collapsed": true
   },
   "outputs": [],
   "source": []
  },
  {
   "cell_type": "code",
   "execution_count": 42,
   "metadata": {},
   "outputs": [
    {
     "data": {
      "text/html": [
       "<div>\n",
       "<table border=\"1\" class=\"dataframe\">\n",
       "  <thead>\n",
       "    <tr style=\"text-align: right;\">\n",
       "      <th></th>\n",
       "      <th>level</th>\n",
       "      <th>rain</th>\n",
       "      <th>time_since_update</th>\n",
       "      <th>last_update</th>\n",
       "    </tr>\n",
       "    <tr>\n",
       "      <th>timestamp</th>\n",
       "      <th></th>\n",
       "      <th></th>\n",
       "      <th></th>\n",
       "      <th></th>\n",
       "    </tr>\n",
       "  </thead>\n",
       "  <tbody>\n",
       "    <tr>\n",
       "      <th>2008-04-14 04:00:00</th>\n",
       "      <td>0.369</td>\n",
       "      <td>0.0</td>\n",
       "      <td>0</td>\n",
       "      <td>0.369</td>\n",
       "    </tr>\n",
       "    <tr>\n",
       "      <th>2008-04-14 04:15:00</th>\n",
       "      <td>0.368</td>\n",
       "      <td>0.0</td>\n",
       "      <td>1</td>\n",
       "      <td>0.369</td>\n",
       "    </tr>\n",
       "    <tr>\n",
       "      <th>2008-04-14 04:30:00</th>\n",
       "      <td>0.368</td>\n",
       "      <td>0.0</td>\n",
       "      <td>2</td>\n",
       "      <td>0.369</td>\n",
       "    </tr>\n",
       "    <tr>\n",
       "      <th>2008-04-14 04:45:00</th>\n",
       "      <td>0.367</td>\n",
       "      <td>0.0</td>\n",
       "      <td>3</td>\n",
       "      <td>0.369</td>\n",
       "    </tr>\n",
       "    <tr>\n",
       "      <th>2008-04-14 05:00:00</th>\n",
       "      <td>0.366</td>\n",
       "      <td>0.0</td>\n",
       "      <td>4</td>\n",
       "      <td>0.369</td>\n",
       "    </tr>\n",
       "  </tbody>\n",
       "</table>\n",
       "</div>"
      ],
      "text/plain": [
       "                     level  rain time_since_update last_update\n",
       "timestamp                                                     \n",
       "2008-04-14 04:00:00  0.369   0.0                 0       0.369\n",
       "2008-04-14 04:15:00  0.368   0.0                 1       0.369\n",
       "2008-04-14 04:30:00  0.368   0.0                 2       0.369\n",
       "2008-04-14 04:45:00  0.367   0.0                 3       0.369\n",
       "2008-04-14 05:00:00  0.366   0.0                 4       0.369"
      ]
     },
     "execution_count": 42,
     "metadata": {},
     "output_type": "execute_result"
    }
   ],
   "source": [
    "df.head()"
   ]
  },
  {
   "cell_type": "code",
   "execution_count": 43,
   "metadata": {},
   "outputs": [
    {
     "data": {
      "text/plain": [
       "(18000, 1)"
      ]
     },
     "execution_count": 43,
     "metadata": {},
     "output_type": "execute_result"
    }
   ],
   "source": [
    "# 100 equates to roughly 24 hours\n",
    "n_features = 2000\n",
    "y = df.level[n_features:].values\n",
    "y = np.reshape(y, (y.shape[0], 1)).astype('float32')\n",
    "\n",
    "\n",
    "y = df.level[n_features:].values\n",
    "y = np.reshape(y, (y.shape[0], 1)).astype('float32')\n",
    "y.shape\n"
   ]
  },
  {
   "cell_type": "code",
   "execution_count": 44,
   "metadata": {},
   "outputs": [
    {
     "data": {
      "text/plain": [
       "(18000, 2002)"
      ]
     },
     "execution_count": 44,
     "metadata": {},
     "output_type": "execute_result"
    }
   ],
   "source": [
    "x = df[['rain', 'last_update', 'time_since_update']].copy()\n",
    "for i in range(1, n_features):\n",
    "    x['rain' + str(i)] = x['rain'].shift(i)\n",
    "x = x[n_features:].values.astype('float32')\n",
    "x.shape\n"
   ]
  },
  {
   "cell_type": "code",
   "execution_count": 57,
   "metadata": {},
   "outputs": [
    {
     "name": "stdout",
     "output_type": "stream",
     "text": [
      "(array([[ 1.,  1.,  0., ...,  0.,  0.,  0.],\n",
      "       [ 1.,  1.,  0., ...,  0.,  0.,  0.],\n",
      "       [ 1.,  1.,  0., ...,  0.,  0.,  0.],\n",
      "       ..., \n",
      "       [ 1.,  1.,  0., ...,  0.,  0.,  0.],\n",
      "       [ 1.,  1.,  0., ...,  0.,  0.,  0.],\n",
      "       [ 1.,  1.,  0., ...,  0.,  0.,  0.]]), [18000, 2003])\n"
     ]
    }
   ],
   "source": [
    "# Add bias terms...\n",
    "#n_samples = x.shape[0]\n",
    "#x = np.reshape(np.c_[np.ones(n_samples),x],[n_samples,n_features + 3])\n",
    "\n",
    "print (np.c_[np.ones(n_samples),x], [n_samples,n_features + 3])\n"
   ]
  },
  {
   "cell_type": "code",
   "execution_count": null,
   "metadata": {
    "collapsed": true
   },
   "outputs": [],
   "source": [
    "from sklearn.model_selection import train_test_split\n",
    "\n",
    "X_train, X_test, y_train, y_test = train_test_split(X, y, test_size=0.33, random_state=42)"
   ]
  },
  {
   "cell_type": "code",
   "execution_count": 22,
   "metadata": {
    "collapsed": true
   },
   "outputs": [],
   "source": [
    "def weight_variable(shape):\n",
    "    initial = tf.truncated_normal(shape, stddev=0.1)\n",
    "    return tf.Variable(initial)\n",
    "def bias_variable(shape):\n",
    "    initial = tf.constant(0.1, shape=shape)\n",
    "    return tf.Variable(initial)\n",
    "def get_train_inputs():\n",
    "    x = tf.constant(x_train)\n",
    "    y = tf.constant(y_train)\n",
    "    return x, y\n",
    "\n",
    "def input_fn_predict_train(): # returns x, None\n",
    "    x = tf.constant(x_train)\n",
    "    return x\n",
    "\n",
    "def input_fn_predict_test(): # returns x, None\n",
    "    x = tf.constant(x_test)\n",
    "    return x"
   ]
  },
  {
   "cell_type": "code",
   "execution_count": 31,
   "metadata": {},
   "outputs": [
    {
     "name": "stdout",
     "output_type": "stream",
     "text": [
      "INFO:tensorflow:Using default config.\n",
      "INFO:tensorflow:Using config: {'_model_dir': None, '_save_checkpoints_secs': 600, '_num_ps_replicas': 0, '_keep_checkpoint_max': 5, '_tf_random_seed': None, '_task_type': None, '_environment': 'local', '_is_chief': True, '_cluster_spec': <tensorflow.python.training.server_lib.ClusterSpec object at 0x120c74690>, '_tf_config': gpu_options {\n",
      "  per_process_gpu_memory_fraction: 1\n",
      "}\n",
      ", '_num_worker_replicas': 0, '_task_id': 0, '_save_summary_steps': 100, '_save_checkpoints_steps': None, '_evaluation_master': '', '_keep_checkpoint_every_n_hours': 10000, '_master': ''}\n",
      "WARNING:tensorflow:Using temporary folder as model directory: /var/folders/2m/hrvmvlnn0wl1kldf9bhp06qc0000gn/T/tmpcWXKkX\n"
     ]
    }
   ],
   "source": [
    "feature_columns = [tf.contrib.layers.real_valued_column(\"\", dimension=n_features)]\n",
    "\n",
    "estimator = tf.contrib.learn.DNNRegressor(\n",
    "    feature_columns=feature_columns,\n",
    "    hidden_units=[5, 5, 5],\n",
    "    optimizer=tf.train.ProximalAdagradOptimizer(\n",
    "      learning_rate=0.01,\n",
    "      l1_regularization_strength=0.001\n",
    "    ))"
   ]
  },
  {
   "cell_type": "code",
   "execution_count": 32,
   "metadata": {},
   "outputs": [
    {
     "name": "stdout",
     "output_type": "stream",
     "text": [
      "WARNING:tensorflow:From /Users/jamieconn/.pyenv/versions/2.7.3/envs/kaggle/lib/python2.7/site-packages/tensorflow/contrib/learn/python/learn/estimators/head.py:615: scalar_summary (from tensorflow.python.ops.logging_ops) is deprecated and will be removed after 2016-11-30.\n",
      "Instructions for updating:\n",
      "Please switch to tf.summary.scalar. Note that tf.summary.scalar uses the node name instead of the tag. This means that TensorFlow will automatically de-duplicate summary names based on the scope they are created in. Also, passing a tensor or list of tags to a scalar summary op is no longer supported.\n",
      "INFO:tensorflow:Create CheckpointSaverHook.\n"
     ]
    },
    {
     "ename": "KeyboardInterrupt",
     "evalue": "",
     "output_type": "error",
     "traceback": [
      "\u001b[0;31m---------------------------------------------------------------------------\u001b[0m",
      "\u001b[0;31mKeyboardInterrupt\u001b[0m                         Traceback (most recent call last)",
      "\u001b[0;32m<ipython-input-32-3433a0b06cf6>\u001b[0m in \u001b[0;36m<module>\u001b[0;34m()\u001b[0m\n\u001b[0;32m----> 1\u001b[0;31m \u001b[0mestimator\u001b[0m\u001b[0;34m.\u001b[0m\u001b[0mfit\u001b[0m\u001b[0;34m(\u001b[0m\u001b[0minput_fn\u001b[0m \u001b[0;34m=\u001b[0m \u001b[0mget_train_inputs\u001b[0m\u001b[0;34m,\u001b[0m \u001b[0msteps\u001b[0m\u001b[0;34m=\u001b[0m\u001b[0;36m2000\u001b[0m\u001b[0;34m)\u001b[0m\u001b[0;34m\u001b[0m\u001b[0m\n\u001b[0m",
      "\u001b[0;32m/Users/jamieconn/.pyenv/versions/2.7.3/envs/kaggle/lib/python2.7/site-packages/tensorflow/python/util/deprecation.pyc\u001b[0m in \u001b[0;36mnew_func\u001b[0;34m(*args, **kwargs)\u001b[0m\n\u001b[1;32m    279\u001b[0m             \u001b[0m_call_location\u001b[0m\u001b[0;34m(\u001b[0m\u001b[0;34m)\u001b[0m\u001b[0;34m,\u001b[0m \u001b[0mdecorator_utils\u001b[0m\u001b[0;34m.\u001b[0m\u001b[0mget_qualified_name\u001b[0m\u001b[0;34m(\u001b[0m\u001b[0mfunc\u001b[0m\u001b[0;34m)\u001b[0m\u001b[0;34m,\u001b[0m\u001b[0;34m\u001b[0m\u001b[0m\n\u001b[1;32m    280\u001b[0m             func.__module__, arg_name, date, instructions)\n\u001b[0;32m--> 281\u001b[0;31m       \u001b[0;32mreturn\u001b[0m \u001b[0mfunc\u001b[0m\u001b[0;34m(\u001b[0m\u001b[0;34m*\u001b[0m\u001b[0margs\u001b[0m\u001b[0;34m,\u001b[0m \u001b[0;34m**\u001b[0m\u001b[0mkwargs\u001b[0m\u001b[0;34m)\u001b[0m\u001b[0;34m\u001b[0m\u001b[0m\n\u001b[0m\u001b[1;32m    282\u001b[0m     new_func.__doc__ = _add_deprecated_arg_notice_to_docstring(\n\u001b[1;32m    283\u001b[0m         func.__doc__, date, instructions)\n",
      "\u001b[0;32m/Users/jamieconn/.pyenv/versions/2.7.3/envs/kaggle/lib/python2.7/site-packages/tensorflow/contrib/learn/python/learn/estimators/estimator.pyc\u001b[0m in \u001b[0;36mfit\u001b[0;34m(self, x, y, input_fn, steps, batch_size, monitors, max_steps)\u001b[0m\n\u001b[1;32m    428\u001b[0m       \u001b[0mhooks\u001b[0m\u001b[0;34m.\u001b[0m\u001b[0mappend\u001b[0m\u001b[0;34m(\u001b[0m\u001b[0mbasic_session_run_hooks\u001b[0m\u001b[0;34m.\u001b[0m\u001b[0mStopAtStepHook\u001b[0m\u001b[0;34m(\u001b[0m\u001b[0msteps\u001b[0m\u001b[0;34m,\u001b[0m \u001b[0mmax_steps\u001b[0m\u001b[0;34m)\u001b[0m\u001b[0;34m)\u001b[0m\u001b[0;34m\u001b[0m\u001b[0m\n\u001b[1;32m    429\u001b[0m \u001b[0;34m\u001b[0m\u001b[0m\n\u001b[0;32m--> 430\u001b[0;31m     \u001b[0mloss\u001b[0m \u001b[0;34m=\u001b[0m \u001b[0mself\u001b[0m\u001b[0;34m.\u001b[0m\u001b[0m_train_model\u001b[0m\u001b[0;34m(\u001b[0m\u001b[0minput_fn\u001b[0m\u001b[0;34m=\u001b[0m\u001b[0minput_fn\u001b[0m\u001b[0;34m,\u001b[0m \u001b[0mhooks\u001b[0m\u001b[0;34m=\u001b[0m\u001b[0mhooks\u001b[0m\u001b[0;34m)\u001b[0m\u001b[0;34m\u001b[0m\u001b[0m\n\u001b[0m\u001b[1;32m    431\u001b[0m     \u001b[0mlogging\u001b[0m\u001b[0;34m.\u001b[0m\u001b[0minfo\u001b[0m\u001b[0;34m(\u001b[0m\u001b[0;34m'Loss for final step: %s.'\u001b[0m\u001b[0;34m,\u001b[0m \u001b[0mloss\u001b[0m\u001b[0;34m)\u001b[0m\u001b[0;34m\u001b[0m\u001b[0m\n\u001b[1;32m    432\u001b[0m     \u001b[0;32mreturn\u001b[0m \u001b[0mself\u001b[0m\u001b[0;34m\u001b[0m\u001b[0m\n",
      "\u001b[0;32m/Users/jamieconn/.pyenv/versions/2.7.3/envs/kaggle/lib/python2.7/site-packages/tensorflow/contrib/learn/python/learn/estimators/estimator.pyc\u001b[0m in \u001b[0;36m_train_model\u001b[0;34m(self, input_fn, hooks)\u001b[0m\n\u001b[1;32m    976\u001b[0m         \u001b[0mloss\u001b[0m \u001b[0;34m=\u001b[0m \u001b[0mNone\u001b[0m\u001b[0;34m\u001b[0m\u001b[0m\n\u001b[1;32m    977\u001b[0m         \u001b[0;32mwhile\u001b[0m \u001b[0;32mnot\u001b[0m \u001b[0mmon_sess\u001b[0m\u001b[0;34m.\u001b[0m\u001b[0mshould_stop\u001b[0m\u001b[0;34m(\u001b[0m\u001b[0;34m)\u001b[0m\u001b[0;34m:\u001b[0m\u001b[0;34m\u001b[0m\u001b[0m\n\u001b[0;32m--> 978\u001b[0;31m           \u001b[0m_\u001b[0m\u001b[0;34m,\u001b[0m \u001b[0mloss\u001b[0m \u001b[0;34m=\u001b[0m \u001b[0mmon_sess\u001b[0m\u001b[0;34m.\u001b[0m\u001b[0mrun\u001b[0m\u001b[0;34m(\u001b[0m\u001b[0;34m[\u001b[0m\u001b[0mmodel_fn_ops\u001b[0m\u001b[0;34m.\u001b[0m\u001b[0mtrain_op\u001b[0m\u001b[0;34m,\u001b[0m \u001b[0mmodel_fn_ops\u001b[0m\u001b[0;34m.\u001b[0m\u001b[0mloss\u001b[0m\u001b[0;34m]\u001b[0m\u001b[0;34m)\u001b[0m\u001b[0;34m\u001b[0m\u001b[0m\n\u001b[0m\u001b[1;32m    979\u001b[0m       \u001b[0msummary_io\u001b[0m\u001b[0;34m.\u001b[0m\u001b[0mSummaryWriterCache\u001b[0m\u001b[0;34m.\u001b[0m\u001b[0mclear\u001b[0m\u001b[0;34m(\u001b[0m\u001b[0;34m)\u001b[0m\u001b[0;34m\u001b[0m\u001b[0m\n\u001b[1;32m    980\u001b[0m       \u001b[0;32mreturn\u001b[0m \u001b[0mloss\u001b[0m\u001b[0;34m\u001b[0m\u001b[0m\n",
      "\u001b[0;32m/Users/jamieconn/.pyenv/versions/2.7.3/envs/kaggle/lib/python2.7/site-packages/tensorflow/python/training/monitored_session.pyc\u001b[0m in \u001b[0;36mrun\u001b[0;34m(self, fetches, feed_dict, options, run_metadata)\u001b[0m\n\u001b[1;32m    482\u001b[0m                           \u001b[0mfeed_dict\u001b[0m\u001b[0;34m=\u001b[0m\u001b[0mfeed_dict\u001b[0m\u001b[0;34m,\u001b[0m\u001b[0;34m\u001b[0m\u001b[0m\n\u001b[1;32m    483\u001b[0m                           \u001b[0moptions\u001b[0m\u001b[0;34m=\u001b[0m\u001b[0moptions\u001b[0m\u001b[0;34m,\u001b[0m\u001b[0;34m\u001b[0m\u001b[0m\n\u001b[0;32m--> 484\u001b[0;31m                           run_metadata=run_metadata)\n\u001b[0m\u001b[1;32m    485\u001b[0m \u001b[0;34m\u001b[0m\u001b[0m\n\u001b[1;32m    486\u001b[0m   \u001b[0;32mdef\u001b[0m \u001b[0mshould_stop\u001b[0m\u001b[0;34m(\u001b[0m\u001b[0mself\u001b[0m\u001b[0;34m)\u001b[0m\u001b[0;34m:\u001b[0m\u001b[0;34m\u001b[0m\u001b[0m\n",
      "\u001b[0;32m/Users/jamieconn/.pyenv/versions/2.7.3/envs/kaggle/lib/python2.7/site-packages/tensorflow/python/training/monitored_session.pyc\u001b[0m in \u001b[0;36mrun\u001b[0;34m(self, fetches, feed_dict, options, run_metadata)\u001b[0m\n\u001b[1;32m    818\u001b[0m                               \u001b[0mfeed_dict\u001b[0m\u001b[0;34m=\u001b[0m\u001b[0mfeed_dict\u001b[0m\u001b[0;34m,\u001b[0m\u001b[0;34m\u001b[0m\u001b[0m\n\u001b[1;32m    819\u001b[0m                               \u001b[0moptions\u001b[0m\u001b[0;34m=\u001b[0m\u001b[0moptions\u001b[0m\u001b[0;34m,\u001b[0m\u001b[0;34m\u001b[0m\u001b[0m\n\u001b[0;32m--> 820\u001b[0;31m                               run_metadata=run_metadata)\n\u001b[0m\u001b[1;32m    821\u001b[0m       \u001b[0;32mexcept\u001b[0m \u001b[0m_PREEMPTION_ERRORS\u001b[0m \u001b[0;32mas\u001b[0m \u001b[0me\u001b[0m\u001b[0;34m:\u001b[0m\u001b[0;34m\u001b[0m\u001b[0m\n\u001b[1;32m    822\u001b[0m         logging.info('An error was raised. This may be due to a preemption in '\n",
      "\u001b[0;32m/Users/jamieconn/.pyenv/versions/2.7.3/envs/kaggle/lib/python2.7/site-packages/tensorflow/python/training/monitored_session.pyc\u001b[0m in \u001b[0;36mrun\u001b[0;34m(self, *args, **kwargs)\u001b[0m\n\u001b[1;32m    774\u001b[0m \u001b[0;34m\u001b[0m\u001b[0m\n\u001b[1;32m    775\u001b[0m   \u001b[0;32mdef\u001b[0m \u001b[0mrun\u001b[0m\u001b[0;34m(\u001b[0m\u001b[0mself\u001b[0m\u001b[0;34m,\u001b[0m \u001b[0;34m*\u001b[0m\u001b[0margs\u001b[0m\u001b[0;34m,\u001b[0m \u001b[0;34m**\u001b[0m\u001b[0mkwargs\u001b[0m\u001b[0;34m)\u001b[0m\u001b[0;34m:\u001b[0m\u001b[0;34m\u001b[0m\u001b[0m\n\u001b[0;32m--> 776\u001b[0;31m     \u001b[0;32mreturn\u001b[0m \u001b[0mself\u001b[0m\u001b[0;34m.\u001b[0m\u001b[0m_sess\u001b[0m\u001b[0;34m.\u001b[0m\u001b[0mrun\u001b[0m\u001b[0;34m(\u001b[0m\u001b[0;34m*\u001b[0m\u001b[0margs\u001b[0m\u001b[0;34m,\u001b[0m \u001b[0;34m**\u001b[0m\u001b[0mkwargs\u001b[0m\u001b[0;34m)\u001b[0m\u001b[0;34m\u001b[0m\u001b[0m\n\u001b[0m\u001b[1;32m    777\u001b[0m \u001b[0;34m\u001b[0m\u001b[0m\n\u001b[1;32m    778\u001b[0m \u001b[0;34m\u001b[0m\u001b[0m\n",
      "\u001b[0;32m/Users/jamieconn/.pyenv/versions/2.7.3/envs/kaggle/lib/python2.7/site-packages/tensorflow/python/training/monitored_session.pyc\u001b[0m in \u001b[0;36mrun\u001b[0;34m(self, fetches, feed_dict, options, run_metadata)\u001b[0m\n\u001b[1;32m    920\u001b[0m     \u001b[0moptions\u001b[0m \u001b[0;34m=\u001b[0m \u001b[0moptions\u001b[0m \u001b[0;32mor\u001b[0m \u001b[0mconfig_pb2\u001b[0m\u001b[0;34m.\u001b[0m\u001b[0mRunOptions\u001b[0m\u001b[0;34m(\u001b[0m\u001b[0;34m)\u001b[0m\u001b[0;34m\u001b[0m\u001b[0m\n\u001b[1;32m    921\u001b[0m     feed_dict = self._call_hook_before_run(run_context, actual_fetches,\n\u001b[0;32m--> 922\u001b[0;31m                                            feed_dict, options)\n\u001b[0m\u001b[1;32m    923\u001b[0m \u001b[0;34m\u001b[0m\u001b[0m\n\u001b[1;32m    924\u001b[0m     \u001b[0;31m# Do session run.\u001b[0m\u001b[0;34m\u001b[0m\u001b[0;34m\u001b[0m\u001b[0m\n",
      "\u001b[0;32m/Users/jamieconn/.pyenv/versions/2.7.3/envs/kaggle/lib/python2.7/site-packages/tensorflow/python/training/monitored_session.pyc\u001b[0m in \u001b[0;36m_call_hook_before_run\u001b[0;34m(self, run_context, fetch_dict, user_feed_dict, options)\u001b[0m\n\u001b[1;32m    946\u001b[0m     \u001b[0mhook_feeds\u001b[0m \u001b[0;34m=\u001b[0m \u001b[0;34m{\u001b[0m\u001b[0;34m}\u001b[0m\u001b[0;34m\u001b[0m\u001b[0m\n\u001b[1;32m    947\u001b[0m     \u001b[0;32mfor\u001b[0m \u001b[0mhook\u001b[0m \u001b[0;32min\u001b[0m \u001b[0mself\u001b[0m\u001b[0;34m.\u001b[0m\u001b[0m_hooks\u001b[0m\u001b[0;34m:\u001b[0m\u001b[0;34m\u001b[0m\u001b[0m\n\u001b[0;32m--> 948\u001b[0;31m       \u001b[0mrequest\u001b[0m \u001b[0;34m=\u001b[0m \u001b[0mhook\u001b[0m\u001b[0;34m.\u001b[0m\u001b[0mbefore_run\u001b[0m\u001b[0;34m(\u001b[0m\u001b[0mrun_context\u001b[0m\u001b[0;34m)\u001b[0m\u001b[0;34m\u001b[0m\u001b[0m\n\u001b[0m\u001b[1;32m    949\u001b[0m       \u001b[0;32mif\u001b[0m \u001b[0mrequest\u001b[0m \u001b[0;32mis\u001b[0m \u001b[0;32mnot\u001b[0m \u001b[0mNone\u001b[0m\u001b[0;34m:\u001b[0m\u001b[0;34m\u001b[0m\u001b[0m\n\u001b[1;32m    950\u001b[0m         \u001b[0;32mif\u001b[0m \u001b[0mrequest\u001b[0m\u001b[0;34m.\u001b[0m\u001b[0mfetches\u001b[0m \u001b[0;32mis\u001b[0m \u001b[0;32mnot\u001b[0m \u001b[0mNone\u001b[0m\u001b[0;34m:\u001b[0m\u001b[0;34m\u001b[0m\u001b[0m\n",
      "\u001b[0;32m/Users/jamieconn/.pyenv/versions/2.7.3/envs/kaggle/lib/python2.7/site-packages/tensorflow/python/training/basic_session_run_hooks.pyc\u001b[0m in \u001b[0;36mbefore_run\u001b[0;34m(self, run_context)\u001b[0m\n\u001b[1;32m    354\u001b[0m           \u001b[0mops\u001b[0m\u001b[0;34m.\u001b[0m\u001b[0mget_default_graph\u001b[0m\u001b[0;34m(\u001b[0m\u001b[0;34m)\u001b[0m\u001b[0;34m.\u001b[0m\u001b[0mas_graph_def\u001b[0m\u001b[0;34m(\u001b[0m\u001b[0madd_shapes\u001b[0m\u001b[0;34m=\u001b[0m\u001b[0mTrue\u001b[0m\u001b[0;34m)\u001b[0m\u001b[0;34m,\u001b[0m\u001b[0;34m\u001b[0m\u001b[0m\n\u001b[1;32m    355\u001b[0m           \u001b[0mself\u001b[0m\u001b[0;34m.\u001b[0m\u001b[0m_checkpoint_dir\u001b[0m\u001b[0;34m,\u001b[0m\u001b[0;34m\u001b[0m\u001b[0m\n\u001b[0;32m--> 356\u001b[0;31m           \"graph.pbtxt\")\n\u001b[0m\u001b[1;32m    357\u001b[0m       \u001b[0msaver_def\u001b[0m \u001b[0;34m=\u001b[0m \u001b[0mself\u001b[0m\u001b[0;34m.\u001b[0m\u001b[0m_get_saver\u001b[0m\u001b[0;34m(\u001b[0m\u001b[0;34m)\u001b[0m\u001b[0;34m.\u001b[0m\u001b[0msaver_def\u001b[0m \u001b[0;32mif\u001b[0m \u001b[0mself\u001b[0m\u001b[0;34m.\u001b[0m\u001b[0m_get_saver\u001b[0m\u001b[0;34m(\u001b[0m\u001b[0;34m)\u001b[0m \u001b[0;32melse\u001b[0m \u001b[0mNone\u001b[0m\u001b[0;34m\u001b[0m\u001b[0m\n\u001b[1;32m    358\u001b[0m       \u001b[0mgraph\u001b[0m \u001b[0;34m=\u001b[0m \u001b[0mops\u001b[0m\u001b[0;34m.\u001b[0m\u001b[0mget_default_graph\u001b[0m\u001b[0;34m(\u001b[0m\u001b[0;34m)\u001b[0m\u001b[0;34m\u001b[0m\u001b[0m\n",
      "\u001b[0;32m/Users/jamieconn/.pyenv/versions/2.7.3/envs/kaggle/lib/python2.7/site-packages/tensorflow/python/framework/graph_io.pyc\u001b[0m in \u001b[0;36mwrite_graph\u001b[0;34m(graph_or_graph_def, logdir, name, as_text)\u001b[0m\n\u001b[1;32m     65\u001b[0m   \u001b[0mpath\u001b[0m \u001b[0;34m=\u001b[0m \u001b[0mos\u001b[0m\u001b[0;34m.\u001b[0m\u001b[0mpath\u001b[0m\u001b[0;34m.\u001b[0m\u001b[0mjoin\u001b[0m\u001b[0;34m(\u001b[0m\u001b[0mlogdir\u001b[0m\u001b[0;34m,\u001b[0m \u001b[0mname\u001b[0m\u001b[0;34m)\u001b[0m\u001b[0;34m\u001b[0m\u001b[0m\n\u001b[1;32m     66\u001b[0m   \u001b[0;32mif\u001b[0m \u001b[0mas_text\u001b[0m\u001b[0;34m:\u001b[0m\u001b[0;34m\u001b[0m\u001b[0m\n\u001b[0;32m---> 67\u001b[0;31m     \u001b[0mfile_io\u001b[0m\u001b[0;34m.\u001b[0m\u001b[0matomic_write_string_to_file\u001b[0m\u001b[0;34m(\u001b[0m\u001b[0mpath\u001b[0m\u001b[0;34m,\u001b[0m \u001b[0mstr\u001b[0m\u001b[0;34m(\u001b[0m\u001b[0mgraph_def\u001b[0m\u001b[0;34m)\u001b[0m\u001b[0;34m)\u001b[0m\u001b[0;34m\u001b[0m\u001b[0m\n\u001b[0m\u001b[1;32m     68\u001b[0m   \u001b[0;32melse\u001b[0m\u001b[0;34m:\u001b[0m\u001b[0;34m\u001b[0m\u001b[0m\n\u001b[1;32m     69\u001b[0m     \u001b[0mfile_io\u001b[0m\u001b[0;34m.\u001b[0m\u001b[0matomic_write_string_to_file\u001b[0m\u001b[0;34m(\u001b[0m\u001b[0mpath\u001b[0m\u001b[0;34m,\u001b[0m \u001b[0mgraph_def\u001b[0m\u001b[0;34m.\u001b[0m\u001b[0mSerializeToString\u001b[0m\u001b[0;34m(\u001b[0m\u001b[0;34m)\u001b[0m\u001b[0;34m)\u001b[0m\u001b[0;34m\u001b[0m\u001b[0m\n",
      "\u001b[0;32m/Users/jamieconn/.pyenv/versions/2.7.3/envs/kaggle/lib/python2.7/site-packages/google/protobuf/internal/python_message.pyc\u001b[0m in \u001b[0;36m__str__\u001b[0;34m(self)\u001b[0m\n\u001b[1;32m    963\u001b[0m   \u001b[0;34m\"\"\"Helper for _AddMessageMethods().\"\"\"\u001b[0m\u001b[0;34m\u001b[0m\u001b[0m\n\u001b[1;32m    964\u001b[0m   \u001b[0;32mdef\u001b[0m \u001b[0m__str__\u001b[0m\u001b[0;34m(\u001b[0m\u001b[0mself\u001b[0m\u001b[0;34m)\u001b[0m\u001b[0;34m:\u001b[0m\u001b[0;34m\u001b[0m\u001b[0m\n\u001b[0;32m--> 965\u001b[0;31m     \u001b[0;32mreturn\u001b[0m \u001b[0mtext_format\u001b[0m\u001b[0;34m.\u001b[0m\u001b[0mMessageToString\u001b[0m\u001b[0;34m(\u001b[0m\u001b[0mself\u001b[0m\u001b[0;34m)\u001b[0m\u001b[0;34m\u001b[0m\u001b[0m\n\u001b[0m\u001b[1;32m    966\u001b[0m   \u001b[0mcls\u001b[0m\u001b[0;34m.\u001b[0m\u001b[0m__str__\u001b[0m \u001b[0;34m=\u001b[0m \u001b[0m__str__\u001b[0m\u001b[0;34m\u001b[0m\u001b[0m\n\u001b[1;32m    967\u001b[0m \u001b[0;34m\u001b[0m\u001b[0m\n",
      "\u001b[0;32m/Users/jamieconn/.pyenv/versions/2.7.3/envs/kaggle/lib/python2.7/site-packages/google/protobuf/text_format.pyc\u001b[0m in \u001b[0;36mMessageToString\u001b[0;34m(message, as_utf8, as_one_line, pointy_brackets, use_index_order, float_format, use_field_number, descriptor_pool, indent)\u001b[0m\n\u001b[1;32m    157\u001b[0m                      \u001b[0muse_index_order\u001b[0m\u001b[0;34m,\u001b[0m \u001b[0mfloat_format\u001b[0m\u001b[0;34m,\u001b[0m \u001b[0muse_field_number\u001b[0m\u001b[0;34m,\u001b[0m\u001b[0;34m\u001b[0m\u001b[0m\n\u001b[1;32m    158\u001b[0m                      descriptor_pool)\n\u001b[0;32m--> 159\u001b[0;31m   \u001b[0mprinter\u001b[0m\u001b[0;34m.\u001b[0m\u001b[0mPrintMessage\u001b[0m\u001b[0;34m(\u001b[0m\u001b[0mmessage\u001b[0m\u001b[0;34m)\u001b[0m\u001b[0;34m\u001b[0m\u001b[0m\n\u001b[0m\u001b[1;32m    160\u001b[0m   \u001b[0mresult\u001b[0m \u001b[0;34m=\u001b[0m \u001b[0mout\u001b[0m\u001b[0;34m.\u001b[0m\u001b[0mgetvalue\u001b[0m\u001b[0;34m(\u001b[0m\u001b[0;34m)\u001b[0m\u001b[0;34m\u001b[0m\u001b[0m\n\u001b[1;32m    161\u001b[0m   \u001b[0mout\u001b[0m\u001b[0;34m.\u001b[0m\u001b[0mclose\u001b[0m\u001b[0;34m(\u001b[0m\u001b[0;34m)\u001b[0m\u001b[0;34m\u001b[0m\u001b[0m\n",
      "\u001b[0;32m/Users/jamieconn/.pyenv/versions/2.7.3/envs/kaggle/lib/python2.7/site-packages/google/protobuf/text_format.pyc\u001b[0m in \u001b[0;36mPrintMessage\u001b[0;34m(self, message)\u001b[0m\n\u001b[1;32m    322\u001b[0m       \u001b[0;32melif\u001b[0m \u001b[0mfield\u001b[0m\u001b[0;34m.\u001b[0m\u001b[0mlabel\u001b[0m \u001b[0;34m==\u001b[0m \u001b[0mdescriptor\u001b[0m\u001b[0;34m.\u001b[0m\u001b[0mFieldDescriptor\u001b[0m\u001b[0;34m.\u001b[0m\u001b[0mLABEL_REPEATED\u001b[0m\u001b[0;34m:\u001b[0m\u001b[0;34m\u001b[0m\u001b[0m\n\u001b[1;32m    323\u001b[0m         \u001b[0;32mfor\u001b[0m \u001b[0melement\u001b[0m \u001b[0;32min\u001b[0m \u001b[0mvalue\u001b[0m\u001b[0;34m:\u001b[0m\u001b[0;34m\u001b[0m\u001b[0m\n\u001b[0;32m--> 324\u001b[0;31m           \u001b[0mself\u001b[0m\u001b[0;34m.\u001b[0m\u001b[0mPrintField\u001b[0m\u001b[0;34m(\u001b[0m\u001b[0mfield\u001b[0m\u001b[0;34m,\u001b[0m \u001b[0melement\u001b[0m\u001b[0;34m)\u001b[0m\u001b[0;34m\u001b[0m\u001b[0m\n\u001b[0m\u001b[1;32m    325\u001b[0m       \u001b[0;32melse\u001b[0m\u001b[0;34m:\u001b[0m\u001b[0;34m\u001b[0m\u001b[0m\n\u001b[1;32m    326\u001b[0m         \u001b[0mself\u001b[0m\u001b[0;34m.\u001b[0m\u001b[0mPrintField\u001b[0m\u001b[0;34m(\u001b[0m\u001b[0mfield\u001b[0m\u001b[0;34m,\u001b[0m \u001b[0mvalue\u001b[0m\u001b[0;34m)\u001b[0m\u001b[0;34m\u001b[0m\u001b[0m\n",
      "\u001b[0;32m/Users/jamieconn/.pyenv/versions/2.7.3/envs/kaggle/lib/python2.7/site-packages/google/protobuf/text_format.pyc\u001b[0m in \u001b[0;36mPrintField\u001b[0;34m(self, field, value)\u001b[0m\n\u001b[1;32m    353\u001b[0m       \u001b[0mout\u001b[0m\u001b[0;34m.\u001b[0m\u001b[0mwrite\u001b[0m\u001b[0;34m(\u001b[0m\u001b[0;34m': '\u001b[0m\u001b[0;34m)\u001b[0m\u001b[0;34m\u001b[0m\u001b[0m\n\u001b[1;32m    354\u001b[0m \u001b[0;34m\u001b[0m\u001b[0m\n\u001b[0;32m--> 355\u001b[0;31m     \u001b[0mself\u001b[0m\u001b[0;34m.\u001b[0m\u001b[0mPrintFieldValue\u001b[0m\u001b[0;34m(\u001b[0m\u001b[0mfield\u001b[0m\u001b[0;34m,\u001b[0m \u001b[0mvalue\u001b[0m\u001b[0;34m)\u001b[0m\u001b[0;34m\u001b[0m\u001b[0m\n\u001b[0m\u001b[1;32m    356\u001b[0m     \u001b[0;32mif\u001b[0m \u001b[0mself\u001b[0m\u001b[0;34m.\u001b[0m\u001b[0mas_one_line\u001b[0m\u001b[0;34m:\u001b[0m\u001b[0;34m\u001b[0m\u001b[0m\n\u001b[1;32m    357\u001b[0m       \u001b[0mout\u001b[0m\u001b[0;34m.\u001b[0m\u001b[0mwrite\u001b[0m\u001b[0;34m(\u001b[0m\u001b[0;34m' '\u001b[0m\u001b[0;34m)\u001b[0m\u001b[0;34m\u001b[0m\u001b[0m\n",
      "\u001b[0;32m/Users/jamieconn/.pyenv/versions/2.7.3/envs/kaggle/lib/python2.7/site-packages/google/protobuf/text_format.pyc\u001b[0m in \u001b[0;36mPrintFieldValue\u001b[0;34m(self, field, value)\u001b[0m\n\u001b[1;32m    389\u001b[0m     \u001b[0mout\u001b[0m \u001b[0;34m=\u001b[0m \u001b[0mself\u001b[0m\u001b[0;34m.\u001b[0m\u001b[0mout\u001b[0m\u001b[0;34m\u001b[0m\u001b[0m\n\u001b[1;32m    390\u001b[0m     \u001b[0;32mif\u001b[0m \u001b[0mfield\u001b[0m\u001b[0;34m.\u001b[0m\u001b[0mcpp_type\u001b[0m \u001b[0;34m==\u001b[0m \u001b[0mdescriptor\u001b[0m\u001b[0;34m.\u001b[0m\u001b[0mFieldDescriptor\u001b[0m\u001b[0;34m.\u001b[0m\u001b[0mCPPTYPE_MESSAGE\u001b[0m\u001b[0;34m:\u001b[0m\u001b[0;34m\u001b[0m\u001b[0m\n\u001b[0;32m--> 391\u001b[0;31m       \u001b[0mself\u001b[0m\u001b[0;34m.\u001b[0m\u001b[0m_PrintMessageFieldValue\u001b[0m\u001b[0;34m(\u001b[0m\u001b[0mvalue\u001b[0m\u001b[0;34m)\u001b[0m\u001b[0;34m\u001b[0m\u001b[0m\n\u001b[0m\u001b[1;32m    392\u001b[0m     \u001b[0;32melif\u001b[0m \u001b[0mfield\u001b[0m\u001b[0;34m.\u001b[0m\u001b[0mcpp_type\u001b[0m \u001b[0;34m==\u001b[0m \u001b[0mdescriptor\u001b[0m\u001b[0;34m.\u001b[0m\u001b[0mFieldDescriptor\u001b[0m\u001b[0;34m.\u001b[0m\u001b[0mCPPTYPE_ENUM\u001b[0m\u001b[0;34m:\u001b[0m\u001b[0;34m\u001b[0m\u001b[0m\n\u001b[1;32m    393\u001b[0m       \u001b[0menum_value\u001b[0m \u001b[0;34m=\u001b[0m \u001b[0mfield\u001b[0m\u001b[0;34m.\u001b[0m\u001b[0menum_type\u001b[0m\u001b[0;34m.\u001b[0m\u001b[0mvalues_by_number\u001b[0m\u001b[0;34m.\u001b[0m\u001b[0mget\u001b[0m\u001b[0;34m(\u001b[0m\u001b[0mvalue\u001b[0m\u001b[0;34m,\u001b[0m \u001b[0mNone\u001b[0m\u001b[0;34m)\u001b[0m\u001b[0;34m\u001b[0m\u001b[0m\n",
      "\u001b[0;32m/Users/jamieconn/.pyenv/versions/2.7.3/envs/kaggle/lib/python2.7/site-packages/google/protobuf/text_format.pyc\u001b[0m in \u001b[0;36m_PrintMessageFieldValue\u001b[0;34m(self, value)\u001b[0m\n\u001b[1;32m    374\u001b[0m       \u001b[0mself\u001b[0m\u001b[0;34m.\u001b[0m\u001b[0mout\u001b[0m\u001b[0;34m.\u001b[0m\u001b[0mwrite\u001b[0m\u001b[0;34m(\u001b[0m\u001b[0;34m' %s\\n'\u001b[0m \u001b[0;34m%\u001b[0m \u001b[0mopenb\u001b[0m\u001b[0;34m)\u001b[0m\u001b[0;34m\u001b[0m\u001b[0m\n\u001b[1;32m    375\u001b[0m       \u001b[0mself\u001b[0m\u001b[0;34m.\u001b[0m\u001b[0mindent\u001b[0m \u001b[0;34m+=\u001b[0m \u001b[0;36m2\u001b[0m\u001b[0;34m\u001b[0m\u001b[0m\n\u001b[0;32m--> 376\u001b[0;31m       \u001b[0mself\u001b[0m\u001b[0;34m.\u001b[0m\u001b[0mPrintMessage\u001b[0m\u001b[0;34m(\u001b[0m\u001b[0mvalue\u001b[0m\u001b[0;34m)\u001b[0m\u001b[0;34m\u001b[0m\u001b[0m\n\u001b[0m\u001b[1;32m    377\u001b[0m       \u001b[0mself\u001b[0m\u001b[0;34m.\u001b[0m\u001b[0mindent\u001b[0m \u001b[0;34m-=\u001b[0m \u001b[0;36m2\u001b[0m\u001b[0;34m\u001b[0m\u001b[0m\n\u001b[1;32m    378\u001b[0m       \u001b[0mself\u001b[0m\u001b[0;34m.\u001b[0m\u001b[0mout\u001b[0m\u001b[0;34m.\u001b[0m\u001b[0mwrite\u001b[0m\u001b[0;34m(\u001b[0m\u001b[0;34m' '\u001b[0m \u001b[0;34m*\u001b[0m \u001b[0mself\u001b[0m\u001b[0;34m.\u001b[0m\u001b[0mindent\u001b[0m \u001b[0;34m+\u001b[0m \u001b[0mcloseb\u001b[0m\u001b[0;34m)\u001b[0m\u001b[0;34m\u001b[0m\u001b[0m\n",
      "\u001b[0;32m/Users/jamieconn/.pyenv/versions/2.7.3/envs/kaggle/lib/python2.7/site-packages/google/protobuf/text_format.pyc\u001b[0m in \u001b[0;36mPrintMessage\u001b[0;34m(self, message)\u001b[0m\n\u001b[1;32m    319\u001b[0m           \u001b[0;31m# TODO(haberman): refactor and optimize if this becomes an issue.\u001b[0m\u001b[0;34m\u001b[0m\u001b[0;34m\u001b[0m\u001b[0m\n\u001b[1;32m    320\u001b[0m           \u001b[0mentry_submsg\u001b[0m \u001b[0;34m=\u001b[0m \u001b[0mvalue\u001b[0m\u001b[0;34m.\u001b[0m\u001b[0mGetEntryClass\u001b[0m\u001b[0;34m(\u001b[0m\u001b[0;34m)\u001b[0m\u001b[0;34m(\u001b[0m\u001b[0mkey\u001b[0m\u001b[0;34m=\u001b[0m\u001b[0mkey\u001b[0m\u001b[0;34m,\u001b[0m \u001b[0mvalue\u001b[0m\u001b[0;34m=\u001b[0m\u001b[0mvalue\u001b[0m\u001b[0;34m[\u001b[0m\u001b[0mkey\u001b[0m\u001b[0;34m]\u001b[0m\u001b[0;34m)\u001b[0m\u001b[0;34m\u001b[0m\u001b[0m\n\u001b[0;32m--> 321\u001b[0;31m           \u001b[0mself\u001b[0m\u001b[0;34m.\u001b[0m\u001b[0mPrintField\u001b[0m\u001b[0;34m(\u001b[0m\u001b[0mfield\u001b[0m\u001b[0;34m,\u001b[0m \u001b[0mentry_submsg\u001b[0m\u001b[0;34m)\u001b[0m\u001b[0;34m\u001b[0m\u001b[0m\n\u001b[0m\u001b[1;32m    322\u001b[0m       \u001b[0;32melif\u001b[0m \u001b[0mfield\u001b[0m\u001b[0;34m.\u001b[0m\u001b[0mlabel\u001b[0m \u001b[0;34m==\u001b[0m \u001b[0mdescriptor\u001b[0m\u001b[0;34m.\u001b[0m\u001b[0mFieldDescriptor\u001b[0m\u001b[0;34m.\u001b[0m\u001b[0mLABEL_REPEATED\u001b[0m\u001b[0;34m:\u001b[0m\u001b[0;34m\u001b[0m\u001b[0m\n\u001b[1;32m    323\u001b[0m         \u001b[0;32mfor\u001b[0m \u001b[0melement\u001b[0m \u001b[0;32min\u001b[0m \u001b[0mvalue\u001b[0m\u001b[0;34m:\u001b[0m\u001b[0;34m\u001b[0m\u001b[0m\n",
      "\u001b[0;32m/Users/jamieconn/.pyenv/versions/2.7.3/envs/kaggle/lib/python2.7/site-packages/google/protobuf/text_format.pyc\u001b[0m in \u001b[0;36mPrintField\u001b[0;34m(self, field, value)\u001b[0m\n\u001b[1;32m    353\u001b[0m       \u001b[0mout\u001b[0m\u001b[0;34m.\u001b[0m\u001b[0mwrite\u001b[0m\u001b[0;34m(\u001b[0m\u001b[0;34m': '\u001b[0m\u001b[0;34m)\u001b[0m\u001b[0;34m\u001b[0m\u001b[0m\n\u001b[1;32m    354\u001b[0m \u001b[0;34m\u001b[0m\u001b[0m\n\u001b[0;32m--> 355\u001b[0;31m     \u001b[0mself\u001b[0m\u001b[0;34m.\u001b[0m\u001b[0mPrintFieldValue\u001b[0m\u001b[0;34m(\u001b[0m\u001b[0mfield\u001b[0m\u001b[0;34m,\u001b[0m \u001b[0mvalue\u001b[0m\u001b[0;34m)\u001b[0m\u001b[0;34m\u001b[0m\u001b[0m\n\u001b[0m\u001b[1;32m    356\u001b[0m     \u001b[0;32mif\u001b[0m \u001b[0mself\u001b[0m\u001b[0;34m.\u001b[0m\u001b[0mas_one_line\u001b[0m\u001b[0;34m:\u001b[0m\u001b[0;34m\u001b[0m\u001b[0m\n\u001b[1;32m    357\u001b[0m       \u001b[0mout\u001b[0m\u001b[0;34m.\u001b[0m\u001b[0mwrite\u001b[0m\u001b[0;34m(\u001b[0m\u001b[0;34m' '\u001b[0m\u001b[0;34m)\u001b[0m\u001b[0;34m\u001b[0m\u001b[0m\n",
      "\u001b[0;32m/Users/jamieconn/.pyenv/versions/2.7.3/envs/kaggle/lib/python2.7/site-packages/google/protobuf/text_format.pyc\u001b[0m in \u001b[0;36mPrintFieldValue\u001b[0;34m(self, field, value)\u001b[0m\n\u001b[1;32m    389\u001b[0m     \u001b[0mout\u001b[0m \u001b[0;34m=\u001b[0m \u001b[0mself\u001b[0m\u001b[0;34m.\u001b[0m\u001b[0mout\u001b[0m\u001b[0;34m\u001b[0m\u001b[0m\n\u001b[1;32m    390\u001b[0m     \u001b[0;32mif\u001b[0m \u001b[0mfield\u001b[0m\u001b[0;34m.\u001b[0m\u001b[0mcpp_type\u001b[0m \u001b[0;34m==\u001b[0m \u001b[0mdescriptor\u001b[0m\u001b[0;34m.\u001b[0m\u001b[0mFieldDescriptor\u001b[0m\u001b[0;34m.\u001b[0m\u001b[0mCPPTYPE_MESSAGE\u001b[0m\u001b[0;34m:\u001b[0m\u001b[0;34m\u001b[0m\u001b[0m\n\u001b[0;32m--> 391\u001b[0;31m       \u001b[0mself\u001b[0m\u001b[0;34m.\u001b[0m\u001b[0m_PrintMessageFieldValue\u001b[0m\u001b[0;34m(\u001b[0m\u001b[0mvalue\u001b[0m\u001b[0;34m)\u001b[0m\u001b[0;34m\u001b[0m\u001b[0m\n\u001b[0m\u001b[1;32m    392\u001b[0m     \u001b[0;32melif\u001b[0m \u001b[0mfield\u001b[0m\u001b[0;34m.\u001b[0m\u001b[0mcpp_type\u001b[0m \u001b[0;34m==\u001b[0m \u001b[0mdescriptor\u001b[0m\u001b[0;34m.\u001b[0m\u001b[0mFieldDescriptor\u001b[0m\u001b[0;34m.\u001b[0m\u001b[0mCPPTYPE_ENUM\u001b[0m\u001b[0;34m:\u001b[0m\u001b[0;34m\u001b[0m\u001b[0m\n\u001b[1;32m    393\u001b[0m       \u001b[0menum_value\u001b[0m \u001b[0;34m=\u001b[0m \u001b[0mfield\u001b[0m\u001b[0;34m.\u001b[0m\u001b[0menum_type\u001b[0m\u001b[0;34m.\u001b[0m\u001b[0mvalues_by_number\u001b[0m\u001b[0;34m.\u001b[0m\u001b[0mget\u001b[0m\u001b[0;34m(\u001b[0m\u001b[0mvalue\u001b[0m\u001b[0;34m,\u001b[0m \u001b[0mNone\u001b[0m\u001b[0;34m)\u001b[0m\u001b[0;34m\u001b[0m\u001b[0m\n",
      "\u001b[0;32m/Users/jamieconn/.pyenv/versions/2.7.3/envs/kaggle/lib/python2.7/site-packages/google/protobuf/text_format.pyc\u001b[0m in \u001b[0;36m_PrintMessageFieldValue\u001b[0;34m(self, value)\u001b[0m\n\u001b[1;32m    374\u001b[0m       \u001b[0mself\u001b[0m\u001b[0;34m.\u001b[0m\u001b[0mout\u001b[0m\u001b[0;34m.\u001b[0m\u001b[0mwrite\u001b[0m\u001b[0;34m(\u001b[0m\u001b[0;34m' %s\\n'\u001b[0m \u001b[0;34m%\u001b[0m \u001b[0mopenb\u001b[0m\u001b[0;34m)\u001b[0m\u001b[0;34m\u001b[0m\u001b[0m\n\u001b[1;32m    375\u001b[0m       \u001b[0mself\u001b[0m\u001b[0;34m.\u001b[0m\u001b[0mindent\u001b[0m \u001b[0;34m+=\u001b[0m \u001b[0;36m2\u001b[0m\u001b[0;34m\u001b[0m\u001b[0m\n\u001b[0;32m--> 376\u001b[0;31m       \u001b[0mself\u001b[0m\u001b[0;34m.\u001b[0m\u001b[0mPrintMessage\u001b[0m\u001b[0;34m(\u001b[0m\u001b[0mvalue\u001b[0m\u001b[0;34m)\u001b[0m\u001b[0;34m\u001b[0m\u001b[0m\n\u001b[0m\u001b[1;32m    377\u001b[0m       \u001b[0mself\u001b[0m\u001b[0;34m.\u001b[0m\u001b[0mindent\u001b[0m \u001b[0;34m-=\u001b[0m \u001b[0;36m2\u001b[0m\u001b[0;34m\u001b[0m\u001b[0m\n\u001b[1;32m    378\u001b[0m       \u001b[0mself\u001b[0m\u001b[0;34m.\u001b[0m\u001b[0mout\u001b[0m\u001b[0;34m.\u001b[0m\u001b[0mwrite\u001b[0m\u001b[0;34m(\u001b[0m\u001b[0;34m' '\u001b[0m \u001b[0;34m*\u001b[0m \u001b[0mself\u001b[0m\u001b[0;34m.\u001b[0m\u001b[0mindent\u001b[0m \u001b[0;34m+\u001b[0m \u001b[0mcloseb\u001b[0m\u001b[0;34m)\u001b[0m\u001b[0;34m\u001b[0m\u001b[0m\n",
      "\u001b[0;32m/Users/jamieconn/.pyenv/versions/2.7.3/envs/kaggle/lib/python2.7/site-packages/google/protobuf/text_format.pyc\u001b[0m in \u001b[0;36mPrintMessage\u001b[0;34m(self, message)\u001b[0m\n\u001b[1;32m    324\u001b[0m           \u001b[0mself\u001b[0m\u001b[0;34m.\u001b[0m\u001b[0mPrintField\u001b[0m\u001b[0;34m(\u001b[0m\u001b[0mfield\u001b[0m\u001b[0;34m,\u001b[0m \u001b[0melement\u001b[0m\u001b[0;34m)\u001b[0m\u001b[0;34m\u001b[0m\u001b[0m\n\u001b[1;32m    325\u001b[0m       \u001b[0;32melse\u001b[0m\u001b[0;34m:\u001b[0m\u001b[0;34m\u001b[0m\u001b[0m\n\u001b[0;32m--> 326\u001b[0;31m         \u001b[0mself\u001b[0m\u001b[0;34m.\u001b[0m\u001b[0mPrintField\u001b[0m\u001b[0;34m(\u001b[0m\u001b[0mfield\u001b[0m\u001b[0;34m,\u001b[0m \u001b[0mvalue\u001b[0m\u001b[0;34m)\u001b[0m\u001b[0;34m\u001b[0m\u001b[0m\n\u001b[0m\u001b[1;32m    327\u001b[0m \u001b[0;34m\u001b[0m\u001b[0m\n\u001b[1;32m    328\u001b[0m   \u001b[0;32mdef\u001b[0m \u001b[0mPrintField\u001b[0m\u001b[0;34m(\u001b[0m\u001b[0mself\u001b[0m\u001b[0;34m,\u001b[0m \u001b[0mfield\u001b[0m\u001b[0;34m,\u001b[0m \u001b[0mvalue\u001b[0m\u001b[0;34m)\u001b[0m\u001b[0;34m:\u001b[0m\u001b[0;34m\u001b[0m\u001b[0m\n",
      "\u001b[0;32m/Users/jamieconn/.pyenv/versions/2.7.3/envs/kaggle/lib/python2.7/site-packages/google/protobuf/text_format.pyc\u001b[0m in \u001b[0;36mPrintField\u001b[0;34m(self, field, value)\u001b[0m\n\u001b[1;32m    353\u001b[0m       \u001b[0mout\u001b[0m\u001b[0;34m.\u001b[0m\u001b[0mwrite\u001b[0m\u001b[0;34m(\u001b[0m\u001b[0;34m': '\u001b[0m\u001b[0;34m)\u001b[0m\u001b[0;34m\u001b[0m\u001b[0m\n\u001b[1;32m    354\u001b[0m \u001b[0;34m\u001b[0m\u001b[0m\n\u001b[0;32m--> 355\u001b[0;31m     \u001b[0mself\u001b[0m\u001b[0;34m.\u001b[0m\u001b[0mPrintFieldValue\u001b[0m\u001b[0;34m(\u001b[0m\u001b[0mfield\u001b[0m\u001b[0;34m,\u001b[0m \u001b[0mvalue\u001b[0m\u001b[0;34m)\u001b[0m\u001b[0;34m\u001b[0m\u001b[0m\n\u001b[0m\u001b[1;32m    356\u001b[0m     \u001b[0;32mif\u001b[0m \u001b[0mself\u001b[0m\u001b[0;34m.\u001b[0m\u001b[0mas_one_line\u001b[0m\u001b[0;34m:\u001b[0m\u001b[0;34m\u001b[0m\u001b[0m\n\u001b[1;32m    357\u001b[0m       \u001b[0mout\u001b[0m\u001b[0;34m.\u001b[0m\u001b[0mwrite\u001b[0m\u001b[0;34m(\u001b[0m\u001b[0;34m' '\u001b[0m\u001b[0;34m)\u001b[0m\u001b[0;34m\u001b[0m\u001b[0m\n",
      "\u001b[0;32m/Users/jamieconn/.pyenv/versions/2.7.3/envs/kaggle/lib/python2.7/site-packages/google/protobuf/text_format.pyc\u001b[0m in \u001b[0;36mPrintFieldValue\u001b[0;34m(self, field, value)\u001b[0m\n\u001b[1;32m    389\u001b[0m     \u001b[0mout\u001b[0m \u001b[0;34m=\u001b[0m \u001b[0mself\u001b[0m\u001b[0;34m.\u001b[0m\u001b[0mout\u001b[0m\u001b[0;34m\u001b[0m\u001b[0m\n\u001b[1;32m    390\u001b[0m     \u001b[0;32mif\u001b[0m \u001b[0mfield\u001b[0m\u001b[0;34m.\u001b[0m\u001b[0mcpp_type\u001b[0m \u001b[0;34m==\u001b[0m \u001b[0mdescriptor\u001b[0m\u001b[0;34m.\u001b[0m\u001b[0mFieldDescriptor\u001b[0m\u001b[0;34m.\u001b[0m\u001b[0mCPPTYPE_MESSAGE\u001b[0m\u001b[0;34m:\u001b[0m\u001b[0;34m\u001b[0m\u001b[0m\n\u001b[0;32m--> 391\u001b[0;31m       \u001b[0mself\u001b[0m\u001b[0;34m.\u001b[0m\u001b[0m_PrintMessageFieldValue\u001b[0m\u001b[0;34m(\u001b[0m\u001b[0mvalue\u001b[0m\u001b[0;34m)\u001b[0m\u001b[0;34m\u001b[0m\u001b[0m\n\u001b[0m\u001b[1;32m    392\u001b[0m     \u001b[0;32melif\u001b[0m \u001b[0mfield\u001b[0m\u001b[0;34m.\u001b[0m\u001b[0mcpp_type\u001b[0m \u001b[0;34m==\u001b[0m \u001b[0mdescriptor\u001b[0m\u001b[0;34m.\u001b[0m\u001b[0mFieldDescriptor\u001b[0m\u001b[0;34m.\u001b[0m\u001b[0mCPPTYPE_ENUM\u001b[0m\u001b[0;34m:\u001b[0m\u001b[0;34m\u001b[0m\u001b[0m\n\u001b[1;32m    393\u001b[0m       \u001b[0menum_value\u001b[0m \u001b[0;34m=\u001b[0m \u001b[0mfield\u001b[0m\u001b[0;34m.\u001b[0m\u001b[0menum_type\u001b[0m\u001b[0;34m.\u001b[0m\u001b[0mvalues_by_number\u001b[0m\u001b[0;34m.\u001b[0m\u001b[0mget\u001b[0m\u001b[0;34m(\u001b[0m\u001b[0mvalue\u001b[0m\u001b[0;34m,\u001b[0m \u001b[0mNone\u001b[0m\u001b[0;34m)\u001b[0m\u001b[0;34m\u001b[0m\u001b[0m\n",
      "\u001b[0;32m/Users/jamieconn/.pyenv/versions/2.7.3/envs/kaggle/lib/python2.7/site-packages/google/protobuf/text_format.pyc\u001b[0m in \u001b[0;36m_PrintMessageFieldValue\u001b[0;34m(self, value)\u001b[0m\n\u001b[1;32m    374\u001b[0m       \u001b[0mself\u001b[0m\u001b[0;34m.\u001b[0m\u001b[0mout\u001b[0m\u001b[0;34m.\u001b[0m\u001b[0mwrite\u001b[0m\u001b[0;34m(\u001b[0m\u001b[0;34m' %s\\n'\u001b[0m \u001b[0;34m%\u001b[0m \u001b[0mopenb\u001b[0m\u001b[0;34m)\u001b[0m\u001b[0;34m\u001b[0m\u001b[0m\n\u001b[1;32m    375\u001b[0m       \u001b[0mself\u001b[0m\u001b[0;34m.\u001b[0m\u001b[0mindent\u001b[0m \u001b[0;34m+=\u001b[0m \u001b[0;36m2\u001b[0m\u001b[0;34m\u001b[0m\u001b[0m\n\u001b[0;32m--> 376\u001b[0;31m       \u001b[0mself\u001b[0m\u001b[0;34m.\u001b[0m\u001b[0mPrintMessage\u001b[0m\u001b[0;34m(\u001b[0m\u001b[0mvalue\u001b[0m\u001b[0;34m)\u001b[0m\u001b[0;34m\u001b[0m\u001b[0m\n\u001b[0m\u001b[1;32m    377\u001b[0m       \u001b[0mself\u001b[0m\u001b[0;34m.\u001b[0m\u001b[0mindent\u001b[0m \u001b[0;34m-=\u001b[0m \u001b[0;36m2\u001b[0m\u001b[0;34m\u001b[0m\u001b[0m\n\u001b[1;32m    378\u001b[0m       \u001b[0mself\u001b[0m\u001b[0;34m.\u001b[0m\u001b[0mout\u001b[0m\u001b[0;34m.\u001b[0m\u001b[0mwrite\u001b[0m\u001b[0;34m(\u001b[0m\u001b[0;34m' '\u001b[0m \u001b[0;34m*\u001b[0m \u001b[0mself\u001b[0m\u001b[0;34m.\u001b[0m\u001b[0mindent\u001b[0m \u001b[0;34m+\u001b[0m \u001b[0mcloseb\u001b[0m\u001b[0;34m)\u001b[0m\u001b[0;34m\u001b[0m\u001b[0m\n",
      "\u001b[0;32m/Users/jamieconn/.pyenv/versions/2.7.3/envs/kaggle/lib/python2.7/site-packages/google/protobuf/text_format.pyc\u001b[0m in \u001b[0;36mPrintMessage\u001b[0;34m(self, message)\u001b[0m\n\u001b[1;32m    324\u001b[0m           \u001b[0mself\u001b[0m\u001b[0;34m.\u001b[0m\u001b[0mPrintField\u001b[0m\u001b[0;34m(\u001b[0m\u001b[0mfield\u001b[0m\u001b[0;34m,\u001b[0m \u001b[0melement\u001b[0m\u001b[0;34m)\u001b[0m\u001b[0;34m\u001b[0m\u001b[0m\n\u001b[1;32m    325\u001b[0m       \u001b[0;32melse\u001b[0m\u001b[0;34m:\u001b[0m\u001b[0;34m\u001b[0m\u001b[0m\n\u001b[0;32m--> 326\u001b[0;31m         \u001b[0mself\u001b[0m\u001b[0;34m.\u001b[0m\u001b[0mPrintField\u001b[0m\u001b[0;34m(\u001b[0m\u001b[0mfield\u001b[0m\u001b[0;34m,\u001b[0m \u001b[0mvalue\u001b[0m\u001b[0;34m)\u001b[0m\u001b[0;34m\u001b[0m\u001b[0m\n\u001b[0m\u001b[1;32m    327\u001b[0m \u001b[0;34m\u001b[0m\u001b[0m\n\u001b[1;32m    328\u001b[0m   \u001b[0;32mdef\u001b[0m \u001b[0mPrintField\u001b[0m\u001b[0;34m(\u001b[0m\u001b[0mself\u001b[0m\u001b[0;34m,\u001b[0m \u001b[0mfield\u001b[0m\u001b[0;34m,\u001b[0m \u001b[0mvalue\u001b[0m\u001b[0;34m)\u001b[0m\u001b[0;34m:\u001b[0m\u001b[0;34m\u001b[0m\u001b[0m\n",
      "\u001b[0;32m/Users/jamieconn/.pyenv/versions/2.7.3/envs/kaggle/lib/python2.7/site-packages/google/protobuf/text_format.pyc\u001b[0m in \u001b[0;36mPrintField\u001b[0;34m(self, field, value)\u001b[0m\n\u001b[1;32m    353\u001b[0m       \u001b[0mout\u001b[0m\u001b[0;34m.\u001b[0m\u001b[0mwrite\u001b[0m\u001b[0;34m(\u001b[0m\u001b[0;34m': '\u001b[0m\u001b[0;34m)\u001b[0m\u001b[0;34m\u001b[0m\u001b[0m\n\u001b[1;32m    354\u001b[0m \u001b[0;34m\u001b[0m\u001b[0m\n\u001b[0;32m--> 355\u001b[0;31m     \u001b[0mself\u001b[0m\u001b[0;34m.\u001b[0m\u001b[0mPrintFieldValue\u001b[0m\u001b[0;34m(\u001b[0m\u001b[0mfield\u001b[0m\u001b[0;34m,\u001b[0m \u001b[0mvalue\u001b[0m\u001b[0;34m)\u001b[0m\u001b[0;34m\u001b[0m\u001b[0m\n\u001b[0m\u001b[1;32m    356\u001b[0m     \u001b[0;32mif\u001b[0m \u001b[0mself\u001b[0m\u001b[0;34m.\u001b[0m\u001b[0mas_one_line\u001b[0m\u001b[0;34m:\u001b[0m\u001b[0;34m\u001b[0m\u001b[0m\n\u001b[1;32m    357\u001b[0m       \u001b[0mout\u001b[0m\u001b[0;34m.\u001b[0m\u001b[0mwrite\u001b[0m\u001b[0;34m(\u001b[0m\u001b[0;34m' '\u001b[0m\u001b[0;34m)\u001b[0m\u001b[0;34m\u001b[0m\u001b[0m\n",
      "\u001b[0;32m/Users/jamieconn/.pyenv/versions/2.7.3/envs/kaggle/lib/python2.7/site-packages/google/protobuf/text_format.pyc\u001b[0m in \u001b[0;36mPrintFieldValue\u001b[0;34m(self, field, value)\u001b[0m\n\u001b[1;32m    389\u001b[0m     \u001b[0mout\u001b[0m \u001b[0;34m=\u001b[0m \u001b[0mself\u001b[0m\u001b[0;34m.\u001b[0m\u001b[0mout\u001b[0m\u001b[0;34m\u001b[0m\u001b[0m\n\u001b[1;32m    390\u001b[0m     \u001b[0;32mif\u001b[0m \u001b[0mfield\u001b[0m\u001b[0;34m.\u001b[0m\u001b[0mcpp_type\u001b[0m \u001b[0;34m==\u001b[0m \u001b[0mdescriptor\u001b[0m\u001b[0;34m.\u001b[0m\u001b[0mFieldDescriptor\u001b[0m\u001b[0;34m.\u001b[0m\u001b[0mCPPTYPE_MESSAGE\u001b[0m\u001b[0;34m:\u001b[0m\u001b[0;34m\u001b[0m\u001b[0m\n\u001b[0;32m--> 391\u001b[0;31m       \u001b[0mself\u001b[0m\u001b[0;34m.\u001b[0m\u001b[0m_PrintMessageFieldValue\u001b[0m\u001b[0;34m(\u001b[0m\u001b[0mvalue\u001b[0m\u001b[0;34m)\u001b[0m\u001b[0;34m\u001b[0m\u001b[0m\n\u001b[0m\u001b[1;32m    392\u001b[0m     \u001b[0;32melif\u001b[0m \u001b[0mfield\u001b[0m\u001b[0;34m.\u001b[0m\u001b[0mcpp_type\u001b[0m \u001b[0;34m==\u001b[0m \u001b[0mdescriptor\u001b[0m\u001b[0;34m.\u001b[0m\u001b[0mFieldDescriptor\u001b[0m\u001b[0;34m.\u001b[0m\u001b[0mCPPTYPE_ENUM\u001b[0m\u001b[0;34m:\u001b[0m\u001b[0;34m\u001b[0m\u001b[0m\n\u001b[1;32m    393\u001b[0m       \u001b[0menum_value\u001b[0m \u001b[0;34m=\u001b[0m \u001b[0mfield\u001b[0m\u001b[0;34m.\u001b[0m\u001b[0menum_type\u001b[0m\u001b[0;34m.\u001b[0m\u001b[0mvalues_by_number\u001b[0m\u001b[0;34m.\u001b[0m\u001b[0mget\u001b[0m\u001b[0;34m(\u001b[0m\u001b[0mvalue\u001b[0m\u001b[0;34m,\u001b[0m \u001b[0mNone\u001b[0m\u001b[0;34m)\u001b[0m\u001b[0;34m\u001b[0m\u001b[0m\n",
      "\u001b[0;32m/Users/jamieconn/.pyenv/versions/2.7.3/envs/kaggle/lib/python2.7/site-packages/google/protobuf/text_format.pyc\u001b[0m in \u001b[0;36m_PrintMessageFieldValue\u001b[0;34m(self, value)\u001b[0m\n\u001b[1;32m    374\u001b[0m       \u001b[0mself\u001b[0m\u001b[0;34m.\u001b[0m\u001b[0mout\u001b[0m\u001b[0;34m.\u001b[0m\u001b[0mwrite\u001b[0m\u001b[0;34m(\u001b[0m\u001b[0;34m' %s\\n'\u001b[0m \u001b[0;34m%\u001b[0m \u001b[0mopenb\u001b[0m\u001b[0;34m)\u001b[0m\u001b[0;34m\u001b[0m\u001b[0m\n\u001b[1;32m    375\u001b[0m       \u001b[0mself\u001b[0m\u001b[0;34m.\u001b[0m\u001b[0mindent\u001b[0m \u001b[0;34m+=\u001b[0m \u001b[0;36m2\u001b[0m\u001b[0;34m\u001b[0m\u001b[0m\n\u001b[0;32m--> 376\u001b[0;31m       \u001b[0mself\u001b[0m\u001b[0;34m.\u001b[0m\u001b[0mPrintMessage\u001b[0m\u001b[0;34m(\u001b[0m\u001b[0mvalue\u001b[0m\u001b[0;34m)\u001b[0m\u001b[0;34m\u001b[0m\u001b[0m\n\u001b[0m\u001b[1;32m    377\u001b[0m       \u001b[0mself\u001b[0m\u001b[0;34m.\u001b[0m\u001b[0mindent\u001b[0m \u001b[0;34m-=\u001b[0m \u001b[0;36m2\u001b[0m\u001b[0;34m\u001b[0m\u001b[0m\n\u001b[1;32m    378\u001b[0m       \u001b[0mself\u001b[0m\u001b[0;34m.\u001b[0m\u001b[0mout\u001b[0m\u001b[0;34m.\u001b[0m\u001b[0mwrite\u001b[0m\u001b[0;34m(\u001b[0m\u001b[0;34m' '\u001b[0m \u001b[0;34m*\u001b[0m \u001b[0mself\u001b[0m\u001b[0;34m.\u001b[0m\u001b[0mindent\u001b[0m \u001b[0;34m+\u001b[0m \u001b[0mcloseb\u001b[0m\u001b[0;34m)\u001b[0m\u001b[0;34m\u001b[0m\u001b[0m\n",
      "\u001b[0;32m/Users/jamieconn/.pyenv/versions/2.7.3/envs/kaggle/lib/python2.7/site-packages/google/protobuf/text_format.pyc\u001b[0m in \u001b[0;36mPrintMessage\u001b[0;34m(self, message)\u001b[0m\n\u001b[1;32m    324\u001b[0m           \u001b[0mself\u001b[0m\u001b[0;34m.\u001b[0m\u001b[0mPrintField\u001b[0m\u001b[0;34m(\u001b[0m\u001b[0mfield\u001b[0m\u001b[0;34m,\u001b[0m \u001b[0melement\u001b[0m\u001b[0;34m)\u001b[0m\u001b[0;34m\u001b[0m\u001b[0m\n\u001b[1;32m    325\u001b[0m       \u001b[0;32melse\u001b[0m\u001b[0;34m:\u001b[0m\u001b[0;34m\u001b[0m\u001b[0m\n\u001b[0;32m--> 326\u001b[0;31m         \u001b[0mself\u001b[0m\u001b[0;34m.\u001b[0m\u001b[0mPrintField\u001b[0m\u001b[0;34m(\u001b[0m\u001b[0mfield\u001b[0m\u001b[0;34m,\u001b[0m \u001b[0mvalue\u001b[0m\u001b[0;34m)\u001b[0m\u001b[0;34m\u001b[0m\u001b[0m\n\u001b[0m\u001b[1;32m    327\u001b[0m \u001b[0;34m\u001b[0m\u001b[0m\n\u001b[1;32m    328\u001b[0m   \u001b[0;32mdef\u001b[0m \u001b[0mPrintField\u001b[0m\u001b[0;34m(\u001b[0m\u001b[0mself\u001b[0m\u001b[0;34m,\u001b[0m \u001b[0mfield\u001b[0m\u001b[0;34m,\u001b[0m \u001b[0mvalue\u001b[0m\u001b[0;34m)\u001b[0m\u001b[0;34m:\u001b[0m\u001b[0;34m\u001b[0m\u001b[0m\n",
      "\u001b[0;32m/Users/jamieconn/.pyenv/versions/2.7.3/envs/kaggle/lib/python2.7/site-packages/google/protobuf/text_format.pyc\u001b[0m in \u001b[0;36mPrintField\u001b[0;34m(self, field, value)\u001b[0m\n\u001b[1;32m    353\u001b[0m       \u001b[0mout\u001b[0m\u001b[0;34m.\u001b[0m\u001b[0mwrite\u001b[0m\u001b[0;34m(\u001b[0m\u001b[0;34m': '\u001b[0m\u001b[0;34m)\u001b[0m\u001b[0;34m\u001b[0m\u001b[0m\n\u001b[1;32m    354\u001b[0m \u001b[0;34m\u001b[0m\u001b[0m\n\u001b[0;32m--> 355\u001b[0;31m     \u001b[0mself\u001b[0m\u001b[0;34m.\u001b[0m\u001b[0mPrintFieldValue\u001b[0m\u001b[0;34m(\u001b[0m\u001b[0mfield\u001b[0m\u001b[0;34m,\u001b[0m \u001b[0mvalue\u001b[0m\u001b[0;34m)\u001b[0m\u001b[0;34m\u001b[0m\u001b[0m\n\u001b[0m\u001b[1;32m    356\u001b[0m     \u001b[0;32mif\u001b[0m \u001b[0mself\u001b[0m\u001b[0;34m.\u001b[0m\u001b[0mas_one_line\u001b[0m\u001b[0;34m:\u001b[0m\u001b[0;34m\u001b[0m\u001b[0m\n\u001b[1;32m    357\u001b[0m       \u001b[0mout\u001b[0m\u001b[0;34m.\u001b[0m\u001b[0mwrite\u001b[0m\u001b[0;34m(\u001b[0m\u001b[0;34m' '\u001b[0m\u001b[0;34m)\u001b[0m\u001b[0;34m\u001b[0m\u001b[0m\n",
      "\u001b[0;32m/Users/jamieconn/.pyenv/versions/2.7.3/envs/kaggle/lib/python2.7/site-packages/google/protobuf/text_format.pyc\u001b[0m in \u001b[0;36mPrintFieldValue\u001b[0;34m(self, field, value)\u001b[0m\n\u001b[1;32m    407\u001b[0m       \u001b[0;32melse\u001b[0m\u001b[0;34m:\u001b[0m\u001b[0;34m\u001b[0m\u001b[0m\n\u001b[1;32m    408\u001b[0m         \u001b[0mout_as_utf8\u001b[0m \u001b[0;34m=\u001b[0m \u001b[0mself\u001b[0m\u001b[0;34m.\u001b[0m\u001b[0mas_utf8\u001b[0m\u001b[0;34m\u001b[0m\u001b[0m\n\u001b[0;32m--> 409\u001b[0;31m       \u001b[0mout\u001b[0m\u001b[0;34m.\u001b[0m\u001b[0mwrite\u001b[0m\u001b[0;34m(\u001b[0m\u001b[0mtext_encoding\u001b[0m\u001b[0;34m.\u001b[0m\u001b[0mCEscape\u001b[0m\u001b[0;34m(\u001b[0m\u001b[0mout_value\u001b[0m\u001b[0;34m,\u001b[0m \u001b[0mout_as_utf8\u001b[0m\u001b[0;34m)\u001b[0m\u001b[0;34m)\u001b[0m\u001b[0;34m\u001b[0m\u001b[0m\n\u001b[0m\u001b[1;32m    410\u001b[0m       \u001b[0mout\u001b[0m\u001b[0;34m.\u001b[0m\u001b[0mwrite\u001b[0m\u001b[0;34m(\u001b[0m\u001b[0;34m'\\\"'\u001b[0m\u001b[0;34m)\u001b[0m\u001b[0;34m\u001b[0m\u001b[0m\n\u001b[1;32m    411\u001b[0m     \u001b[0;32melif\u001b[0m \u001b[0mfield\u001b[0m\u001b[0;34m.\u001b[0m\u001b[0mcpp_type\u001b[0m \u001b[0;34m==\u001b[0m \u001b[0mdescriptor\u001b[0m\u001b[0;34m.\u001b[0m\u001b[0mFieldDescriptor\u001b[0m\u001b[0;34m.\u001b[0m\u001b[0mCPPTYPE_BOOL\u001b[0m\u001b[0;34m:\u001b[0m\u001b[0;34m\u001b[0m\u001b[0m\n",
      "\u001b[0;32m/Users/jamieconn/.pyenv/versions/2.7.3/envs/kaggle/lib/python2.7/site-packages/google/protobuf/text_encoding.pyc\u001b[0m in \u001b[0;36mCEscape\u001b[0;34m(text, as_utf8)\u001b[0m\n\u001b[1;32m     77\u001b[0m   \u001b[0;32mif\u001b[0m \u001b[0mas_utf8\u001b[0m\u001b[0;34m:\u001b[0m\u001b[0;34m\u001b[0m\u001b[0m\n\u001b[1;32m     78\u001b[0m     \u001b[0;32mreturn\u001b[0m \u001b[0;34m''\u001b[0m\u001b[0;34m.\u001b[0m\u001b[0mjoin\u001b[0m\u001b[0;34m(\u001b[0m\u001b[0m_cescape_utf8_to_str\u001b[0m\u001b[0;34m[\u001b[0m\u001b[0mOrd\u001b[0m\u001b[0;34m(\u001b[0m\u001b[0mc\u001b[0m\u001b[0;34m)\u001b[0m\u001b[0;34m]\u001b[0m \u001b[0;32mfor\u001b[0m \u001b[0mc\u001b[0m \u001b[0;32min\u001b[0m \u001b[0mtext\u001b[0m\u001b[0;34m)\u001b[0m\u001b[0;34m\u001b[0m\u001b[0m\n\u001b[0;32m---> 79\u001b[0;31m   \u001b[0;32mreturn\u001b[0m \u001b[0;34m''\u001b[0m\u001b[0;34m.\u001b[0m\u001b[0mjoin\u001b[0m\u001b[0;34m(\u001b[0m\u001b[0m_cescape_byte_to_str\u001b[0m\u001b[0;34m[\u001b[0m\u001b[0mOrd\u001b[0m\u001b[0;34m(\u001b[0m\u001b[0mc\u001b[0m\u001b[0;34m)\u001b[0m\u001b[0;34m]\u001b[0m \u001b[0;32mfor\u001b[0m \u001b[0mc\u001b[0m \u001b[0;32min\u001b[0m \u001b[0mtext\u001b[0m\u001b[0;34m)\u001b[0m\u001b[0;34m\u001b[0m\u001b[0m\n\u001b[0m\u001b[1;32m     80\u001b[0m \u001b[0;34m\u001b[0m\u001b[0m\n\u001b[1;32m     81\u001b[0m \u001b[0;34m\u001b[0m\u001b[0m\n",
      "\u001b[0;32m/Users/jamieconn/.pyenv/versions/2.7.3/envs/kaggle/lib/python2.7/site-packages/google/protobuf/text_encoding.pyc\u001b[0m in \u001b[0;36m<genexpr>\u001b[0;34m((c,))\u001b[0m\n\u001b[1;32m     77\u001b[0m   \u001b[0;32mif\u001b[0m \u001b[0mas_utf8\u001b[0m\u001b[0;34m:\u001b[0m\u001b[0;34m\u001b[0m\u001b[0m\n\u001b[1;32m     78\u001b[0m     \u001b[0;32mreturn\u001b[0m \u001b[0;34m''\u001b[0m\u001b[0;34m.\u001b[0m\u001b[0mjoin\u001b[0m\u001b[0;34m(\u001b[0m\u001b[0m_cescape_utf8_to_str\u001b[0m\u001b[0;34m[\u001b[0m\u001b[0mOrd\u001b[0m\u001b[0;34m(\u001b[0m\u001b[0mc\u001b[0m\u001b[0;34m)\u001b[0m\u001b[0;34m]\u001b[0m \u001b[0;32mfor\u001b[0m \u001b[0mc\u001b[0m \u001b[0;32min\u001b[0m \u001b[0mtext\u001b[0m\u001b[0;34m)\u001b[0m\u001b[0;34m\u001b[0m\u001b[0m\n\u001b[0;32m---> 79\u001b[0;31m   \u001b[0;32mreturn\u001b[0m \u001b[0;34m''\u001b[0m\u001b[0;34m.\u001b[0m\u001b[0mjoin\u001b[0m\u001b[0;34m(\u001b[0m\u001b[0m_cescape_byte_to_str\u001b[0m\u001b[0;34m[\u001b[0m\u001b[0mOrd\u001b[0m\u001b[0;34m(\u001b[0m\u001b[0mc\u001b[0m\u001b[0;34m)\u001b[0m\u001b[0;34m]\u001b[0m \u001b[0;32mfor\u001b[0m \u001b[0mc\u001b[0m \u001b[0;32min\u001b[0m \u001b[0mtext\u001b[0m\u001b[0;34m)\u001b[0m\u001b[0;34m\u001b[0m\u001b[0m\n\u001b[0m\u001b[1;32m     80\u001b[0m \u001b[0;34m\u001b[0m\u001b[0m\n\u001b[1;32m     81\u001b[0m \u001b[0;34m\u001b[0m\u001b[0m\n",
      "\u001b[0;31mKeyboardInterrupt\u001b[0m: "
     ]
    }
   ],
   "source": [
    "estimator.fit(input_fn = get_train_inputs, steps=2000)\n"
   ]
  },
  {
   "cell_type": "code",
   "execution_count": 23,
   "metadata": {},
   "outputs": [
    {
     "name": "stdout",
     "output_type": "stream",
     "text": [
      "WARNING:tensorflow:From /Users/jamieconn/.pyenv/versions/2.7.3/envs/kaggle/lib/python2.7/site-packages/tensorflow/python/util/deprecation.py:335: calling predict (from tensorflow.contrib.learn.python.learn.estimators.dnn) with outputs=None is deprecated and will be removed after 2017-03-01.\n",
      "Instructions for updating:\n",
      "Please switch to predict_scores, or set `outputs` argument.\n",
      "INFO:tensorflow:Restoring parameters from /var/folders/2m/hrvmvlnn0wl1kldf9bhp06qc0000gn/T/tmpNlBBJb/model.ckpt-2000\n",
      "WARNING:tensorflow:From /Users/jamieconn/.pyenv/versions/2.7.3/envs/kaggle/lib/python2.7/site-packages/tensorflow/python/util/deprecation.py:335: calling predict (from tensorflow.contrib.learn.python.learn.estimators.dnn) with outputs=None is deprecated and will be removed after 2017-03-01.\n",
      "Instructions for updating:\n",
      "Please switch to predict_scores, or set `outputs` argument.\n",
      "INFO:tensorflow:Restoring parameters from /var/folders/2m/hrvmvlnn0wl1kldf9bhp06qc0000gn/T/tmpNlBBJb/model.ckpt-2000\n"
     ]
    }
   ],
   "source": [
    "predictions_test = np.array(list(estimator.predict(input_fn=input_fn_predict_test)))\n",
    "predictions_train = np.array(list(estimator.predict(input_fn=input_fn_predict_train)))\n"
   ]
  },
  {
   "cell_type": "code",
   "execution_count": 35,
   "metadata": {},
   "outputs": [
    {
     "data": {
      "text/plain": [
       "<matplotlib.legend.Legend at 0x120f02a10>"
      ]
     },
     "execution_count": 35,
     "metadata": {},
     "output_type": "execute_result"
    },
    {
     "data": {
      "image/png": "[encoded data removed]",
      "text/plain": [
       "<matplotlib.figure.Figure at 0x120c5be10>"
      ]
     },
     "metadata": {},
     "output_type": "display_data"
    }
   ],
   "source": [
    "fig, ax = plt.subplots( nrows=1, ncols=1)  # create figure & 1 axis\n",
    "\n",
    "#ax.plot(0.4 + df.rain.values[:1500]/10, linewidth=.5)\n",
    "\n",
    "ax.plot(predictions_train,  label='prediction', linewidth=1)\n",
    "ax.plot(y_train,  label='truth', linewidth=1)\n",
    "plt.legend()\n",
    "plt.savefig('foo.png')\n",
    "plt.legend(loc='upper left')\n"
   ]
  },
  {
   "cell_type": "code",
   "execution_count": 34,
   "metadata": {},
   "outputs": [
    {
     "data": {
      "text/plain": [
       "<matplotlib.legend.Legend at 0x120cfe9d0>"
      ]
     },
     "execution_count": 34,
     "metadata": {},
     "output_type": "execute_result"
    },
    {
     "data": {
      "image/png": "[encoded data removed]",
      "text/plain": [
       "<matplotlib.figure.Figure at 0x120d40350>"
      ]
     },
     "metadata": {},
     "output_type": "display_data"
    }
   ],
   "source": [
    "fig, ax = plt.subplots( nrows=1, ncols=1)  # create figure & 1 axis\n",
    "\n",
    "#ax.plot(0.4 + df.rain.values[:1500]/10, linewidth=.5)\n",
    "\n",
    "ax.plot(predictions_test,  label='prediction', linewidth=1)\n",
    "ax.plot(y_test,  label='truth', linewidth=1)\n",
    "plt.legend()\n",
    "plt.savefig('foo.png')\n",
    "plt.legend(loc='upper left')\n"
   ]
  },
  {
   "cell_type": "code",
   "execution_count": 29,
   "metadata": {
    "collapsed": true
   },
   "outputs": [],
   "source": [
    "from sklearn.metrics import explained_variance_score, r2_score"
   ]
  },
  {
   "cell_type": "code",
   "execution_count": 30,
   "metadata": {},
   "outputs": [
    {
     "name": "stdout",
     "output_type": "stream",
     "text": [
      "0.921238541603\n",
      "0.823286533356\n"
     ]
    }
   ],
   "source": [
    "print explained_variance_score(y_train, predictions_train)\n",
    "print explained_variance_score(y_test, predictions_test)"
   ]
  },
  {
   "cell_type": "code",
   "execution_count": null,
   "metadata": {
    "collapsed": true
   },
   "outputs": [],
   "source": []
  }
 ],
 "metadata": {
  "kernelspec": {
   "display_name": "kaggle",
   "language": "python",
   "name": "kaggle"
  },
  "language_info": {
   "codemirror_mode": {
    "name": "ipython",
    "version": 2
   },
   "file_extension": ".py",
   "mimetype": "text/x-python",
   "name": "python",
   "nbconvert_exporter": "python",
   "pygments_lexer": "ipython2",
   "version": "2.7.3"
  }
 },
 "nbformat": 4,
 "nbformat_minor": 2
}
