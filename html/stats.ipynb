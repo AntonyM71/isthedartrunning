{
 "cells": [
  {
   "cell_type": "markdown",
   "metadata": {},
   "source": [
    "# NICE STATS"
   ]
  },
  {
   "cell_type": "code",
   "execution_count": 2,
   "metadata": {
    "collapsed": false
   },
   "outputs": [
    {
     "name": "stderr",
     "output_type": "stream",
     "text": [
      "/usr/local/lib/python2.7/dist-packages/matplotlib/font_manager.py:273: UserWarning: Matplotlib is building the font cache using fc-list. This may take a moment.\n",
      "  warnings.warn('Matplotlib is building the font cache using fc-list. This may take a moment.')\n"
     ]
    }
   ],
   "source": [
    "import sqlite3 as lite\n",
    "import math\n",
    "import time\n",
    "import sys\n",
    "import json\n",
    "import pandas as pd\n",
    "import os\n",
    "import ftplib\n",
    "import numpy as np\n",
    "import matplotlib.pyplot as plt\n",
    "% matplotlib inline\n",
    "plt.style.use('ggplot')\n",
    "\n",
    "fdir = os.path.abspath(os.path.dirname('__file__'))\n",
    "start_time = time.time()\n",
    "\n"
   ]
  },
  {
   "cell_type": "code",
   "execution_count": 57,
   "metadata": {
    "collapsed": true
   },
   "outputs": [],
   "source": [
    "# Set to True to use a nice sample db\n",
    "sample_data = False\n",
    "\n",
    "# set to True for printed messages\n",
    "verbose = True"
   ]
  },
  {
   "cell_type": "code",
   "execution_count": 58,
   "metadata": {
    "collapsed": true
   },
   "outputs": [],
   "source": [
    "time_format = \"%Y-%m-%dT%H:%M\"\n",
    "\n",
    "if sample_data:\n",
    "    database = os.path.join(fdir, '../sample_data.db')\n",
    "else:\n",
    "    database = os.path.join(fdir, '../data.db')\n",
    "\n"
   ]
  },
  {
   "cell_type": "code",
   "execution_count": 59,
   "metadata": {
    "collapsed": false
   },
   "outputs": [
    {
     "name": "stdout",
     "output_type": "stream",
     "text": [
      "2016-12-11 22:30:00\n"
     ]
    }
   ],
   "source": [
    "# Get current time rounded down to nearest 15 minutes\n",
    "current_time = time.time()\n",
    "current_time = current_time - (current_time % (15*60))\n",
    "current_time = pd.to_datetime(current_time, unit='s')\n",
    "\n",
    "if sample_data:\n",
    "    current_time = pd.to_datetime('2016-11-21 18:30:00') \n",
    "if verbose:\n",
    "    print current_time"
   ]
  },
  {
   "cell_type": "markdown",
   "metadata": {},
   "source": [
    "\n",
    "TODO\n",
    "* Calculate rain in the last 24 hours"
   ]
  },
  {
   "cell_type": "code",
   "execution_count": null,
   "metadata": {
    "collapsed": true
   },
   "outputs": [],
   "source": []
  },
  {
   "cell_type": "code",
   "execution_count": null,
   "metadata": {
    "collapsed": true
   },
   "outputs": [],
   "source": []
  },
  {
   "cell_type": "code",
   "execution_count": 60,
   "metadata": {
    "collapsed": false
   },
   "outputs": [
    {
     "data": {
      "text/html": [
       "<div>\n",
       "<table border=\"1\" class=\"dataframe\">\n",
       "  <thead>\n",
       "    <tr style=\"text-align: right;\">\n",
       "      <th></th>\n",
       "      <th>timestamp</th>\n",
       "      <th>cum_rain</th>\n",
       "      <th>level</th>\n",
       "      <th>forecast</th>\n",
       "    </tr>\n",
       "  </thead>\n",
       "  <tbody>\n",
       "    <tr>\n",
       "      <th>0</th>\n",
       "      <td>2016-12-13T03:00</td>\n",
       "      <td>NaN</td>\n",
       "      <td>NaN</td>\n",
       "      <td>0.472917</td>\n",
       "    </tr>\n",
       "    <tr>\n",
       "      <th>1</th>\n",
       "      <td>2016-12-13T00:00</td>\n",
       "      <td>NaN</td>\n",
       "      <td>NaN</td>\n",
       "      <td>0.770833</td>\n",
       "    </tr>\n",
       "    <tr>\n",
       "      <th>2</th>\n",
       "      <td>2016-12-12T21:00</td>\n",
       "      <td>NaN</td>\n",
       "      <td>NaN</td>\n",
       "      <td>0.000000</td>\n",
       "    </tr>\n",
       "    <tr>\n",
       "      <th>3</th>\n",
       "      <td>2016-12-12T18:00</td>\n",
       "      <td>NaN</td>\n",
       "      <td>NaN</td>\n",
       "      <td>0.000000</td>\n",
       "    </tr>\n",
       "    <tr>\n",
       "      <th>4</th>\n",
       "      <td>2016-12-12T15:00</td>\n",
       "      <td>NaN</td>\n",
       "      <td>NaN</td>\n",
       "      <td>0.000000</td>\n",
       "    </tr>\n",
       "  </tbody>\n",
       "</table>\n",
       "</div>"
      ],
      "text/plain": [
       "          timestamp  cum_rain  level  forecast\n",
       "0  2016-12-13T03:00       NaN    NaN  0.472917\n",
       "1  2016-12-13T00:00       NaN    NaN  0.770833\n",
       "2  2016-12-12T21:00       NaN    NaN  0.000000\n",
       "3  2016-12-12T18:00       NaN    NaN  0.000000\n",
       "4  2016-12-12T15:00       NaN    NaN  0.000000"
      ]
     },
     "execution_count": 60,
     "metadata": {},
     "output_type": "execute_result"
    }
   ],
   "source": [
    "con = lite.connect(database)\n",
    "cur = con.cursor()\n",
    "query = \"\"\"\n",
    "        SELECT timestamp, rain, level, forecast \n",
    "            from {river}\n",
    "        ORDER BY timestamp DESC\n",
    "    \"\"\"\n",
    "cur.execute(query.format(river=river, limit=limit))\n",
    "result = cur.fetchall()\n",
    "\n",
    "df_all = pd.DataFrame(result, columns=['timestamp', 'cum_rain', 'level', 'forecast'])\n",
    "\n",
    "df_all.head()"
   ]
  },
  {
   "cell_type": "code",
   "execution_count": 61,
   "metadata": {
    "collapsed": false
   },
   "outputs": [
    {
     "data": {
      "text/html": [
       "<div>\n",
       "<table border=\"1\" class=\"dataframe\">\n",
       "  <thead>\n",
       "    <tr style=\"text-align: right;\">\n",
       "      <th></th>\n",
       "      <th>cum_rain</th>\n",
       "      <th>level</th>\n",
       "      <th>forecast</th>\n",
       "    </tr>\n",
       "    <tr>\n",
       "      <th>timestamp</th>\n",
       "      <th></th>\n",
       "      <th></th>\n",
       "      <th></th>\n",
       "    </tr>\n",
       "  </thead>\n",
       "  <tbody>\n",
       "    <tr>\n",
       "      <th>2016-06-11 21:00:00</th>\n",
       "      <td>0.000000</td>\n",
       "      <td>NaN</td>\n",
       "      <td>NaN</td>\n",
       "    </tr>\n",
       "    <tr>\n",
       "      <th>2016-06-11 21:15:00</th>\n",
       "      <td>0.023438</td>\n",
       "      <td>NaN</td>\n",
       "      <td>NaN</td>\n",
       "    </tr>\n",
       "    <tr>\n",
       "      <th>2016-06-11 21:30:00</th>\n",
       "      <td>0.037500</td>\n",
       "      <td>NaN</td>\n",
       "      <td>NaN</td>\n",
       "    </tr>\n",
       "    <tr>\n",
       "      <th>2016-06-11 21:45:00</th>\n",
       "      <td>0.063281</td>\n",
       "      <td>NaN</td>\n",
       "      <td>NaN</td>\n",
       "    </tr>\n",
       "    <tr>\n",
       "      <th>2016-06-11 22:00:00</th>\n",
       "      <td>0.091406</td>\n",
       "      <td>NaN</td>\n",
       "      <td>NaN</td>\n",
       "    </tr>\n",
       "    <tr>\n",
       "      <th>2016-06-11 22:15:00</th>\n",
       "      <td>0.103125</td>\n",
       "      <td>NaN</td>\n",
       "      <td>NaN</td>\n",
       "    </tr>\n",
       "    <tr>\n",
       "      <th>2016-06-11 22:30:00</th>\n",
       "      <td>0.105469</td>\n",
       "      <td>NaN</td>\n",
       "      <td>NaN</td>\n",
       "    </tr>\n",
       "    <tr>\n",
       "      <th>2016-06-11 22:45:00</th>\n",
       "      <td>0.239063</td>\n",
       "      <td>NaN</td>\n",
       "      <td>NaN</td>\n",
       "    </tr>\n",
       "    <tr>\n",
       "      <th>2016-06-11 23:00:00</th>\n",
       "      <td>0.309375</td>\n",
       "      <td>NaN</td>\n",
       "      <td>NaN</td>\n",
       "    </tr>\n",
       "    <tr>\n",
       "      <th>2016-06-11 23:15:00</th>\n",
       "      <td>0.339844</td>\n",
       "      <td>NaN</td>\n",
       "      <td>NaN</td>\n",
       "    </tr>\n",
       "  </tbody>\n",
       "</table>\n",
       "</div>"
      ],
      "text/plain": [
       "                     cum_rain  level  forecast\n",
       "timestamp                                     \n",
       "2016-06-11 21:00:00  0.000000    NaN       NaN\n",
       "2016-06-11 21:15:00  0.023438    NaN       NaN\n",
       "2016-06-11 21:30:00  0.037500    NaN       NaN\n",
       "2016-06-11 21:45:00  0.063281    NaN       NaN\n",
       "2016-06-11 22:00:00  0.091406    NaN       NaN\n",
       "2016-06-11 22:15:00  0.103125    NaN       NaN\n",
       "2016-06-11 22:30:00  0.105469    NaN       NaN\n",
       "2016-06-11 22:45:00  0.239063    NaN       NaN\n",
       "2016-06-11 23:00:00  0.309375    NaN       NaN\n",
       "2016-06-11 23:15:00  0.339844    NaN       NaN"
      ]
     },
     "execution_count": 61,
     "metadata": {},
     "output_type": "execute_result"
    }
   ],
   "source": [
    "df_all.timestamp = pd.to_datetime(df_all.timestamp)\n",
    "df_all = df_all.set_index('timestamp')\n",
    "df_all = df_all.sort_index()\n",
    "\n",
    "df_all.head(10)"
   ]
  },
  {
   "cell_type": "code",
   "execution_count": null,
   "metadata": {
    "collapsed": false
   },
   "outputs": [],
   "source": []
  },
  {
   "cell_type": "code",
   "execution_count": 63,
   "metadata": {
    "collapsed": false
   },
   "outputs": [
    {
     "name": "stdout",
     "output_type": "stream",
     "text": [
      "current_time: 2016-12-11 22:30:00\n",
      "last_up: 2016-12-11 02:15:00\n",
      "\n",
      "LAST RUNNING 20 HOURS AGO\n"
     ]
    }
   ],
   "source": [
    "# LAST TIME THAT THE DART RAN\n",
    "up_rows = df_all[df_all.level > 0.7].index\n",
    "last_up = None\n",
    "if len(up_rows) > 0:\n",
    "    last_up = pd.to_datetime(max(up_rows))\n",
    "if verbose:\n",
    "    print 'current_time: ' + str(current_time)\n",
    "\n",
    "if last_up:\n",
    "    if verbose:\n",
    "        print 'last_up: ' + str(last_up)\n",
    "\n",
    "    diff = (current_time - last_up)\n",
    "\n",
    "    last_up_days = diff.value / (24 * 60 * 60 * 1000 * 1000 * 1000)\n",
    "    last_up_text = str(last_up_days) + ' DAYS'\n",
    "    if last_up_days == 0:\n",
    "        last_up_hours = diff.value / (60 * 60 * 1000 * 1000 * 1000)\n",
    "        last_up_text = str(last_up_hours) + ' HOURS'\n",
    "        if last_up_hours == 0:\n",
    "            last_up_minutes = diff.value / (60 * 1000 * 1000 * 1000)\n",
    "            last_up_text = str(last_up_minutes) + ' MINUTES'\n",
    "    if verbose:\n",
    "        print\n",
    "        print 'LAST RUNNING ' + last_up_text + ' AGO'\n",
    "else:\n",
    "    last_up_text = \"NEVER?!\"\n",
    "    if verbose:\n",
    "        print last_up_text\n"
   ]
  },
  {
   "cell_type": "code",
   "execution_count": 90,
   "metadata": {
    "collapsed": false
   },
   "outputs": [
    {
     "name": "stdout",
     "output_type": "stream",
     "text": [
      "UP ON 2 DAYS IN THE LAST 7 DAYS\n",
      "HIGHEST LEVEL IN THE LAST 7 DAYS WAS 1.31\n",
      "UP ON 7 DAYS IN THE LAST 30 DAYS\n",
      "HIGHEST LEVEL IN THE LAST 30 DAYS WAS 2.29\n"
     ]
    }
   ],
   "source": [
    "# NUMBER OF DAYS THAT THE DART HAS RUN IN DATA\n",
    "df_days = df_all.resample('D').max()\n",
    "#print len(df_days[df_days.level > 0.7])\n",
    "\n",
    "\n",
    "# NUMBER OF DAYS THAT THE DART HAS RUN IN LAST WEEK\n",
    "df_last_week = df_days[(current_time - df_days.index) < np.timedelta64(7,'D')]\n",
    "days_up_week = len(df_last_week[df_last_week.level > 0.7])\n",
    "max_level_week = df_last_week.level.max().round(2)\n",
    "\n",
    "if verbose:\n",
    "    print 'UP ON ' + str(days_up_week) + ' DAYS IN THE LAST 7 DAYS'\n",
    "    print 'HIGHEST LEVEL IN THE LAST 7 DAYS WAS ' + str(max_level_week)\n",
    "\n",
    "# NUMBER OF DAYS THAT DART HAS RUN IN LAST MONTH\n",
    "df_last_month = df_days[(current_time - df_days.index) < np.timedelta64(30,'D')]\n",
    "days_up_month = len(df_last_month[df_last_month.level > 0.7])\n",
    "max_level_month = df_last_month.level.max().round(2)\n",
    "\n",
    "if verbose:\n",
    "    print 'UP ON ' + str(days_up_month) + ' DAYS IN THE LAST 30 DAYS'\n",
    "    print 'HIGHEST LEVEL IN THE LAST 30 DAYS WAS ' + str(max_level_month)\n",
    "\n",
    "\n"
   ]
  },
  {
   "cell_type": "code",
   "execution_count": 91,
   "metadata": {
    "collapsed": false
   },
   "outputs": [
    {
     "name": "stdout",
     "output_type": "stream",
     "text": [
      "43 MM OF RAIN IN THE LAST 7 DAYS\n",
      "195 MM OF RAIN IN THE LAST 30 DAYS\n"
     ]
    }
   ],
   "source": [
    "# SUM OF RAIN IN THE LAST 24 HOURS ... \n",
    "# ...A bit more tricky, use cum_rain and somehow take out the max from previous day and today and sum \n",
    "\n",
    "# SUM OF RAIN IN THE LAST WEEK\n",
    "sum_rain_week = int(round(sum(df_last_week.cum_rain.fillna(0))))\n",
    "\n",
    "sum_rain_month = int(round(sum(df_last_month.cum_rain.fillna(0))))\n",
    "\n",
    "\n",
    "# SUM OF RAIN IN THE LAST MONTH\n",
    "if verbose:\n",
    "    print str(sum_rain_week) + ' MM OF RAIN IN THE LAST 7 DAYS'\n",
    "    print str(sum_rain_month) + ' MM OF RAIN IN THE LAST 30 DAYS'\n"
   ]
  },
  {
   "cell_type": "code",
   "execution_count": 94,
   "metadata": {
    "collapsed": false
   },
   "outputs": [],
   "source": [
    "data = {}       \n",
    "data['current_time'] = current_time.value / 1000000\n",
    "data['last_up_text'] = last_up_text\n",
    "data['days_up_week'] = days_up_week\n",
    "data['max_level_week'] = max_level_week.round(2)\n",
    "data['days_up_month'] = days_up_month\n",
    "data['max_level_month'] = max_level_month\n",
    "data['sum_rain_week'] = sum_rain_week\n",
    "data['sum_rain_month'] = sum_rain_month\n",
    "\n",
    "\n",
    "filename = os.path.join(fdir, 'dart_stats.json')\n",
    "with open(filename, 'w') as f:\n",
    "    json.dump(data, f, indent=4)"
   ]
  },
  {
   "cell_type": "code",
   "execution_count": null,
   "metadata": {
    "collapsed": false
   },
   "outputs": [],
   "source": []
  },
  {
   "cell_type": "code",
   "execution_count": null,
   "metadata": {
    "collapsed": true
   },
   "outputs": [],
   "source": []
  },
  {
   "cell_type": "code",
   "execution_count": null,
   "metadata": {
    "collapsed": true
   },
   "outputs": [],
   "source": []
  },
  {
   "cell_type": "code",
   "execution_count": null,
   "metadata": {
    "collapsed": true
   },
   "outputs": [],
   "source": []
  },
  {
   "cell_type": "code",
   "execution_count": null,
   "metadata": {
    "collapsed": true
   },
   "outputs": [],
   "source": []
  },
  {
   "cell_type": "code",
   "execution_count": null,
   "metadata": {
    "collapsed": true
   },
   "outputs": [],
   "source": []
  },
  {
   "cell_type": "code",
   "execution_count": null,
   "metadata": {
    "collapsed": true
   },
   "outputs": [],
   "source": []
  },
  {
   "cell_type": "code",
   "execution_count": null,
   "metadata": {
    "collapsed": true
   },
   "outputs": [],
   "source": []
  }
 ],
 "metadata": {
  "kernelspec": {
   "display_name": "Python 2",
   "language": "python",
   "name": "python2"
  },
  "language_info": {
   "codemirror_mode": {
    "name": "ipython",
    "version": 2
   },
   "file_extension": ".py",
   "mimetype": "text/x-python",
   "name": "python",
   "nbconvert_exporter": "python",
   "pygments_lexer": "ipython2",
   "version": "2.7.6"
  }
 },
 "nbformat": 4,
 "nbformat_minor": 0
}
