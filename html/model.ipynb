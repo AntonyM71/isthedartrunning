{
 "cells": [
  {
   "cell_type": "code",
   "execution_count": 101,
   "metadata": {
    "collapsed": false
   },
   "outputs": [],
   "source": [
    "import sqlite3 as lite\n",
    "import math\n",
    "import time\n",
    "import sys\n",
    "import json\n",
    "import pandas as pd\n",
    "import os\n",
    "import ftplib\n",
    "import numpy as np\n",
    "import matplotlib.pyplot as plt\n",
    "% matplotlib inline\n",
    "plt.style.use('ggplot')\n",
    "\n",
    "\n",
    "start_time = time.time()\n",
    "\n"
   ]
  },
  {
   "cell_type": "code",
   "execution_count": 102,
   "metadata": {
    "collapsed": true
   },
   "outputs": [],
   "source": [
    "sample_data = False"
   ]
  },
  {
   "cell_type": "code",
   "execution_count": 103,
   "metadata": {
    "collapsed": true
   },
   "outputs": [],
   "source": [
    "time_format = \"%Y-%m-%dT%H:%M\"\n",
    "\n",
    "\n",
    "k = 0.12\n",
    "scale_m = 1.91\n",
    "scale_a = 0.234\n",
    "delay = np.timedelta64(60, 'm') # 60 minutes\n",
    "\n",
    "def f(x):\n",
    "    return math.exp(k*x)\n",
    "def g(x):\n",
    "    return (scale_m * x) + scale_a\n",
    "def f_inv(x):\n",
    "    return math.log(x) / k\n",
    "def g_inv(x):\n",
    "    return (x - scale_a) / scale_m"
   ]
  },
  {
   "cell_type": "code",
   "execution_count": 104,
   "metadata": {
    "collapsed": false
   },
   "outputs": [
    {
     "name": "stdout",
     "output_type": "stream",
     "text": [
      "2016-12-10 19:00:00\n"
     ]
    }
   ],
   "source": [
    "# Get current time rounded down to nearest 15 minutes\n",
    "current_time = time.time()\n",
    "current_time = current_time - (current_time % (15*60))\n",
    "current_time = pd.to_datetime(current_time, unit='s')\n",
    "\n",
    "if sample_data:\n",
    "    current_time = pd.to_datetime('2016-11-21 18:30:00') \n",
    "\n",
    "print current_time"
   ]
  },
  {
   "cell_type": "markdown",
   "metadata": {},
   "source": [
    "# Load data from sql database into pandas df"
   ]
  },
  {
   "cell_type": "code",
   "execution_count": 105,
   "metadata": {
    "collapsed": false
   },
   "outputs": [
    {
     "data": {
      "text/html": [
       "<div>\n",
       "<table border=\"1\" class=\"dataframe\">\n",
       "  <thead>\n",
       "    <tr style=\"text-align: right;\">\n",
       "      <th></th>\n",
       "      <th>timestamp</th>\n",
       "      <th>cum_rain</th>\n",
       "      <th>level</th>\n",
       "      <th>forecast</th>\n",
       "    </tr>\n",
       "  </thead>\n",
       "  <tbody>\n",
       "    <tr>\n",
       "      <th>0</th>\n",
       "      <td>2016-12-11T21:00</td>\n",
       "      <td>NaN</td>\n",
       "      <td>NaN</td>\n",
       "      <td>0.0</td>\n",
       "    </tr>\n",
       "    <tr>\n",
       "      <th>1</th>\n",
       "      <td>2016-12-11T18:00</td>\n",
       "      <td>NaN</td>\n",
       "      <td>NaN</td>\n",
       "      <td>0.0</td>\n",
       "    </tr>\n",
       "    <tr>\n",
       "      <th>2</th>\n",
       "      <td>2016-12-11T15:00</td>\n",
       "      <td>NaN</td>\n",
       "      <td>NaN</td>\n",
       "      <td>0.0</td>\n",
       "    </tr>\n",
       "    <tr>\n",
       "      <th>3</th>\n",
       "      <td>2016-12-11T12:00</td>\n",
       "      <td>NaN</td>\n",
       "      <td>NaN</td>\n",
       "      <td>0.0</td>\n",
       "    </tr>\n",
       "    <tr>\n",
       "      <th>4</th>\n",
       "      <td>2016-12-11T09:00</td>\n",
       "      <td>NaN</td>\n",
       "      <td>NaN</td>\n",
       "      <td>0.0</td>\n",
       "    </tr>\n",
       "  </tbody>\n",
       "</table>\n",
       "</div>"
      ],
      "text/plain": [
       "          timestamp  cum_rain  level  forecast\n",
       "0  2016-12-11T21:00       NaN    NaN       0.0\n",
       "1  2016-12-11T18:00       NaN    NaN       0.0\n",
       "2  2016-12-11T15:00       NaN    NaN       0.0\n",
       "3  2016-12-11T12:00       NaN    NaN       0.0\n",
       "4  2016-12-11T09:00       NaN    NaN       0.0"
      ]
     },
     "execution_count": 105,
     "metadata": {},
     "output_type": "execute_result"
    }
   ],
   "source": [
    "if sample_data:\n",
    "    database = 'sample_data.db'\n",
    "else:\n",
    "    database = '../data.db'\n",
    "river = 'dart'\n",
    "limit = 200\n",
    "con = lite.connect(database)\n",
    "cur = con.cursor()\n",
    "query = \"\"\"\n",
    "        SELECT timestamp, rain, level, forecast \n",
    "            from {river}\n",
    "        ORDER BY timestamp DESC\n",
    "        LIMIT {limit}\n",
    "    \"\"\"\n",
    "cur.execute(query.format(river=river, limit=limit))\n",
    "result = cur.fetchall()\n",
    "df = pd.DataFrame(result, columns=['timestamp', 'cum_rain', 'level', 'forecast'])\n",
    "df.head()"
   ]
  },
  {
   "cell_type": "code",
   "execution_count": null,
   "metadata": {
    "collapsed": false
   },
   "outputs": [],
   "source": []
  },
  {
   "cell_type": "markdown",
   "metadata": {},
   "source": [
    "# Set index to timestamp column as object"
   ]
  },
  {
   "cell_type": "code",
   "execution_count": 106,
   "metadata": {
    "collapsed": false
   },
   "outputs": [
    {
     "data": {
      "text/html": [
       "<div>\n",
       "<table border=\"1\" class=\"dataframe\">\n",
       "  <thead>\n",
       "    <tr style=\"text-align: right;\">\n",
       "      <th></th>\n",
       "      <th>cum_rain</th>\n",
       "      <th>level</th>\n",
       "      <th>forecast</th>\n",
       "    </tr>\n",
       "    <tr>\n",
       "      <th>timestamp</th>\n",
       "      <th></th>\n",
       "      <th></th>\n",
       "      <th></th>\n",
       "    </tr>\n",
       "  </thead>\n",
       "  <tbody>\n",
       "    <tr>\n",
       "      <th>2016-12-08 19:15:00</th>\n",
       "      <td>NaN</td>\n",
       "      <td>0.457</td>\n",
       "      <td>NaN</td>\n",
       "    </tr>\n",
       "    <tr>\n",
       "      <th>2016-12-08 19:30:00</th>\n",
       "      <td>NaN</td>\n",
       "      <td>0.455</td>\n",
       "      <td>NaN</td>\n",
       "    </tr>\n",
       "    <tr>\n",
       "      <th>2016-12-08 19:45:00</th>\n",
       "      <td>NaN</td>\n",
       "      <td>0.452</td>\n",
       "      <td>NaN</td>\n",
       "    </tr>\n",
       "    <tr>\n",
       "      <th>2016-12-08 20:00:00</th>\n",
       "      <td>NaN</td>\n",
       "      <td>0.450</td>\n",
       "      <td>NaN</td>\n",
       "    </tr>\n",
       "    <tr>\n",
       "      <th>2016-12-08 20:15:00</th>\n",
       "      <td>NaN</td>\n",
       "      <td>0.447</td>\n",
       "      <td>NaN</td>\n",
       "    </tr>\n",
       "  </tbody>\n",
       "</table>\n",
       "</div>"
      ],
      "text/plain": [
       "                     cum_rain  level  forecast\n",
       "timestamp                                     \n",
       "2016-12-08 19:15:00       NaN  0.457       NaN\n",
       "2016-12-08 19:30:00       NaN  0.455       NaN\n",
       "2016-12-08 19:45:00       NaN  0.452       NaN\n",
       "2016-12-08 20:00:00       NaN  0.450       NaN\n",
       "2016-12-08 20:15:00       NaN  0.447       NaN"
      ]
     },
     "execution_count": 106,
     "metadata": {},
     "output_type": "execute_result"
    }
   ],
   "source": [
    "df.timestamp = pd.to_datetime(df.timestamp)\n",
    "df = df.set_index('timestamp')\n",
    "df = df.sort_index()\n",
    "df.head()"
   ]
  },
  {
   "cell_type": "markdown",
   "metadata": {},
   "source": [
    "# Pre-model checks"
   ]
  },
  {
   "cell_type": "code",
   "execution_count": 107,
   "metadata": {
    "collapsed": false
   },
   "outputs": [],
   "source": [
    "\n",
    "# Check that there is a level update in df\n",
    "if len(df[df.level.notnull()]) == 0:\n",
    "    print 'No level updates'\n",
    "    \n",
    "# Check that there is a row for now or past now\n",
    "if len(df[df.index >= current_time]) == 0:\n",
    "    print 'Not enough data'\n"
   ]
  },
  {
   "cell_type": "code",
   "execution_count": 108,
   "metadata": {
    "collapsed": false
   },
   "outputs": [
    {
     "data": {
      "text/plain": [
       "[<matplotlib.lines.Line2D at 0x7f5894a4f3d0>]"
      ]
     },
     "execution_count": 108,
     "metadata": {},
     "output_type": "execute_result"
    },
    {
     "data": {
      "image/png": "[encoded data removed]",
      "text/plain": [
       "<matplotlib.figure.Figure at 0x7f5894d68b10>"
      ]
     },
     "metadata": {},
     "output_type": "display_data"
    }
   ],
   "source": [
    "plt.plot(df.level.fillna(0))"
   ]
  },
  {
   "cell_type": "markdown",
   "metadata": {},
   "source": [
    "# Calculate important timestamps"
   ]
  },
  {
   "cell_type": "code",
   "execution_count": 109,
   "metadata": {
    "collapsed": false
   },
   "outputs": [
    {
     "name": "stdout",
     "output_type": "stream",
     "text": [
      "2016-12-10 18:30:00\n",
      "1.312\n"
     ]
    }
   ],
   "source": [
    "latest_level_time = max(df.index[df.level.notnull()])\n",
    "\n",
    "print latest_level_time\n",
    "latest_level = df.loc[latest_level_time].level\n",
    "print latest_level"
   ]
  },
  {
   "cell_type": "code",
   "execution_count": 110,
   "metadata": {
    "collapsed": false
   },
   "outputs": [
    {
     "name": "stdout",
     "output_type": "stream",
     "text": [
      "2016-12-10 19:00:00\n"
     ]
    }
   ],
   "source": [
    "latest_rain_time = max(df.index[df.cum_rain.notnull()])\n",
    "\n",
    "print latest_rain_time"
   ]
  },
  {
   "cell_type": "markdown",
   "metadata": {},
   "source": [
    "# Fill in missing timestamps"
   ]
  },
  {
   "cell_type": "code",
   "execution_count": 111,
   "metadata": {
    "collapsed": false
   },
   "outputs": [],
   "source": [
    "min_time = min(df.index)\n",
    "max_time = max(df.index)\n",
    "rng = pd.date_range(min_time, max_time, freq='15Min')\n",
    "df = df.reindex(rng)\n"
   ]
  },
  {
   "cell_type": "markdown",
   "metadata": {},
   "source": [
    "# Cumulative rain -> actual rain"
   ]
  },
  {
   "cell_type": "code",
   "execution_count": 112,
   "metadata": {
    "collapsed": false
   },
   "outputs": [
    {
     "data": {
      "text/plain": [
       "[<matplotlib.lines.Line2D at 0x7f5894b00450>]"
      ]
     },
     "execution_count": 112,
     "metadata": {},
     "output_type": "execute_result"
    },
    {
     "data": {
      "image/png": "[encoded data removed]",
      "text/plain": [
       "<matplotlib.figure.Figure at 0x7f58949bbcd0>"
      ]
     },
     "metadata": {},
     "output_type": "display_data"
    }
   ],
   "source": [
    "plt.plot(df.cum_rain.fillna(0))"
   ]
  },
  {
   "cell_type": "code",
   "execution_count": 113,
   "metadata": {
    "collapsed": false
   },
   "outputs": [],
   "source": [
    "df['rain'] = df['cum_rain'].diff(periods=2)\n",
    "df.loc[df['rain'] < 0, 'rain'] = 0 \n",
    "# interpolate and div 2 to get actual rain every 15 min\n",
    "df['rain'] = df['rain'].interpolate()\n",
    "df['rain'] = df['rain'] / 2\n",
    "\n",
    "# multiply by 4 to get rain rate per hour\n",
    "df['rain'] = df['rain'] * 2\n"
   ]
  },
  {
   "cell_type": "code",
   "execution_count": 114,
   "metadata": {
    "collapsed": false,
    "scrolled": true
   },
   "outputs": [
    {
     "data": {
      "text/plain": [
       "[<matplotlib.lines.Line2D at 0x7f589492c910>]"
      ]
     },
     "execution_count": 114,
     "metadata": {},
     "output_type": "execute_result"
    },
    {
     "data": {
      "image/png": "[encoded data removed]",
      "text/plain": [
       "<matplotlib.figure.Figure at 0x7f5894ae8390>"
      ]
     },
     "metadata": {},
     "output_type": "display_data"
    }
   ],
   "source": [
    "plt.plot(df['rain'].fillna(0))"
   ]
  },
  {
   "cell_type": "markdown",
   "metadata": {},
   "source": [
    "# Interpolate forecast"
   ]
  },
  {
   "cell_type": "code",
   "execution_count": 115,
   "metadata": {
    "collapsed": false
   },
   "outputs": [
    {
     "data": {
      "text/plain": [
       "[<matplotlib.lines.Line2D at 0x7f58949dac90>]"
      ]
     },
     "execution_count": 115,
     "metadata": {},
     "output_type": "execute_result"
    },
    {
     "data": {
      "image/png": "[encoded data removed]",
      "text/plain": [
       "<matplotlib.figure.Figure at 0x7f5894956450>"
      ]
     },
     "metadata": {},
     "output_type": "display_data"
    }
   ],
   "source": [
    "# Input forecast data is in mm/hour\n",
    "plt.plot(df.forecast.fillna(0))"
   ]
  },
  {
   "cell_type": "code",
   "execution_count": 116,
   "metadata": {
    "collapsed": false
   },
   "outputs": [
    {
     "data": {
      "text/plain": [
       "[<matplotlib.lines.Line2D at 0x7f58947e2ad0>]"
      ]
     },
     "execution_count": 116,
     "metadata": {},
     "output_type": "execute_result"
    },
    {
     "data": {
      "image/png": "[encoded data removed]",
      "text/plain": [
       "<matplotlib.figure.Figure at 0x7f58948cad90>"
      ]
     },
     "metadata": {},
     "output_type": "display_data"
    }
   ],
   "source": [
    "# Remove forecast before latest_rain_time\n",
    "df.loc[min_time:latest_rain_time, 'forecast'] = None\n",
    "\n",
    "# Set forecast to rain at latest_rain_time\n",
    "df.loc[latest_rain_time].forecast = df.loc[latest_rain_time].rain\n",
    "\n",
    "df['forecast'] = df['forecast'].interpolate()\n",
    "\n",
    "plt.plot(df.forecast.fillna(0))"
   ]
  },
  {
   "cell_type": "markdown",
   "metadata": {},
   "source": [
    "# Run model"
   ]
  },
  {
   "cell_type": "code",
   "execution_count": 117,
   "metadata": {
    "collapsed": false
   },
   "outputs": [],
   "source": [
    "df['model_rain'] = df['forecast'].fillna(0) + df['rain'].fillna(0)\n",
    "df['storage'] = np.nan\n",
    "df['predict'] = np.nan\n",
    "\n",
    "# Calculate initial storage\n",
    "init_storage = f_inv(g_inv(latest_level))\n",
    "df.loc[latest_level_time, 'storage'] = init_storage\n",
    "\n",
    "# Run iteration for indexes > latest_level_update\n",
    "storage = init_storage\n",
    "df_model = df[(df.index > pd.Timestamp(latest_level_time))]\n",
    "for i,r in df_model.iterrows():\n",
    "    rain = df.loc[i - delay, 'model_rain']\n",
    "    predict = g(f(storage))\n",
    "    storage = storage + rain - f(storage)\n",
    "    df.loc[i, 'storage'] = storage\n",
    "    df.loc[i, 'predict'] = predict"
   ]
  },
  {
   "cell_type": "code",
   "execution_count": 118,
   "metadata": {
    "collapsed": false
   },
   "outputs": [
    {
     "data": {
      "text/plain": [
       "[<matplotlib.lines.Line2D at 0x7f5894869c90>]"
      ]
     },
     "execution_count": 118,
     "metadata": {},
     "output_type": "execute_result"
    },
    {
     "data": {
      "image/png": "[encoded data removed]",
      "text/plain": [
       "<matplotlib.figure.Figure at 0x7f5894876c90>"
      ]
     },
     "metadata": {},
     "output_type": "display_data"
    }
   ],
   "source": [
    "plt.plot(df.level.fillna(0))"
   ]
  },
  {
   "cell_type": "code",
   "execution_count": 119,
   "metadata": {
    "collapsed": false
   },
   "outputs": [
    {
     "data": {
      "text/plain": [
       "[<matplotlib.lines.Line2D at 0x7f5894667ad0>]"
      ]
     },
     "execution_count": 119,
     "metadata": {},
     "output_type": "execute_result"
    },
    {
     "data": {
      "image/png": "[encoded data removed]",
      "text/plain": [
       "<matplotlib.figure.Figure at 0x7f589623e310>"
      ]
     },
     "metadata": {},
     "output_type": "display_data"
    }
   ],
   "source": [
    "plt.plot(df.predict.fillna(0))"
   ]
  },
  {
   "cell_type": "code",
   "execution_count": 120,
   "metadata": {
    "collapsed": false
   },
   "outputs": [
    {
     "data": {
      "text/plain": [
       "[<matplotlib.lines.Line2D at 0x7f58945a77d0>]"
      ]
     },
     "execution_count": 120,
     "metadata": {},
     "output_type": "execute_result"
    },
    {
     "data": {
      "image/png": "[encoded data removed]",
      "text/plain": [
       "<matplotlib.figure.Figure at 0x7f58945e2550>"
      ]
     },
     "metadata": {},
     "output_type": "display_data"
    }
   ],
   "source": [
    "plt.plot(df.level.fillna(0) + df.predict.fillna(0))"
   ]
  },
  {
   "cell_type": "markdown",
   "metadata": {},
   "source": [
    "# Create export dictionary\n",
    "\n",
    "* Round model_rain, level and predict\n",
    "* Get current time rounded down to nearest 15 minutes\n",
    "* create output dict with the following properties\n",
    "    * values\n",
    "    * current_time\n",
    "    * current_level\n",
    "    * text\n",
    "    * next_up if in next hour"
   ]
  },
  {
   "cell_type": "code",
   "execution_count": null,
   "metadata": {
    "collapsed": true
   },
   "outputs": [],
   "source": []
  },
  {
   "cell_type": "code",
   "execution_count": 121,
   "metadata": {
    "collapsed": false
   },
   "outputs": [],
   "source": [
    "# Round export columns\n",
    "df = df.round({'level': 3, 'predict': 3, 'model_rain' : 1})"
   ]
  },
  {
   "cell_type": "code",
   "execution_count": null,
   "metadata": {
    "collapsed": false
   },
   "outputs": [],
   "source": []
  },
  {
   "cell_type": "code",
   "execution_count": 122,
   "metadata": {
    "collapsed": false
   },
   "outputs": [
    {
     "name": "stdout",
     "output_type": "stream",
     "text": [
      "1.241\n"
     ]
    }
   ],
   "source": [
    "\n",
    "try:\n",
    "    current_row = df.loc[pd.to_datetime(current_time, unit='s')]\n",
    "    current_level = current_row['level']\n",
    "    if np.isnan(current_level):\n",
    "        current_level = current_row['predict']\n",
    "except KeyError:\n",
    "    print \"Can't find row in df that matches current time: \"+ time.strftime(time_format, time.gmtime(current_time))\n",
    "    current_level = None\n",
    "    \n",
    "print current_level"
   ]
  },
  {
   "cell_type": "code",
   "execution_count": 123,
   "metadata": {
    "collapsed": false
   },
   "outputs": [],
   "source": [
    "\n",
    "df.timestamp = df.index\n",
    "df = df.where((pd.notnull(df)), None)\n",
    "timestamp_vals = [timestmp.value / 1000 for timestmp in df.index.tolist()]\n",
    "rain_vals = df.model_rain.tolist()\n",
    "level_vals = df.level.tolist()\n",
    "predict_vals = df.predict.tolist()\n",
    "values = []\n",
    "for n in range(0, len(timestamp_vals)):\n",
    "    values.append({'timestamp' : timestamp_vals[n], 'rain' : rain_vals[n], 'level' : level_vals[n], 'predict' : predict_vals[n]})\n"
   ]
  },
  {
   "cell_type": "code",
   "execution_count": 124,
   "metadata": {
    "collapsed": false
   },
   "outputs": [
    {
     "name": "stdout",
     "output_type": "stream",
     "text": [
      "YES\n"
     ]
    }
   ],
   "source": [
    "if current_level > 1.5:\n",
    "    text = \"THE DART IS MASSIVE\"\n",
    "elif current_level > 0.7:\n",
    "    text = 'YES'\n",
    "else:\n",
    "    next_up = df[(df.index > current_time) & (df.index < current_time + delay) & (df.predict > 0.2)].index.min()\n",
    "    if pd.isnull(next_up):\n",
    "        text = 'NO'\n",
    "    else:\n",
    "        text = \"THE DART WILL BE UP SHORTLY\"    \n",
    "print text"
   ]
  },
  {
   "cell_type": "code",
   "execution_count": 125,
   "metadata": {
    "collapsed": false
   },
   "outputs": [],
   "source": [
    "output = {}       \n",
    "output['current_time'] = current_time.value / 1000\n",
    "output['current_level'] = current_level \n",
    "output['text'] = text\n",
    "output['values'] = values\n"
   ]
  },
  {
   "cell_type": "markdown",
   "metadata": {},
   "source": [
    "# Write export to json"
   ]
  },
  {
   "cell_type": "code",
   "execution_count": 84,
   "metadata": {
    "collapsed": false
   },
   "outputs": [],
   "source": [
    "filename = 'dart.json'\n",
    "with open(filename, 'w') as f:\n",
    "    json.dump(output, f)\n",
    "\n",
    "ftp_url = 'ftp.isthedartrunning.co.uk'\n",
    "ftp_pass = 'EScc290@'\n",
    "ftp_user = 'isthedartrunningcouk'\n",
    "ftp_dir = 'testing'\n",
    "\n",
    "ftp = ftplib.FTP(ftp_url)\n",
    "ftp.login(ftp_user, ftp_pass)\n",
    "if ftp_dir is not None:\n",
    "    ftp.cwd(ftp_dir)\n",
    "\n",
    "ext = os.path.splitext(filename)[1]\n",
    "if ext in (\".txt\", \".htm\", \".html\"):\n",
    "    ftp.storlines(\"STOR \" + filename, open(filename))\n",
    "else:\n",
    "    ftp.storbinary(\"STOR \" + filename, open(filename), 1024)"
   ]
  },
  {
   "cell_type": "code",
   "execution_count": 85,
   "metadata": {
    "collapsed": false
   },
   "outputs": [
    {
     "name": "stdout",
     "output_type": "stream",
     "text": [
      "--- 170.365548134 seconds ---\n"
     ]
    }
   ],
   "source": [
    "print(\"--- %s seconds ---\" % (time.time() - start_time))"
   ]
  },
  {
   "cell_type": "code",
   "execution_count": null,
   "metadata": {
    "collapsed": true
   },
   "outputs": [],
   "source": []
  },
  {
   "cell_type": "code",
   "execution_count": null,
   "metadata": {
    "collapsed": true
   },
   "outputs": [],
   "source": []
  },
  {
   "cell_type": "markdown",
   "metadata": {},
   "source": [
    "# COOL STATS : )\n",
    "\n",
    "TODO\n",
    "* Calculate rain in the last 24 hours"
   ]
  },
  {
   "cell_type": "code",
   "execution_count": 86,
   "metadata": {
    "collapsed": false
   },
   "outputs": [
    {
     "data": {
      "text/html": [
       "<div>\n",
       "<table border=\"1\" class=\"dataframe\">\n",
       "  <thead>\n",
       "    <tr style=\"text-align: right;\">\n",
       "      <th></th>\n",
       "      <th>timestamp</th>\n",
       "      <th>cum_rain</th>\n",
       "      <th>level</th>\n",
       "      <th>forecast</th>\n",
       "    </tr>\n",
       "  </thead>\n",
       "  <tbody>\n",
       "    <tr>\n",
       "      <th>0</th>\n",
       "      <td>2016-11-23T03:00</td>\n",
       "      <td>NaN</td>\n",
       "      <td>NaN</td>\n",
       "      <td>0.000000</td>\n",
       "    </tr>\n",
       "    <tr>\n",
       "      <th>1</th>\n",
       "      <td>2016-11-23T00:00</td>\n",
       "      <td>NaN</td>\n",
       "      <td>NaN</td>\n",
       "      <td>0.000000</td>\n",
       "    </tr>\n",
       "    <tr>\n",
       "      <th>2</th>\n",
       "      <td>2016-11-22T21:00</td>\n",
       "      <td>NaN</td>\n",
       "      <td>NaN</td>\n",
       "      <td>0.006510</td>\n",
       "    </tr>\n",
       "    <tr>\n",
       "      <th>3</th>\n",
       "      <td>2016-11-22T18:00</td>\n",
       "      <td>NaN</td>\n",
       "      <td>NaN</td>\n",
       "      <td>0.000000</td>\n",
       "    </tr>\n",
       "    <tr>\n",
       "      <th>4</th>\n",
       "      <td>2016-11-22T15:00</td>\n",
       "      <td>NaN</td>\n",
       "      <td>NaN</td>\n",
       "      <td>0.070833</td>\n",
       "    </tr>\n",
       "  </tbody>\n",
       "</table>\n",
       "</div>"
      ],
      "text/plain": [
       "          timestamp  cum_rain  level  forecast\n",
       "0  2016-11-23T03:00       NaN    NaN  0.000000\n",
       "1  2016-11-23T00:00       NaN    NaN  0.000000\n",
       "2  2016-11-22T21:00       NaN    NaN  0.006510\n",
       "3  2016-11-22T18:00       NaN    NaN  0.000000\n",
       "4  2016-11-22T15:00       NaN    NaN  0.070833"
      ]
     },
     "execution_count": 86,
     "metadata": {},
     "output_type": "execute_result"
    }
   ],
   "source": [
    "database = 'data.db'\n",
    "river = 'dart'\n",
    "limit = 200\n",
    "con = lite.connect(database)\n",
    "cur = con.cursor()\n",
    "query = \"\"\"\n",
    "        SELECT timestamp, rain, level, forecast \n",
    "            from {river}\n",
    "        ORDER BY timestamp DESC\n",
    "    \"\"\"\n",
    "cur.execute(query.format(river=river, limit=limit))\n",
    "result = cur.fetchall()\n",
    "df_all = pd.DataFrame(result, columns=['timestamp', 'cum_rain', 'level', 'forecast'])\n",
    "df_all.head()"
   ]
  },
  {
   "cell_type": "code",
   "execution_count": 87,
   "metadata": {
    "collapsed": false
   },
   "outputs": [
    {
     "data": {
      "text/html": [
       "<div>\n",
       "<table border=\"1\" class=\"dataframe\">\n",
       "  <thead>\n",
       "    <tr style=\"text-align: right;\">\n",
       "      <th></th>\n",
       "      <th>cum_rain</th>\n",
       "      <th>level</th>\n",
       "      <th>forecast</th>\n",
       "    </tr>\n",
       "    <tr>\n",
       "      <th>timestamp</th>\n",
       "      <th></th>\n",
       "      <th></th>\n",
       "      <th></th>\n",
       "    </tr>\n",
       "  </thead>\n",
       "  <tbody>\n",
       "    <tr>\n",
       "      <th>2016-06-11 21:00:00</th>\n",
       "      <td>0.000000</td>\n",
       "      <td>NaN</td>\n",
       "      <td>NaN</td>\n",
       "    </tr>\n",
       "    <tr>\n",
       "      <th>2016-06-11 21:15:00</th>\n",
       "      <td>0.023438</td>\n",
       "      <td>NaN</td>\n",
       "      <td>NaN</td>\n",
       "    </tr>\n",
       "    <tr>\n",
       "      <th>2016-06-11 21:30:00</th>\n",
       "      <td>0.037500</td>\n",
       "      <td>NaN</td>\n",
       "      <td>NaN</td>\n",
       "    </tr>\n",
       "    <tr>\n",
       "      <th>2016-06-11 21:45:00</th>\n",
       "      <td>0.063281</td>\n",
       "      <td>NaN</td>\n",
       "      <td>NaN</td>\n",
       "    </tr>\n",
       "    <tr>\n",
       "      <th>2016-06-11 22:00:00</th>\n",
       "      <td>0.091406</td>\n",
       "      <td>NaN</td>\n",
       "      <td>NaN</td>\n",
       "    </tr>\n",
       "    <tr>\n",
       "      <th>2016-06-11 22:15:00</th>\n",
       "      <td>0.103125</td>\n",
       "      <td>NaN</td>\n",
       "      <td>NaN</td>\n",
       "    </tr>\n",
       "    <tr>\n",
       "      <th>2016-06-11 22:30:00</th>\n",
       "      <td>0.105469</td>\n",
       "      <td>NaN</td>\n",
       "      <td>NaN</td>\n",
       "    </tr>\n",
       "    <tr>\n",
       "      <th>2016-06-11 22:45:00</th>\n",
       "      <td>0.239063</td>\n",
       "      <td>NaN</td>\n",
       "      <td>NaN</td>\n",
       "    </tr>\n",
       "    <tr>\n",
       "      <th>2016-06-11 23:00:00</th>\n",
       "      <td>0.309375</td>\n",
       "      <td>NaN</td>\n",
       "      <td>NaN</td>\n",
       "    </tr>\n",
       "    <tr>\n",
       "      <th>2016-06-11 23:15:00</th>\n",
       "      <td>0.339844</td>\n",
       "      <td>NaN</td>\n",
       "      <td>NaN</td>\n",
       "    </tr>\n",
       "  </tbody>\n",
       "</table>\n",
       "</div>"
      ],
      "text/plain": [
       "                     cum_rain  level  forecast\n",
       "timestamp                                     \n",
       "2016-06-11 21:00:00  0.000000    NaN       NaN\n",
       "2016-06-11 21:15:00  0.023438    NaN       NaN\n",
       "2016-06-11 21:30:00  0.037500    NaN       NaN\n",
       "2016-06-11 21:45:00  0.063281    NaN       NaN\n",
       "2016-06-11 22:00:00  0.091406    NaN       NaN\n",
       "2016-06-11 22:15:00  0.103125    NaN       NaN\n",
       "2016-06-11 22:30:00  0.105469    NaN       NaN\n",
       "2016-06-11 22:45:00  0.239063    NaN       NaN\n",
       "2016-06-11 23:00:00  0.309375    NaN       NaN\n",
       "2016-06-11 23:15:00  0.339844    NaN       NaN"
      ]
     },
     "execution_count": 87,
     "metadata": {},
     "output_type": "execute_result"
    }
   ],
   "source": [
    "df_all.timestamp = pd.to_datetime(df_all.timestamp)\n",
    "df_all = df_all.set_index('timestamp')\n",
    "df_all = df_all.sort_index()\n",
    "df_all.head(10)"
   ]
  },
  {
   "cell_type": "code",
   "execution_count": 88,
   "metadata": {
    "collapsed": false
   },
   "outputs": [
    {
     "name": "stdout",
     "output_type": "stream",
     "text": [
      "2.289\n"
     ]
    }
   ],
   "source": [
    "# MAX RECORDED LEVEL\n",
    "print max(df_all.level.fillna(0))"
   ]
  },
  {
   "cell_type": "code",
   "execution_count": 89,
   "metadata": {
    "collapsed": false
   },
   "outputs": [
    {
     "name": "stdout",
     "output_type": "stream",
     "text": [
      "current_time: 2016-12-10 18:45:00\n",
      "last_up: 2016-11-21 16:30:00\n",
      "\n",
      "LAST RUNNING 19 DAYS AGO\n",
      "19\n"
     ]
    }
   ],
   "source": [
    "# LAST TIME THAT THE DART RAN\n",
    "up_rows = df_all[df_all.level > 0.7].index\n",
    "last_up = None\n",
    "if len(up_rows) > 0:\n",
    "    last_up = pd.to_datetime(max(up_rows))\n",
    "print 'current_time: ' + str(current_time)\n",
    "\n",
    "if last_up:\n",
    "    print 'last_up: ' + str(last_up)\n",
    "\n",
    "    diff = (current_time - last_up)\n",
    "\n",
    "    last_up_days = diff.value / (24 * 60 * 60 * 1000 * 1000 * 1000)\n",
    "    last_up_text = str(last_up_days) + ' DAYS'\n",
    "    if last_up_days == 0:\n",
    "        last_up_hours = diff.value / (60 * 60 * 1000 * 1000 * 1000)\n",
    "        last_up_text = str(last_up_hours) + ' HOURS'\n",
    "        if last_up_hours == 0:\n",
    "            last_up_minutes = diff.value / (60 * 1000 * 1000 * 1000)\n",
    "            last_up_text = str(last_up_minutes) + ' MINUTES'\n",
    "\n",
    "    print\n",
    "    print 'LAST RUNNING ' + last_up_text + ' AGO'\n",
    "    print last_up_days\n",
    "else:\n",
    "    last_up_text = \"THE DART HASN'T BEEN UP YET!\"\n",
    "    print last_up_text\n"
   ]
  },
  {
   "cell_type": "code",
   "execution_count": 90,
   "metadata": {
    "collapsed": false
   },
   "outputs": [
    {
     "name": "stdout",
     "output_type": "stream",
     "text": [
      "THE DART HAS RUN ON 0 DAYS IN THE LAST WEEK\n",
      "THE DART HAS RUN ON 4 DAYS IN THE LAST MONTH\n"
     ]
    }
   ],
   "source": [
    "# NUMBER OF DAYS THAT THE DART HAS RUN IN DATA\n",
    "df_days = df_all.resample('D').max()\n",
    "#print len(df_days[df_days.level > 0.7])\n",
    "\n",
    "\n",
    "# NUMBER OF DAYS THAT THE DART HAS RUN IN LAST WEEK\n",
    "df_last_week = df_days[(current_time - df_days.index) < np.timedelta64(7,'D')]\n",
    "print 'THE DART HAS RUN ON ' + str(len(df_last_week[df_last_week.level > 0.7])) + ' DAYS IN THE LAST WEEK'\n",
    "\n",
    "# NUMBER OF DAYS THAT DART HAS RUN IN LAST MONTH\n",
    "df_last_month = df_days[(current_time - df_days.index) < np.timedelta64(30,'D')]\n",
    "print 'THE DART HAS RUN ON ' + str(len(df_last_month[df_last_month.level > 0.7])) + ' DAYS IN THE LAST MONTH'\n"
   ]
  },
  {
   "cell_type": "code",
   "execution_count": 100,
   "metadata": {
    "collapsed": false
   },
   "outputs": [
    {
     "name": "stdout",
     "output_type": "stream",
     "text": [
      "0\n",
      "136\n"
     ]
    }
   ],
   "source": [
    "# SUM OF RAIN IN THE LAST 24 HOURS ... \n",
    "# ...A bit more tricky, use cum_rain and somehow take out the max from previous day and today and sum \n",
    "\n",
    "# SUM OF RAIN IN THE LAST WEEK\n",
    "print int(round(sum(df_last_week.cum_rain.fillna(0))))\n",
    "\n",
    "# SUM OF RAIN IN THE LAST MONTH\n",
    "print int(round(sum(df_last_month.cum_rain.fillna(0))))\n"
   ]
  },
  {
   "cell_type": "code",
   "execution_count": null,
   "metadata": {
    "collapsed": false
   },
   "outputs": [],
   "source": []
  },
  {
   "cell_type": "code",
   "execution_count": null,
   "metadata": {
    "collapsed": true
   },
   "outputs": [],
   "source": []
  },
  {
   "cell_type": "code",
   "execution_count": null,
   "metadata": {
    "collapsed": true
   },
   "outputs": [],
   "source": []
  },
  {
   "cell_type": "code",
   "execution_count": null,
   "metadata": {
    "collapsed": true
   },
   "outputs": [],
   "source": []
  },
  {
   "cell_type": "code",
   "execution_count": null,
   "metadata": {
    "collapsed": true
   },
   "outputs": [],
   "source": []
  },
  {
   "cell_type": "code",
   "execution_count": null,
   "metadata": {
    "collapsed": true
   },
   "outputs": [],
   "source": []
  },
  {
   "cell_type": "code",
   "execution_count": null,
   "metadata": {
    "collapsed": true
   },
   "outputs": [],
   "source": []
  },
  {
   "cell_type": "code",
   "execution_count": null,
   "metadata": {
    "collapsed": true
   },
   "outputs": [],
   "source": []
  }
 ],
 "metadata": {
  "kernelspec": {
   "display_name": "Python 2",
   "language": "python",
   "name": "python2"
  },
  "language_info": {
   "codemirror_mode": {
    "name": "ipython",
    "version": 2
   },
   "file_extension": ".py",
   "mimetype": "text/x-python",
   "name": "python",
   "nbconvert_exporter": "python",
   "pygments_lexer": "ipython2",
   "version": "2.7.6"
  }
 },
 "nbformat": 4,
 "nbformat_minor": 0
}
